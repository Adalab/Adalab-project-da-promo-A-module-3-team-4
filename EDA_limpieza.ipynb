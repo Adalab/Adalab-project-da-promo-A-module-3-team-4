{
 "cells": [
  {
   "cell_type": "code",
   "execution_count": 1,
   "metadata": {},
   "outputs": [],
   "source": [
    "import pandas as pd\n",
    "import numpy as np\n",
    "import seaborn as sns\n",
    "import datetime as dt\n",
    "import os\n",
    "import matplotlib.pyplot as plt\n",
    "import seaborn as sns"
   ]
  },
  {
   "cell_type": "code",
   "execution_count": 2,
   "metadata": {},
   "outputs": [],
   "source": [
    "plt.rcParams[\"figure.figsize\"] = (10,8)"
   ]
  },
  {
   "cell_type": "code",
   "execution_count": 3,
   "metadata": {},
   "outputs": [
    {
     "data": {
      "text/plain": [
       "'/home/adalaber/Escritorio/ADALAB/LORENA/CLASES/modulo3/proyecto/Adalab-project-da-promo-A-module-3-team-4'"
      ]
     },
     "execution_count": 3,
     "metadata": {},
     "output_type": "execute_result"
    }
   ],
   "source": [
    "os.getcwd()"
   ]
  },
  {
   "cell_type": "code",
   "execution_count": 4,
   "metadata": {},
   "outputs": [],
   "source": [
    "#os.chdir('/mnt/c/Users/User/Desktop/ADALAB/MODULO3/Adalab-project-da-promo-A-module-3-team-4')"
   ]
  },
  {
   "cell_type": "code",
   "execution_count": 5,
   "metadata": {},
   "outputs": [],
   "source": [
    "df = pd.read_csv('datos/bikes.csv', index_col=0)"
   ]
  },
  {
   "cell_type": "code",
   "execution_count": 6,
   "metadata": {},
   "outputs": [
    {
     "data": {
      "text/html": [
       "<div>\n",
       "<style scoped>\n",
       "    .dataframe tbody tr th:only-of-type {\n",
       "        vertical-align: middle;\n",
       "    }\n",
       "\n",
       "    .dataframe tbody tr th {\n",
       "        vertical-align: top;\n",
       "    }\n",
       "\n",
       "    .dataframe thead th {\n",
       "        text-align: right;\n",
       "    }\n",
       "</style>\n",
       "<table border=\"1\" class=\"dataframe\">\n",
       "  <thead>\n",
       "    <tr style=\"text-align: right;\">\n",
       "      <th></th>\n",
       "      <th>instant</th>\n",
       "      <th>dteday</th>\n",
       "      <th>season</th>\n",
       "      <th>yr</th>\n",
       "      <th>mnth</th>\n",
       "      <th>holiday</th>\n",
       "      <th>weekday</th>\n",
       "      <th>workingday</th>\n",
       "      <th>weathersit</th>\n",
       "      <th>temp</th>\n",
       "      <th>atemp</th>\n",
       "      <th>hum</th>\n",
       "      <th>windspeed</th>\n",
       "      <th>casual</th>\n",
       "      <th>registered</th>\n",
       "      <th>cnt</th>\n",
       "    </tr>\n",
       "  </thead>\n",
       "  <tbody>\n",
       "    <tr>\n",
       "      <th>0</th>\n",
       "      <td>1</td>\n",
       "      <td>01-01-2018</td>\n",
       "      <td>spring</td>\n",
       "      <td>0</td>\n",
       "      <td>1</td>\n",
       "      <td>0</td>\n",
       "      <td>6</td>\n",
       "      <td>0</td>\n",
       "      <td>2</td>\n",
       "      <td>14.110847</td>\n",
       "      <td>18.18125</td>\n",
       "      <td>80.5833</td>\n",
       "      <td>10.749882</td>\n",
       "      <td>331</td>\n",
       "      <td>654</td>\n",
       "      <td>985</td>\n",
       "    </tr>\n",
       "    <tr>\n",
       "      <th>1</th>\n",
       "      <td>2</td>\n",
       "      <td>02-01-2018</td>\n",
       "      <td>spring</td>\n",
       "      <td>0</td>\n",
       "      <td>1</td>\n",
       "      <td>0</td>\n",
       "      <td>0</td>\n",
       "      <td>0</td>\n",
       "      <td>2</td>\n",
       "      <td>14.902598</td>\n",
       "      <td>17.68695</td>\n",
       "      <td>69.6087</td>\n",
       "      <td>16.652113</td>\n",
       "      <td>131</td>\n",
       "      <td>670</td>\n",
       "      <td>801</td>\n",
       "    </tr>\n",
       "  </tbody>\n",
       "</table>\n",
       "</div>"
      ],
      "text/plain": [
       "   instant      dteday  season  yr  mnth  holiday  weekday  workingday  \\\n",
       "0        1  01-01-2018  spring   0     1        0        6           0   \n",
       "1        2  02-01-2018  spring   0     1        0        0           0   \n",
       "\n",
       "   weathersit       temp     atemp      hum  windspeed  casual  registered  \\\n",
       "0           2  14.110847  18.18125  80.5833  10.749882     331         654   \n",
       "1           2  14.902598  17.68695  69.6087  16.652113     131         670   \n",
       "\n",
       "   cnt  \n",
       "0  985  \n",
       "1  801  "
      ]
     },
     "execution_count": 6,
     "metadata": {},
     "output_type": "execute_result"
    }
   ],
   "source": [
    "df.head(2)"
   ]
  },
  {
   "attachments": {},
   "cell_type": "markdown",
   "metadata": {},
   "source": [
    "- instant: record index\n",
    "- dteday : date\n",
    "- season : season (spring, summer, autumn, winter)\n",
    "- yr : year (0: 2018, 1:2019)\n",
    "- mnth : month ( 1 to 12)\n",
    "- holiday : weather day is a holiday or not (extracted from http://dchr.dc.gov/page/holiday-schedule)\n",
    "- weekday : day of the week\n",
    "- workingday : if day is neither weekend nor holiday is 1, otherwise is 0.\n",
    "+ weathersit : \n",
    "    - 1: Clear, Few clouds, Partly cloudy, Partly cloudy\n",
    "    - 2: Mist + Cloudy, Mist + Broken clouds, Mist + Few clouds, Mist\n",
    "    - 3: Light Snow, Light Rain + Thunderstorm + Scattered clouds, Light Rain + Scattered clouds\n",
    "    - 4: Heavy Rain + Ice Pallets + Thunderstorm + Mist, Snow + Fog\n",
    "- temp : temperature in Celsius\n",
    "- atemp: feeling temperature in Celsius\n",
    "- hum: humidity\n",
    "- windspeed: wind speed\n",
    "- casual: count of casual users\n",
    "- registered: count of registered users\n",
    "- cnt: count of total rental bikes including both casual and registered"
   ]
  },
  {
   "attachments": {},
   "cell_type": "markdown",
   "metadata": {},
   "source": [
    "# Exploración Inicial"
   ]
  },
  {
   "cell_type": "code",
   "execution_count": 7,
   "metadata": {},
   "outputs": [
    {
     "data": {
      "text/plain": [
       "(730, 16)"
      ]
     },
     "execution_count": 7,
     "metadata": {},
     "output_type": "execute_result"
    }
   ],
   "source": [
    "df.shape"
   ]
  },
  {
   "cell_type": "code",
   "execution_count": 8,
   "metadata": {},
   "outputs": [
    {
     "name": "stdout",
     "output_type": "stream",
     "text": [
      "<class 'pandas.core.frame.DataFrame'>\n",
      "Int64Index: 730 entries, 0 to 729\n",
      "Data columns (total 16 columns):\n",
      " #   Column      Non-Null Count  Dtype  \n",
      "---  ------      --------------  -----  \n",
      " 0   instant     730 non-null    int64  \n",
      " 1   dteday      730 non-null    object \n",
      " 2   season      730 non-null    object \n",
      " 3   yr          730 non-null    int64  \n",
      " 4   mnth        730 non-null    int64  \n",
      " 5   holiday     730 non-null    int64  \n",
      " 6   weekday     730 non-null    int64  \n",
      " 7   workingday  730 non-null    int64  \n",
      " 8   weathersit  730 non-null    int64  \n",
      " 9   temp        730 non-null    float64\n",
      " 10  atemp       730 non-null    float64\n",
      " 11  hum         730 non-null    float64\n",
      " 12  windspeed   730 non-null    float64\n",
      " 13  casual      730 non-null    int64  \n",
      " 14  registered  730 non-null    int64  \n",
      " 15  cnt         730 non-null    int64  \n",
      "dtypes: float64(4), int64(10), object(2)\n",
      "memory usage: 97.0+ KB\n"
     ]
    }
   ],
   "source": [
    "df.info()"
   ]
  },
  {
   "cell_type": "code",
   "execution_count": 9,
   "metadata": {},
   "outputs": [
    {
     "data": {
      "text/html": [
       "<div>\n",
       "<style scoped>\n",
       "    .dataframe tbody tr th:only-of-type {\n",
       "        vertical-align: middle;\n",
       "    }\n",
       "\n",
       "    .dataframe tbody tr th {\n",
       "        vertical-align: top;\n",
       "    }\n",
       "\n",
       "    .dataframe thead th {\n",
       "        text-align: right;\n",
       "    }\n",
       "</style>\n",
       "<table border=\"1\" class=\"dataframe\">\n",
       "  <thead>\n",
       "    <tr style=\"text-align: right;\">\n",
       "      <th></th>\n",
       "      <th>count</th>\n",
       "      <th>mean</th>\n",
       "      <th>std</th>\n",
       "      <th>min</th>\n",
       "      <th>25%</th>\n",
       "      <th>50%</th>\n",
       "      <th>75%</th>\n",
       "      <th>max</th>\n",
       "    </tr>\n",
       "  </thead>\n",
       "  <tbody>\n",
       "    <tr>\n",
       "      <th>instant</th>\n",
       "      <td>730.0</td>\n",
       "      <td>365.500000</td>\n",
       "      <td>210.877136</td>\n",
       "      <td>1.000000</td>\n",
       "      <td>183.250000</td>\n",
       "      <td>365.500000</td>\n",
       "      <td>547.750000</td>\n",
       "      <td>730.000000</td>\n",
       "    </tr>\n",
       "    <tr>\n",
       "      <th>yr</th>\n",
       "      <td>730.0</td>\n",
       "      <td>0.500000</td>\n",
       "      <td>0.500343</td>\n",
       "      <td>0.000000</td>\n",
       "      <td>0.000000</td>\n",
       "      <td>0.500000</td>\n",
       "      <td>1.000000</td>\n",
       "      <td>1.000000</td>\n",
       "    </tr>\n",
       "    <tr>\n",
       "      <th>mnth</th>\n",
       "      <td>730.0</td>\n",
       "      <td>6.526027</td>\n",
       "      <td>3.450215</td>\n",
       "      <td>1.000000</td>\n",
       "      <td>4.000000</td>\n",
       "      <td>7.000000</td>\n",
       "      <td>10.000000</td>\n",
       "      <td>12.000000</td>\n",
       "    </tr>\n",
       "    <tr>\n",
       "      <th>holiday</th>\n",
       "      <td>730.0</td>\n",
       "      <td>0.028767</td>\n",
       "      <td>0.167266</td>\n",
       "      <td>0.000000</td>\n",
       "      <td>0.000000</td>\n",
       "      <td>0.000000</td>\n",
       "      <td>0.000000</td>\n",
       "      <td>1.000000</td>\n",
       "    </tr>\n",
       "    <tr>\n",
       "      <th>weekday</th>\n",
       "      <td>730.0</td>\n",
       "      <td>2.997260</td>\n",
       "      <td>2.006161</td>\n",
       "      <td>0.000000</td>\n",
       "      <td>1.000000</td>\n",
       "      <td>3.000000</td>\n",
       "      <td>5.000000</td>\n",
       "      <td>6.000000</td>\n",
       "    </tr>\n",
       "    <tr>\n",
       "      <th>workingday</th>\n",
       "      <td>730.0</td>\n",
       "      <td>0.683562</td>\n",
       "      <td>0.465405</td>\n",
       "      <td>0.000000</td>\n",
       "      <td>0.000000</td>\n",
       "      <td>1.000000</td>\n",
       "      <td>1.000000</td>\n",
       "      <td>1.000000</td>\n",
       "    </tr>\n",
       "    <tr>\n",
       "      <th>weathersit</th>\n",
       "      <td>730.0</td>\n",
       "      <td>1.394521</td>\n",
       "      <td>0.544807</td>\n",
       "      <td>1.000000</td>\n",
       "      <td>1.000000</td>\n",
       "      <td>1.000000</td>\n",
       "      <td>2.000000</td>\n",
       "      <td>3.000000</td>\n",
       "    </tr>\n",
       "    <tr>\n",
       "      <th>temp</th>\n",
       "      <td>730.0</td>\n",
       "      <td>20.319259</td>\n",
       "      <td>7.506729</td>\n",
       "      <td>2.424346</td>\n",
       "      <td>13.811885</td>\n",
       "      <td>20.465826</td>\n",
       "      <td>26.880615</td>\n",
       "      <td>35.328347</td>\n",
       "    </tr>\n",
       "    <tr>\n",
       "      <th>atemp</th>\n",
       "      <td>730.0</td>\n",
       "      <td>23.726322</td>\n",
       "      <td>8.150308</td>\n",
       "      <td>3.953480</td>\n",
       "      <td>16.889713</td>\n",
       "      <td>24.368225</td>\n",
       "      <td>30.445775</td>\n",
       "      <td>42.044800</td>\n",
       "    </tr>\n",
       "    <tr>\n",
       "      <th>hum</th>\n",
       "      <td>730.0</td>\n",
       "      <td>62.765175</td>\n",
       "      <td>14.237589</td>\n",
       "      <td>0.000000</td>\n",
       "      <td>52.000000</td>\n",
       "      <td>62.625000</td>\n",
       "      <td>72.989575</td>\n",
       "      <td>97.250000</td>\n",
       "    </tr>\n",
       "    <tr>\n",
       "      <th>windspeed</th>\n",
       "      <td>730.0</td>\n",
       "      <td>12.763620</td>\n",
       "      <td>5.195841</td>\n",
       "      <td>1.500244</td>\n",
       "      <td>9.041650</td>\n",
       "      <td>12.125325</td>\n",
       "      <td>15.625589</td>\n",
       "      <td>34.000021</td>\n",
       "    </tr>\n",
       "    <tr>\n",
       "      <th>casual</th>\n",
       "      <td>730.0</td>\n",
       "      <td>849.249315</td>\n",
       "      <td>686.479875</td>\n",
       "      <td>2.000000</td>\n",
       "      <td>316.250000</td>\n",
       "      <td>717.000000</td>\n",
       "      <td>1096.500000</td>\n",
       "      <td>3410.000000</td>\n",
       "    </tr>\n",
       "    <tr>\n",
       "      <th>registered</th>\n",
       "      <td>730.0</td>\n",
       "      <td>3658.757534</td>\n",
       "      <td>1559.758728</td>\n",
       "      <td>20.000000</td>\n",
       "      <td>2502.250000</td>\n",
       "      <td>3664.500000</td>\n",
       "      <td>4783.250000</td>\n",
       "      <td>6946.000000</td>\n",
       "    </tr>\n",
       "    <tr>\n",
       "      <th>cnt</th>\n",
       "      <td>730.0</td>\n",
       "      <td>4508.006849</td>\n",
       "      <td>1936.011647</td>\n",
       "      <td>22.000000</td>\n",
       "      <td>3169.750000</td>\n",
       "      <td>4548.500000</td>\n",
       "      <td>5966.000000</td>\n",
       "      <td>8714.000000</td>\n",
       "    </tr>\n",
       "  </tbody>\n",
       "</table>\n",
       "</div>"
      ],
      "text/plain": [
       "            count         mean          std        min          25%  \\\n",
       "instant     730.0   365.500000   210.877136   1.000000   183.250000   \n",
       "yr          730.0     0.500000     0.500343   0.000000     0.000000   \n",
       "mnth        730.0     6.526027     3.450215   1.000000     4.000000   \n",
       "holiday     730.0     0.028767     0.167266   0.000000     0.000000   \n",
       "weekday     730.0     2.997260     2.006161   0.000000     1.000000   \n",
       "workingday  730.0     0.683562     0.465405   0.000000     0.000000   \n",
       "weathersit  730.0     1.394521     0.544807   1.000000     1.000000   \n",
       "temp        730.0    20.319259     7.506729   2.424346    13.811885   \n",
       "atemp       730.0    23.726322     8.150308   3.953480    16.889713   \n",
       "hum         730.0    62.765175    14.237589   0.000000    52.000000   \n",
       "windspeed   730.0    12.763620     5.195841   1.500244     9.041650   \n",
       "casual      730.0   849.249315   686.479875   2.000000   316.250000   \n",
       "registered  730.0  3658.757534  1559.758728  20.000000  2502.250000   \n",
       "cnt         730.0  4508.006849  1936.011647  22.000000  3169.750000   \n",
       "\n",
       "                    50%          75%          max  \n",
       "instant      365.500000   547.750000   730.000000  \n",
       "yr             0.500000     1.000000     1.000000  \n",
       "mnth           7.000000    10.000000    12.000000  \n",
       "holiday        0.000000     0.000000     1.000000  \n",
       "weekday        3.000000     5.000000     6.000000  \n",
       "workingday     1.000000     1.000000     1.000000  \n",
       "weathersit     1.000000     2.000000     3.000000  \n",
       "temp          20.465826    26.880615    35.328347  \n",
       "atemp         24.368225    30.445775    42.044800  \n",
       "hum           62.625000    72.989575    97.250000  \n",
       "windspeed     12.125325    15.625589    34.000021  \n",
       "casual       717.000000  1096.500000  3410.000000  \n",
       "registered  3664.500000  4783.250000  6946.000000  \n",
       "cnt         4548.500000  5966.000000  8714.000000  "
      ]
     },
     "execution_count": 9,
     "metadata": {},
     "output_type": "execute_result"
    }
   ],
   "source": [
    "df.describe().T"
   ]
  },
  {
   "cell_type": "code",
   "execution_count": 10,
   "metadata": {},
   "outputs": [
    {
     "data": {
      "text/plain": [
       "0"
      ]
     },
     "execution_count": 10,
     "metadata": {},
     "output_type": "execute_result"
    }
   ],
   "source": [
    "df.duplicated().sum()"
   ]
  },
  {
   "cell_type": "code",
   "execution_count": 11,
   "metadata": {},
   "outputs": [
    {
     "data": {
      "text/html": [
       "<div>\n",
       "<style scoped>\n",
       "    .dataframe tbody tr th:only-of-type {\n",
       "        vertical-align: middle;\n",
       "    }\n",
       "\n",
       "    .dataframe tbody tr th {\n",
       "        vertical-align: top;\n",
       "    }\n",
       "\n",
       "    .dataframe thead th {\n",
       "        text-align: right;\n",
       "    }\n",
       "</style>\n",
       "<table border=\"1\" class=\"dataframe\">\n",
       "  <thead>\n",
       "    <tr style=\"text-align: right;\">\n",
       "      <th></th>\n",
       "      <th>dteday</th>\n",
       "      <th>season</th>\n",
       "    </tr>\n",
       "  </thead>\n",
       "  <tbody>\n",
       "    <tr>\n",
       "      <th>0</th>\n",
       "      <td>01-01-2018</td>\n",
       "      <td>spring</td>\n",
       "    </tr>\n",
       "    <tr>\n",
       "      <th>1</th>\n",
       "      <td>02-01-2018</td>\n",
       "      <td>spring</td>\n",
       "    </tr>\n",
       "    <tr>\n",
       "      <th>2</th>\n",
       "      <td>03-01-2018</td>\n",
       "      <td>spring</td>\n",
       "    </tr>\n",
       "    <tr>\n",
       "      <th>3</th>\n",
       "      <td>04-01-2018</td>\n",
       "      <td>spring</td>\n",
       "    </tr>\n",
       "    <tr>\n",
       "      <th>4</th>\n",
       "      <td>05-01-2018</td>\n",
       "      <td>spring</td>\n",
       "    </tr>\n",
       "  </tbody>\n",
       "</table>\n",
       "</div>"
      ],
      "text/plain": [
       "       dteday  season\n",
       "0  01-01-2018  spring\n",
       "1  02-01-2018  spring\n",
       "2  03-01-2018  spring\n",
       "3  04-01-2018  spring\n",
       "4  05-01-2018  spring"
      ]
     },
     "execution_count": 11,
     "metadata": {},
     "output_type": "execute_result"
    }
   ],
   "source": [
    "df_cat = df.select_dtypes(include='object')\n",
    "df_cat.head()"
   ]
  },
  {
   "cell_type": "code",
   "execution_count": 12,
   "metadata": {},
   "outputs": [
    {
     "data": {
      "text/html": [
       "<div>\n",
       "<style scoped>\n",
       "    .dataframe tbody tr th:only-of-type {\n",
       "        vertical-align: middle;\n",
       "    }\n",
       "\n",
       "    .dataframe tbody tr th {\n",
       "        vertical-align: top;\n",
       "    }\n",
       "\n",
       "    .dataframe thead th {\n",
       "        text-align: right;\n",
       "    }\n",
       "</style>\n",
       "<table border=\"1\" class=\"dataframe\">\n",
       "  <thead>\n",
       "    <tr style=\"text-align: right;\">\n",
       "      <th></th>\n",
       "      <th>instant</th>\n",
       "      <th>yr</th>\n",
       "      <th>mnth</th>\n",
       "      <th>holiday</th>\n",
       "      <th>weekday</th>\n",
       "      <th>workingday</th>\n",
       "      <th>weathersit</th>\n",
       "      <th>temp</th>\n",
       "      <th>atemp</th>\n",
       "      <th>hum</th>\n",
       "      <th>windspeed</th>\n",
       "      <th>casual</th>\n",
       "      <th>registered</th>\n",
       "      <th>cnt</th>\n",
       "    </tr>\n",
       "  </thead>\n",
       "  <tbody>\n",
       "    <tr>\n",
       "      <th>0</th>\n",
       "      <td>1</td>\n",
       "      <td>0</td>\n",
       "      <td>1</td>\n",
       "      <td>0</td>\n",
       "      <td>6</td>\n",
       "      <td>0</td>\n",
       "      <td>2</td>\n",
       "      <td>14.110847</td>\n",
       "      <td>18.18125</td>\n",
       "      <td>80.5833</td>\n",
       "      <td>10.749882</td>\n",
       "      <td>331</td>\n",
       "      <td>654</td>\n",
       "      <td>985</td>\n",
       "    </tr>\n",
       "    <tr>\n",
       "      <th>1</th>\n",
       "      <td>2</td>\n",
       "      <td>0</td>\n",
       "      <td>1</td>\n",
       "      <td>0</td>\n",
       "      <td>0</td>\n",
       "      <td>0</td>\n",
       "      <td>2</td>\n",
       "      <td>14.902598</td>\n",
       "      <td>17.68695</td>\n",
       "      <td>69.6087</td>\n",
       "      <td>16.652113</td>\n",
       "      <td>131</td>\n",
       "      <td>670</td>\n",
       "      <td>801</td>\n",
       "    </tr>\n",
       "    <tr>\n",
       "      <th>2</th>\n",
       "      <td>3</td>\n",
       "      <td>0</td>\n",
       "      <td>1</td>\n",
       "      <td>0</td>\n",
       "      <td>1</td>\n",
       "      <td>1</td>\n",
       "      <td>1</td>\n",
       "      <td>8.050924</td>\n",
       "      <td>9.47025</td>\n",
       "      <td>43.7273</td>\n",
       "      <td>16.636703</td>\n",
       "      <td>120</td>\n",
       "      <td>1229</td>\n",
       "      <td>1349</td>\n",
       "    </tr>\n",
       "    <tr>\n",
       "      <th>3</th>\n",
       "      <td>4</td>\n",
       "      <td>0</td>\n",
       "      <td>1</td>\n",
       "      <td>0</td>\n",
       "      <td>2</td>\n",
       "      <td>1</td>\n",
       "      <td>1</td>\n",
       "      <td>8.200000</td>\n",
       "      <td>10.60610</td>\n",
       "      <td>59.0435</td>\n",
       "      <td>10.739832</td>\n",
       "      <td>108</td>\n",
       "      <td>1454</td>\n",
       "      <td>1562</td>\n",
       "    </tr>\n",
       "    <tr>\n",
       "      <th>4</th>\n",
       "      <td>5</td>\n",
       "      <td>0</td>\n",
       "      <td>1</td>\n",
       "      <td>0</td>\n",
       "      <td>3</td>\n",
       "      <td>1</td>\n",
       "      <td>1</td>\n",
       "      <td>9.305237</td>\n",
       "      <td>11.46350</td>\n",
       "      <td>43.6957</td>\n",
       "      <td>12.522300</td>\n",
       "      <td>82</td>\n",
       "      <td>1518</td>\n",
       "      <td>1600</td>\n",
       "    </tr>\n",
       "  </tbody>\n",
       "</table>\n",
       "</div>"
      ],
      "text/plain": [
       "   instant  yr  mnth  holiday  weekday  workingday  weathersit       temp  \\\n",
       "0        1   0     1        0        6           0           2  14.110847   \n",
       "1        2   0     1        0        0           0           2  14.902598   \n",
       "2        3   0     1        0        1           1           1   8.050924   \n",
       "3        4   0     1        0        2           1           1   8.200000   \n",
       "4        5   0     1        0        3           1           1   9.305237   \n",
       "\n",
       "      atemp      hum  windspeed  casual  registered   cnt  \n",
       "0  18.18125  80.5833  10.749882     331         654   985  \n",
       "1  17.68695  69.6087  16.652113     131         670   801  \n",
       "2   9.47025  43.7273  16.636703     120        1229  1349  \n",
       "3  10.60610  59.0435  10.739832     108        1454  1562  \n",
       "4  11.46350  43.6957  12.522300      82        1518  1600  "
      ]
     },
     "execution_count": 12,
     "metadata": {},
     "output_type": "execute_result"
    }
   ],
   "source": [
    "df_num = df.select_dtypes(include=np.number)\n",
    "df_num.head()"
   ]
  },
  {
   "cell_type": "code",
   "execution_count": 13,
   "metadata": {},
   "outputs": [],
   "source": [
    "# creamos un diccionario para renombrar las columnas\n",
    "\n",
    "dicc_columnas = {'instant': 'indice',\n",
    "'dteday' : 'fecha',\n",
    "'season' : 'estacion',\n",
    "'yr' : 'año',\n",
    "'mnth' : 'mes',\n",
    "'holiday' : 'festivo', \n",
    "'weekday' : 'dia_semana',\n",
    "'workingday' : 'dia_laboral',\n",
    "'weathersit' : 'tiempo',\n",
    "'temp' : 'temperatura',\n",
    "'atemp': 'sensacion_term',\n",
    "'hum': 'humedad',\n",
    "'windspeed': 'velocidad_viento',\n",
    "'casual': 'cliente_casual',\n",
    "'registered': 'cliente_registrado',\n",
    "'cnt': 'total_clientes'}"
   ]
  },
  {
   "cell_type": "code",
   "execution_count": 14,
   "metadata": {},
   "outputs": [],
   "source": [
    "# renombramos las columnas segun el diccionario \n",
    "\n",
    "df.rename(columns = dicc_columnas, inplace=True)"
   ]
  },
  {
   "cell_type": "code",
   "execution_count": 15,
   "metadata": {},
   "outputs": [],
   "source": [
    "# ponemos la nueva columna 'index' como indice\n",
    "\n",
    "df.set_index('indice', inplace=True)"
   ]
  },
  {
   "cell_type": "code",
   "execution_count": 16,
   "metadata": {},
   "outputs": [
    {
     "data": {
      "text/html": [
       "<div>\n",
       "<style scoped>\n",
       "    .dataframe tbody tr th:only-of-type {\n",
       "        vertical-align: middle;\n",
       "    }\n",
       "\n",
       "    .dataframe tbody tr th {\n",
       "        vertical-align: top;\n",
       "    }\n",
       "\n",
       "    .dataframe thead th {\n",
       "        text-align: right;\n",
       "    }\n",
       "</style>\n",
       "<table border=\"1\" class=\"dataframe\">\n",
       "  <thead>\n",
       "    <tr style=\"text-align: right;\">\n",
       "      <th></th>\n",
       "      <th>fecha</th>\n",
       "      <th>estacion</th>\n",
       "      <th>año</th>\n",
       "      <th>mes</th>\n",
       "      <th>festivo</th>\n",
       "      <th>dia_semana</th>\n",
       "      <th>dia_laboral</th>\n",
       "      <th>tiempo</th>\n",
       "      <th>temperatura</th>\n",
       "      <th>sensacion_term</th>\n",
       "      <th>humedad</th>\n",
       "      <th>velocidad_viento</th>\n",
       "      <th>cliente_casual</th>\n",
       "      <th>cliente_registrado</th>\n",
       "      <th>total_clientes</th>\n",
       "    </tr>\n",
       "    <tr>\n",
       "      <th>indice</th>\n",
       "      <th></th>\n",
       "      <th></th>\n",
       "      <th></th>\n",
       "      <th></th>\n",
       "      <th></th>\n",
       "      <th></th>\n",
       "      <th></th>\n",
       "      <th></th>\n",
       "      <th></th>\n",
       "      <th></th>\n",
       "      <th></th>\n",
       "      <th></th>\n",
       "      <th></th>\n",
       "      <th></th>\n",
       "      <th></th>\n",
       "    </tr>\n",
       "  </thead>\n",
       "  <tbody>\n",
       "    <tr>\n",
       "      <th>1</th>\n",
       "      <td>01-01-2018</td>\n",
       "      <td>spring</td>\n",
       "      <td>0</td>\n",
       "      <td>1</td>\n",
       "      <td>0</td>\n",
       "      <td>6</td>\n",
       "      <td>0</td>\n",
       "      <td>2</td>\n",
       "      <td>14.110847</td>\n",
       "      <td>18.18125</td>\n",
       "      <td>80.5833</td>\n",
       "      <td>10.749882</td>\n",
       "      <td>331</td>\n",
       "      <td>654</td>\n",
       "      <td>985</td>\n",
       "    </tr>\n",
       "    <tr>\n",
       "      <th>2</th>\n",
       "      <td>02-01-2018</td>\n",
       "      <td>spring</td>\n",
       "      <td>0</td>\n",
       "      <td>1</td>\n",
       "      <td>0</td>\n",
       "      <td>0</td>\n",
       "      <td>0</td>\n",
       "      <td>2</td>\n",
       "      <td>14.902598</td>\n",
       "      <td>17.68695</td>\n",
       "      <td>69.6087</td>\n",
       "      <td>16.652113</td>\n",
       "      <td>131</td>\n",
       "      <td>670</td>\n",
       "      <td>801</td>\n",
       "    </tr>\n",
       "  </tbody>\n",
       "</table>\n",
       "</div>"
      ],
      "text/plain": [
       "             fecha estacion  año  mes  festivo  dia_semana  dia_laboral  \\\n",
       "indice                                                                    \n",
       "1       01-01-2018   spring    0    1        0           6            0   \n",
       "2       02-01-2018   spring    0    1        0           0            0   \n",
       "\n",
       "        tiempo  temperatura  sensacion_term  humedad  velocidad_viento  \\\n",
       "indice                                                                   \n",
       "1            2    14.110847        18.18125  80.5833         10.749882   \n",
       "2            2    14.902598        17.68695  69.6087         16.652113   \n",
       "\n",
       "        cliente_casual  cliente_registrado  total_clientes  \n",
       "indice                                                      \n",
       "1                  331                 654             985  \n",
       "2                  131                 670             801  "
      ]
     },
     "execution_count": 16,
     "metadata": {},
     "output_type": "execute_result"
    }
   ],
   "source": [
    "df.head(2)"
   ]
  },
  {
   "cell_type": "code",
   "execution_count": 17,
   "metadata": {},
   "outputs": [
    {
     "data": {
      "text/plain": [
       "fecha                  object\n",
       "estacion               object\n",
       "año                     int64\n",
       "mes                     int64\n",
       "festivo                 int64\n",
       "dia_semana              int64\n",
       "dia_laboral             int64\n",
       "tiempo                  int64\n",
       "temperatura           float64\n",
       "sensacion_term        float64\n",
       "humedad               float64\n",
       "velocidad_viento      float64\n",
       "cliente_casual          int64\n",
       "cliente_registrado      int64\n",
       "total_clientes          int64\n",
       "dtype: object"
      ]
     },
     "execution_count": 17,
     "metadata": {},
     "output_type": "execute_result"
    }
   ],
   "source": [
    "# inspeccionamos los tipos de datos de las columnas\n",
    "df.dtypes"
   ]
  },
  {
   "cell_type": "code",
   "execution_count": 18,
   "metadata": {},
   "outputs": [
    {
     "name": "stderr",
     "output_type": "stream",
     "text": [
      "/tmp/ipykernel_16261/3123217447.py:3: UserWarning: Parsing dates in DD/MM/YYYY format when dayfirst=False (the default) was specified. This may lead to inconsistently parsed dates! Specify a format to ensure consistent parsing.\n",
      "  df['fecha'] = df['fecha'].apply(pd.to_datetime)\n"
     ]
    }
   ],
   "source": [
    "# convertimos la columna fecha a tipo datetime\n",
    "\n",
    "df['fecha'] = df['fecha'].apply(pd.to_datetime)"
   ]
  },
  {
   "cell_type": "code",
   "execution_count": 19,
   "metadata": {},
   "outputs": [],
   "source": [
    "# funcion para sacar el año con un apply\n",
    "\n",
    "def sacar_año(x):\n",
    "    return x.strftime('%Y')"
   ]
  },
  {
   "cell_type": "code",
   "execution_count": 20,
   "metadata": {},
   "outputs": [],
   "source": [
    "# funcion para sacar el mes con un apply\n",
    "\n",
    "def sacar_mes(x):\n",
    "    return x.strftime('%B')"
   ]
  },
  {
   "cell_type": "code",
   "execution_count": 21,
   "metadata": {},
   "outputs": [],
   "source": [
    "# sobreescribimos la columna del año sacando el año directamente de la fecha\n",
    "\n",
    "df['año'] = df['fecha'].apply(sacar_año)"
   ]
  },
  {
   "cell_type": "code",
   "execution_count": 22,
   "metadata": {},
   "outputs": [],
   "source": [
    "# sobreescribimos la columna de meses sacando el mes directamente de la fecha\n",
    "\n",
    "df['mes'] = df['fecha'].apply(sacar_mes)"
   ]
  },
  {
   "cell_type": "code",
   "execution_count": 23,
   "metadata": {},
   "outputs": [],
   "source": [
    "def estacion(x):\n",
    "    if x.strftime('%m-%d') <= '03-20':\n",
    "        return 'invierno'\n",
    "    elif x.strftime('%m-%d') <= '06-20':\n",
    "        return 'primavera'\n",
    "    elif x.strftime('%m-%d') <= '09-20' :\n",
    "        return 'verano'\n",
    "    elif x.strftime('%m-%d') <= '12-20':\n",
    "        return 'otoño'\n",
    "    elif x.strftime('%m-%d') <= '12-31':\n",
    "        return 'invierno'"
   ]
  },
  {
   "cell_type": "code",
   "execution_count": 24,
   "metadata": {},
   "outputs": [],
   "source": [
    "df['estacion'] = df['fecha'].apply(estacion)"
   ]
  },
  {
   "cell_type": "code",
   "execution_count": 25,
   "metadata": {},
   "outputs": [
    {
     "data": {
      "text/plain": [
       "fecha                 datetime64[ns]\n",
       "estacion                      object\n",
       "año                           object\n",
       "mes                           object\n",
       "festivo                        int64\n",
       "dia_semana                     int64\n",
       "dia_laboral                    int64\n",
       "tiempo                         int64\n",
       "temperatura                  float64\n",
       "sensacion_term               float64\n",
       "humedad                      float64\n",
       "velocidad_viento             float64\n",
       "cliente_casual                 int64\n",
       "cliente_registrado             int64\n",
       "total_clientes                 int64\n",
       "dtype: object"
      ]
     },
     "execution_count": 25,
     "metadata": {},
     "output_type": "execute_result"
    }
   ],
   "source": [
    "df.dtypes"
   ]
  },
  {
   "cell_type": "code",
   "execution_count": 26,
   "metadata": {},
   "outputs": [
    {
     "data": {
      "text/plain": [
       "<module 'datetime' from '/home/adalaber/anaconda3/envs/adalabenv/lib/python3.10/datetime.py'>"
      ]
     },
     "execution_count": 26,
     "metadata": {},
     "output_type": "execute_result"
    }
   ],
   "source": [
    "dt"
   ]
  },
  {
   "cell_type": "code",
   "execution_count": 27,
   "metadata": {},
   "outputs": [],
   "source": [
    "df['dia_semana'] = df['fecha'].dt.dayofweek"
   ]
  },
  {
   "cell_type": "code",
   "execution_count": 28,
   "metadata": {},
   "outputs": [
    {
     "data": {
      "text/plain": [
       "indice\n",
       "1      0\n",
       "2      3\n",
       "3      3\n",
       "4      6\n",
       "5      1\n",
       "      ..\n",
       "726    4\n",
       "727    5\n",
       "728    6\n",
       "729    0\n",
       "730    1\n",
       "Name: dia_semana, Length: 730, dtype: int64"
      ]
     },
     "execution_count": 28,
     "metadata": {},
     "output_type": "execute_result"
    }
   ],
   "source": [
    "df['dia_semana']"
   ]
  },
  {
   "cell_type": "code",
   "execution_count": 29,
   "metadata": {},
   "outputs": [],
   "source": [
    "# cambiamos los numeros por días de la semana\n",
    "def cambiar_dias_semana(x):\n",
    "    if x == 0:\n",
    "        return 'Lunes'\n",
    "    elif x ==1:\n",
    "        return 'Martes'\n",
    "    elif x == 2:\n",
    "        return 'Miercoles'\n",
    "    elif x == 3:\n",
    "        return 'Jueves'\n",
    "    elif x == 4:\n",
    "        return 'Viernes'\n",
    "    elif x == 5:\n",
    "        return 'Sabado'\n",
    "    else:\n",
    "        return 'Domingo'\n",
    "    "
   ]
  },
  {
   "cell_type": "code",
   "execution_count": 30,
   "metadata": {},
   "outputs": [],
   "source": [
    "df['dia_semana'] = df['dia_semana'].apply(cambiar_dias_semana)\n"
   ]
  },
  {
   "cell_type": "code",
   "execution_count": 31,
   "metadata": {},
   "outputs": [],
   "source": [
    "# confirmamos que la columna de festivos estaá mal codificada, por lo que creamos un diccionario con los festivos para asignarle los valores correctos con el método .isin()\n",
    "\n",
    "festivos = ['2018-01-01', '2018-01-15', '2018-02-19', '2018-05-28', '2018-07-04', '2018-09-03', '2018-10-08', '2018-11-12', '2018-11-22', '2018-12-25',\n",
    "               '2019-01-01', '2019-01-21', '2019-05-27', '2019-07-04', '2019-09-02', '2019-10-14', '2019-11-11', '2019-11-28', '2019-12-25']"
   ]
  },
  {
   "cell_type": "code",
   "execution_count": 32,
   "metadata": {},
   "outputs": [],
   "source": [
    "\n",
    "df['festivo'] = np.where(df['fecha'].isin(festivos), 1,0)"
   ]
  },
  {
   "cell_type": "code",
   "execution_count": 33,
   "metadata": {},
   "outputs": [],
   "source": [
    "# codificamos bien la columna día laboral (observamos que lunes y sábado están mal codificadas) y lo aplicamos con el método apply\n",
    "\n",
    "def codificar_dias_laborables(dias_semana, festivos):\n",
    "    if festivos == 1:\n",
    "        return 0\n",
    "    elif dias_semana == 'Domingo' or dias_semana == 'Sabado':\n",
    "        return 0\n",
    "    else:\n",
    "        return 1\n",
    "        "
   ]
  },
  {
   "cell_type": "code",
   "execution_count": 34,
   "metadata": {},
   "outputs": [],
   "source": [
    "df['dia_laboral'] = df.apply(lambda x:codificar_dias_laborables(x['dia_semana'], x['festivo']), axis=1)"
   ]
  },
  {
   "cell_type": "code",
   "execution_count": 35,
   "metadata": {},
   "outputs": [
    {
     "data": {
      "text/html": [
       "<div>\n",
       "<style scoped>\n",
       "    .dataframe tbody tr th:only-of-type {\n",
       "        vertical-align: middle;\n",
       "    }\n",
       "\n",
       "    .dataframe tbody tr th {\n",
       "        vertical-align: top;\n",
       "    }\n",
       "\n",
       "    .dataframe thead th {\n",
       "        text-align: right;\n",
       "    }\n",
       "</style>\n",
       "<table border=\"1\" class=\"dataframe\">\n",
       "  <thead>\n",
       "    <tr style=\"text-align: right;\">\n",
       "      <th></th>\n",
       "      <th>fecha</th>\n",
       "      <th>estacion</th>\n",
       "      <th>año</th>\n",
       "      <th>mes</th>\n",
       "      <th>festivo</th>\n",
       "      <th>dia_semana</th>\n",
       "      <th>dia_laboral</th>\n",
       "      <th>tiempo</th>\n",
       "      <th>temperatura</th>\n",
       "      <th>sensacion_term</th>\n",
       "      <th>humedad</th>\n",
       "      <th>velocidad_viento</th>\n",
       "      <th>cliente_casual</th>\n",
       "      <th>cliente_registrado</th>\n",
       "      <th>total_clientes</th>\n",
       "    </tr>\n",
       "    <tr>\n",
       "      <th>indice</th>\n",
       "      <th></th>\n",
       "      <th></th>\n",
       "      <th></th>\n",
       "      <th></th>\n",
       "      <th></th>\n",
       "      <th></th>\n",
       "      <th></th>\n",
       "      <th></th>\n",
       "      <th></th>\n",
       "      <th></th>\n",
       "      <th></th>\n",
       "      <th></th>\n",
       "      <th></th>\n",
       "      <th></th>\n",
       "      <th></th>\n",
       "    </tr>\n",
       "  </thead>\n",
       "  <tbody>\n",
       "    <tr>\n",
       "      <th>1</th>\n",
       "      <td>2018-01-01</td>\n",
       "      <td>invierno</td>\n",
       "      <td>2018</td>\n",
       "      <td>January</td>\n",
       "      <td>1</td>\n",
       "      <td>Lunes</td>\n",
       "      <td>0</td>\n",
       "      <td>2</td>\n",
       "      <td>14.110847</td>\n",
       "      <td>18.18125</td>\n",
       "      <td>80.5833</td>\n",
       "      <td>10.749882</td>\n",
       "      <td>331</td>\n",
       "      <td>654</td>\n",
       "      <td>985</td>\n",
       "    </tr>\n",
       "    <tr>\n",
       "      <th>2</th>\n",
       "      <td>2018-02-01</td>\n",
       "      <td>invierno</td>\n",
       "      <td>2018</td>\n",
       "      <td>February</td>\n",
       "      <td>0</td>\n",
       "      <td>Jueves</td>\n",
       "      <td>1</td>\n",
       "      <td>2</td>\n",
       "      <td>14.902598</td>\n",
       "      <td>17.68695</td>\n",
       "      <td>69.6087</td>\n",
       "      <td>16.652113</td>\n",
       "      <td>131</td>\n",
       "      <td>670</td>\n",
       "      <td>801</td>\n",
       "    </tr>\n",
       "    <tr>\n",
       "      <th>3</th>\n",
       "      <td>2018-03-01</td>\n",
       "      <td>invierno</td>\n",
       "      <td>2018</td>\n",
       "      <td>March</td>\n",
       "      <td>0</td>\n",
       "      <td>Jueves</td>\n",
       "      <td>1</td>\n",
       "      <td>1</td>\n",
       "      <td>8.050924</td>\n",
       "      <td>9.47025</td>\n",
       "      <td>43.7273</td>\n",
       "      <td>16.636703</td>\n",
       "      <td>120</td>\n",
       "      <td>1229</td>\n",
       "      <td>1349</td>\n",
       "    </tr>\n",
       "    <tr>\n",
       "      <th>4</th>\n",
       "      <td>2018-04-01</td>\n",
       "      <td>primavera</td>\n",
       "      <td>2018</td>\n",
       "      <td>April</td>\n",
       "      <td>0</td>\n",
       "      <td>Domingo</td>\n",
       "      <td>0</td>\n",
       "      <td>1</td>\n",
       "      <td>8.200000</td>\n",
       "      <td>10.60610</td>\n",
       "      <td>59.0435</td>\n",
       "      <td>10.739832</td>\n",
       "      <td>108</td>\n",
       "      <td>1454</td>\n",
       "      <td>1562</td>\n",
       "    </tr>\n",
       "    <tr>\n",
       "      <th>5</th>\n",
       "      <td>2018-05-01</td>\n",
       "      <td>primavera</td>\n",
       "      <td>2018</td>\n",
       "      <td>May</td>\n",
       "      <td>0</td>\n",
       "      <td>Martes</td>\n",
       "      <td>1</td>\n",
       "      <td>1</td>\n",
       "      <td>9.305237</td>\n",
       "      <td>11.46350</td>\n",
       "      <td>43.6957</td>\n",
       "      <td>12.522300</td>\n",
       "      <td>82</td>\n",
       "      <td>1518</td>\n",
       "      <td>1600</td>\n",
       "    </tr>\n",
       "  </tbody>\n",
       "</table>\n",
       "</div>"
      ],
      "text/plain": [
       "            fecha   estacion   año       mes  festivo dia_semana  dia_laboral  \\\n",
       "indice                                                                          \n",
       "1      2018-01-01   invierno  2018   January        1      Lunes            0   \n",
       "2      2018-02-01   invierno  2018  February        0     Jueves            1   \n",
       "3      2018-03-01   invierno  2018     March        0     Jueves            1   \n",
       "4      2018-04-01  primavera  2018     April        0    Domingo            0   \n",
       "5      2018-05-01  primavera  2018       May        0     Martes            1   \n",
       "\n",
       "        tiempo  temperatura  sensacion_term  humedad  velocidad_viento  \\\n",
       "indice                                                                   \n",
       "1            2    14.110847        18.18125  80.5833         10.749882   \n",
       "2            2    14.902598        17.68695  69.6087         16.652113   \n",
       "3            1     8.050924         9.47025  43.7273         16.636703   \n",
       "4            1     8.200000        10.60610  59.0435         10.739832   \n",
       "5            1     9.305237        11.46350  43.6957         12.522300   \n",
       "\n",
       "        cliente_casual  cliente_registrado  total_clientes  \n",
       "indice                                                      \n",
       "1                  331                 654             985  \n",
       "2                  131                 670             801  \n",
       "3                  120                1229            1349  \n",
       "4                  108                1454            1562  \n",
       "5                   82                1518            1600  "
      ]
     },
     "execution_count": 35,
     "metadata": {},
     "output_type": "execute_result"
    }
   ],
   "source": [
    "df.head()"
   ]
  },
  {
   "cell_type": "code",
   "execution_count": 36,
   "metadata": {},
   "outputs": [
    {
     "data": {
      "text/plain": [
       "fecha                 datetime64[ns]\n",
       "estacion                      object\n",
       "año                           object\n",
       "mes                           object\n",
       "festivo                        int64\n",
       "dia_semana                    object\n",
       "dia_laboral                    int64\n",
       "tiempo                         int64\n",
       "temperatura                  float64\n",
       "sensacion_term               float64\n",
       "humedad                      float64\n",
       "velocidad_viento             float64\n",
       "cliente_casual                 int64\n",
       "cliente_registrado             int64\n",
       "total_clientes                 int64\n",
       "dtype: object"
      ]
     },
     "execution_count": 36,
     "metadata": {},
     "output_type": "execute_result"
    }
   ],
   "source": [
    "df.dtypes"
   ]
  },
  {
   "cell_type": "code",
   "execution_count": 37,
   "metadata": {},
   "outputs": [],
   "source": [
    "for i in ['festivo', 'dia_laboral', 'tiempo']:\n",
    "    df[i] = df[i].astype('category')"
   ]
  },
  {
   "cell_type": "code",
   "execution_count": 38,
   "metadata": {},
   "outputs": [],
   "source": [
    "df.to_csv('datos/bikes_limpio.csv')"
   ]
  },
  {
   "cell_type": "code",
   "execution_count": 39,
   "metadata": {},
   "outputs": [],
   "source": [
    "df.to_pickle('datos/bikes_limpio.pkl')"
   ]
  },
  {
   "cell_type": "code",
   "execution_count": 40,
   "metadata": {},
   "outputs": [
    {
     "data": {
      "text/html": [
       "<div>\n",
       "<style scoped>\n",
       "    .dataframe tbody tr th:only-of-type {\n",
       "        vertical-align: middle;\n",
       "    }\n",
       "\n",
       "    .dataframe tbody tr th {\n",
       "        vertical-align: top;\n",
       "    }\n",
       "\n",
       "    .dataframe thead th {\n",
       "        text-align: right;\n",
       "    }\n",
       "</style>\n",
       "<table border=\"1\" class=\"dataframe\">\n",
       "  <thead>\n",
       "    <tr style=\"text-align: right;\">\n",
       "      <th></th>\n",
       "      <th>estacion</th>\n",
       "      <th>año</th>\n",
       "      <th>mes</th>\n",
       "      <th>festivo</th>\n",
       "      <th>dia_semana</th>\n",
       "      <th>dia_laboral</th>\n",
       "      <th>tiempo</th>\n",
       "    </tr>\n",
       "    <tr>\n",
       "      <th>indice</th>\n",
       "      <th></th>\n",
       "      <th></th>\n",
       "      <th></th>\n",
       "      <th></th>\n",
       "      <th></th>\n",
       "      <th></th>\n",
       "      <th></th>\n",
       "    </tr>\n",
       "  </thead>\n",
       "  <tbody>\n",
       "    <tr>\n",
       "      <th>1</th>\n",
       "      <td>invierno</td>\n",
       "      <td>2018</td>\n",
       "      <td>January</td>\n",
       "      <td>1</td>\n",
       "      <td>Lunes</td>\n",
       "      <td>0</td>\n",
       "      <td>2</td>\n",
       "    </tr>\n",
       "    <tr>\n",
       "      <th>2</th>\n",
       "      <td>invierno</td>\n",
       "      <td>2018</td>\n",
       "      <td>February</td>\n",
       "      <td>0</td>\n",
       "      <td>Jueves</td>\n",
       "      <td>1</td>\n",
       "      <td>2</td>\n",
       "    </tr>\n",
       "  </tbody>\n",
       "</table>\n",
       "</div>"
      ],
      "text/plain": [
       "        estacion   año       mes festivo dia_semana dia_laboral tiempo\n",
       "indice                                                                \n",
       "1       invierno  2018   January       1      Lunes           0      2\n",
       "2       invierno  2018  February       0     Jueves           1      2"
      ]
     },
     "execution_count": 40,
     "metadata": {},
     "output_type": "execute_result"
    }
   ],
   "source": [
    "df_cat = df.select_dtypes(exclude=np.number).drop('fecha', axis=1)\n",
    "df_cat.head(2)"
   ]
  },
  {
   "cell_type": "code",
   "execution_count": 41,
   "metadata": {},
   "outputs": [
    {
     "name": "stderr",
     "output_type": "stream",
     "text": [
      "/tmp/ipykernel_16261/1602557378.py:1: FutureWarning: The default value of numeric_only in DataFrame.corr is deprecated. In a future version, it will default to False. Select only valid columns or specify the value of numeric_only to silence this warning.\n",
      "  sns.heatmap(df.corr(), annot=True, vmin=-1, vmax=1)\n"
     ]
    },
    {
     "data": {
      "text/plain": [
       "<AxesSubplot:>"
      ]
     },
     "execution_count": 41,
     "metadata": {},
     "output_type": "execute_result"
    },
    {
     "data": {
      "image/png": "[encoded data removed]",
      "text/plain": [
       "<Figure size 1000x800 with 2 Axes>"
      ]
     },
     "metadata": {},
     "output_type": "display_data"
    }
   ],
   "source": [
    "sns.heatmap(df.corr(), annot=True, vmin=-1, vmax=1)"
   ]
  },
  {
   "attachments": {},
   "cell_type": "markdown",
   "metadata": {},
   "source": [
    "- observando las correlaciones, vemos que se podrían eliminar algunas columnas redundantes o que no tienen fuertes correlaciones con las posibles VR:\n",
    "    - sensacion_term (muy parecido a temperatura)\n",
    "    - humedad (muy baja correlación con el numero de clientes)\n",
    "    - velocidad del viento (baja correlación con el numero de clientes)"
   ]
  },
  {
   "cell_type": "code",
   "execution_count": 42,
   "metadata": {},
   "outputs": [
    {
     "data": {
      "text/plain": [
       "1096.5"
      ]
     },
     "execution_count": 42,
     "metadata": {},
     "output_type": "execute_result"
    }
   ],
   "source": [
    "q3 = np.percentile(df[\"cliente_casual\"], 75)\n",
    "q3"
   ]
  },
  {
   "cell_type": "code",
   "execution_count": 43,
   "metadata": {},
   "outputs": [
    {
     "data": {
      "text/plain": [
       "<matplotlib.lines.Line2D at 0x7efbe5923eb0>"
      ]
     },
     "execution_count": 43,
     "metadata": {},
     "output_type": "execute_result"
    },
    {
     "data": {
      "image/png": "[encoded data removed]",
      "text/plain": [
       "<Figure size 1000x800 with 1 Axes>"
      ]
     },
     "metadata": {},
     "output_type": "display_data"
    }
   ],
   "source": [
    "plt.figure()\n",
    "sns.histplot(x='cliente_casual', data=df, kde=True, bins=50)\n",
    "plt.axvline(x= q3, color ='red')"
   ]
  },
  {
   "attachments": {},
   "cell_type": "markdown",
   "metadata": {},
   "source": [
    "- VARIABLES NUMÉRICAS QUE AFECTAN A VRs\n",
    "    - la temperatura\n",
    "- VARIABLES CATEGÓRICAS (QUE HABRÁ QUE CODIFICAR) QUE AFECTAN:\n",
    "    - el tiempo\n",
    "    - festivo\n",
    "    - día_semana/día_laboral"
   ]
  },
  {
   "attachments": {},
   "cell_type": "markdown",
   "metadata": {},
   "source": [
    "- Hemos decidido que vamos a dividir los datos: por clientes casuales y registrados, para hacer dos modelos de predicción distintos, según el tipo de cliente."
   ]
  },
  {
   "attachments": {},
   "cell_type": "markdown",
   "metadata": {},
   "source": [
    "- Dejamos el dataframe listo para trabajar y para ello:\n",
    "  - Tras haber estudiado los datos visualmente (con un heatmap), hemos decidido eliminar la variable \"sensación_térmica\", ya que es la misma información que aparece en temperatura.\n",
    "  - También vemos claro que la columna \"Total\" no nos resulta interesante.\n",
    "  - Del mismo modo, vemos que la variable \"Humedad\" apenas tiene relación con las que serán nuestras VR, por lo tanto, decidimos prescindir de ella."
   ]
  },
  {
   "cell_type": "code",
   "execution_count": 44,
   "metadata": {},
   "outputs": [],
   "source": [
    "#Eliminamos las columnas\n",
    "\n",
    "df.drop(['sensacion_term', 'total_clientes', 'humedad'], axis = 1, inplace=True)"
   ]
  },
  {
   "attachments": {},
   "cell_type": "markdown",
   "metadata": {},
   "source": [
    "# Outliers"
   ]
  },
  {
   "cell_type": "code",
   "execution_count": 45,
   "metadata": {},
   "outputs": [],
   "source": [
    "# Eliminar\n",
    "# Outliers\n",
    "# outlier_step\n",
    "# = 1.5 * IQR calcular outlier step\n",
    "# outliers_data\n",
    "# = df df ['columna'] < Q1\n",
    "# outlier_step ) | df ['columna'] > Q3 +\n",
    "# outlier_step )] identificar datos fuera del\n",
    "# rango del maximo hasta el minimo\n",
    "# lista_outliers_index\n",
    "# = outliers_data .\n",
    "# index) crear una lista de los indices de las\n",
    "# filas con outliers\n",
    "# if\n",
    "# outliers_data.shape [0] >\n",
    "# dicc_indices\n",
    "# [key] =\n",
    "# ( outliers_data.index crear un\n",
    "# diccionario de los indices de las filas con\n",
    "# nulos ; se puede hacer iterando por columnas\n",
    "# valores\n",
    "# = dicc_indices.values sacar todos\n",
    "# los valores e.g. todos los indices\n",
    "# valores\n",
    "# = indice for sublista in valores for\n",
    "# indice in sublista set comprehension para\n",
    "# eliminar duplicados\n",
    "# df_sin_outliers\n",
    "# = df.drop df.index [list\n",
    "# valores crear nuevo dataframe sin outliers"
   ]
  },
  {
   "cell_type": "code",
   "execution_count": 46,
   "metadata": {},
   "outputs": [],
   "source": [
    "q3, q1 = np.percentile(df[\"cliente_casual\"], [75, 25])\n",
    "IQR = q3 - q1"
   ]
  },
  {
   "cell_type": "code",
   "execution_count": 47,
   "metadata": {},
   "outputs": [],
   "source": [
    "outlier_step = 1.5 * IQR"
   ]
  }
 ],
 "metadata": {
  "kernelspec": {
   "display_name": "adalabenv",
   "language": "python",
   "name": "python3"
  },
  "language_info": {
   "codemirror_mode": {
    "name": "ipython",
    "version": 3
   },
   "file_extension": ".py",
   "mimetype": "text/x-python",
   "name": "python",
   "nbconvert_exporter": "python",
   "pygments_lexer": "ipython3",
   "version": "3.10.9"
  },
  "orig_nbformat": 4,
  "vscode": {
   "interpreter": {
    "hash": "0b8bbabd87d3ce636409443d1398e5656bf795e33c753b5e821c4b969f4e6c41"
   }
  }
 },
 "nbformat": 4,
 "nbformat_minor": 2
}
