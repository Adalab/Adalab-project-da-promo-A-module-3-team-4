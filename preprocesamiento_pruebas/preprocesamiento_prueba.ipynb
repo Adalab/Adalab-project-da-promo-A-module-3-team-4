{
 "cells": [
  {
   "cell_type": "code",
   "execution_count": 43,
   "metadata": {},
   "outputs": [],
   "source": [
    "import pandas as pd\n",
    "import numpy as np\n",
    "import seaborn as sns\n",
    "import datetime as dt\n",
    "import os\n",
    "import matplotlib.pyplot as plt\n",
    "import seaborn as sns\n",
    "import researchpy as repr\n",
    "import researchpy as rp\n",
    "from scipy.stats import levene\n",
    "from sklearn.experimental import enable_iterative_imputer\n",
    "from sklearn.impute import IterativeImputer\n",
    "from scipy import stats\n",
    "\n",
    "from sklearn.preprocessing import StandardScaler\n",
    "\n",
    "import os"
   ]
  },
  {
   "cell_type": "code",
   "execution_count": 44,
   "metadata": {},
   "outputs": [],
   "source": [
    "df = pd.read_pickle('../datos/bikes_limpio.pkl') "
   ]
  },
  {
   "cell_type": "code",
   "execution_count": 45,
   "metadata": {},
   "outputs": [
    {
     "data": {
      "text/html": [
       "<div>\n",
       "<style scoped>\n",
       "    .dataframe tbody tr th:only-of-type {\n",
       "        vertical-align: middle;\n",
       "    }\n",
       "\n",
       "    .dataframe tbody tr th {\n",
       "        vertical-align: top;\n",
       "    }\n",
       "\n",
       "    .dataframe thead th {\n",
       "        text-align: right;\n",
       "    }\n",
       "</style>\n",
       "<table border=\"1\" class=\"dataframe\">\n",
       "  <thead>\n",
       "    <tr style=\"text-align: right;\">\n",
       "      <th></th>\n",
       "      <th>fecha</th>\n",
       "      <th>estacion</th>\n",
       "      <th>año</th>\n",
       "      <th>mes</th>\n",
       "      <th>festivo</th>\n",
       "      <th>dia_semana</th>\n",
       "      <th>dia_laboral</th>\n",
       "      <th>tiempo</th>\n",
       "      <th>temperatura</th>\n",
       "      <th>velocidad_viento</th>\n",
       "      <th>cliente_casual</th>\n",
       "      <th>cliente_registrado</th>\n",
       "    </tr>\n",
       "    <tr>\n",
       "      <th>indice</th>\n",
       "      <th></th>\n",
       "      <th></th>\n",
       "      <th></th>\n",
       "      <th></th>\n",
       "      <th></th>\n",
       "      <th></th>\n",
       "      <th></th>\n",
       "      <th></th>\n",
       "      <th></th>\n",
       "      <th></th>\n",
       "      <th></th>\n",
       "      <th></th>\n",
       "    </tr>\n",
       "  </thead>\n",
       "  <tbody>\n",
       "    <tr>\n",
       "      <th>1</th>\n",
       "      <td>2018-01-01</td>\n",
       "      <td>invierno</td>\n",
       "      <td>2018</td>\n",
       "      <td>January</td>\n",
       "      <td>1</td>\n",
       "      <td>Lunes</td>\n",
       "      <td>0</td>\n",
       "      <td>2</td>\n",
       "      <td>14.110847</td>\n",
       "      <td>10.749882</td>\n",
       "      <td>331</td>\n",
       "      <td>654</td>\n",
       "    </tr>\n",
       "    <tr>\n",
       "      <th>2</th>\n",
       "      <td>2018-02-01</td>\n",
       "      <td>invierno</td>\n",
       "      <td>2018</td>\n",
       "      <td>February</td>\n",
       "      <td>0</td>\n",
       "      <td>Jueves</td>\n",
       "      <td>1</td>\n",
       "      <td>2</td>\n",
       "      <td>14.902598</td>\n",
       "      <td>16.652113</td>\n",
       "      <td>131</td>\n",
       "      <td>670</td>\n",
       "    </tr>\n",
       "    <tr>\n",
       "      <th>3</th>\n",
       "      <td>2018-03-01</td>\n",
       "      <td>invierno</td>\n",
       "      <td>2018</td>\n",
       "      <td>March</td>\n",
       "      <td>0</td>\n",
       "      <td>Jueves</td>\n",
       "      <td>1</td>\n",
       "      <td>1</td>\n",
       "      <td>8.050924</td>\n",
       "      <td>16.636703</td>\n",
       "      <td>120</td>\n",
       "      <td>1229</td>\n",
       "    </tr>\n",
       "    <tr>\n",
       "      <th>4</th>\n",
       "      <td>2018-04-01</td>\n",
       "      <td>primavera</td>\n",
       "      <td>2018</td>\n",
       "      <td>April</td>\n",
       "      <td>0</td>\n",
       "      <td>Domingo</td>\n",
       "      <td>0</td>\n",
       "      <td>1</td>\n",
       "      <td>8.200000</td>\n",
       "      <td>10.739832</td>\n",
       "      <td>108</td>\n",
       "      <td>1454</td>\n",
       "    </tr>\n",
       "    <tr>\n",
       "      <th>5</th>\n",
       "      <td>2018-05-01</td>\n",
       "      <td>primavera</td>\n",
       "      <td>2018</td>\n",
       "      <td>May</td>\n",
       "      <td>0</td>\n",
       "      <td>Martes</td>\n",
       "      <td>1</td>\n",
       "      <td>1</td>\n",
       "      <td>9.305237</td>\n",
       "      <td>12.522300</td>\n",
       "      <td>82</td>\n",
       "      <td>1518</td>\n",
       "    </tr>\n",
       "  </tbody>\n",
       "</table>\n",
       "</div>"
      ],
      "text/plain": [
       "            fecha   estacion   año       mes festivo dia_semana dia_laboral  \\\n",
       "indice                                                                        \n",
       "1      2018-01-01   invierno  2018   January       1      Lunes           0   \n",
       "2      2018-02-01   invierno  2018  February       0     Jueves           1   \n",
       "3      2018-03-01   invierno  2018     March       0     Jueves           1   \n",
       "4      2018-04-01  primavera  2018     April       0    Domingo           0   \n",
       "5      2018-05-01  primavera  2018       May       0     Martes           1   \n",
       "\n",
       "       tiempo  temperatura  velocidad_viento  cliente_casual  \\\n",
       "indice                                                         \n",
       "1           2    14.110847         10.749882             331   \n",
       "2           2    14.902598         16.652113             131   \n",
       "3           1     8.050924         16.636703             120   \n",
       "4           1     8.200000         10.739832             108   \n",
       "5           1     9.305237         12.522300              82   \n",
       "\n",
       "        cliente_registrado  \n",
       "indice                      \n",
       "1                      654  \n",
       "2                      670  \n",
       "3                     1229  \n",
       "4                     1454  \n",
       "5                     1518  "
      ]
     },
     "execution_count": 45,
     "metadata": {},
     "output_type": "execute_result"
    }
   ],
   "source": [
    "df.head()"
   ]
  },
  {
   "attachments": {},
   "cell_type": "markdown",
   "metadata": {},
   "source": [
    "# IDENTIFICAR OUTLIERS"
   ]
  },
  {
   "cell_type": "code",
   "execution_count": 46,
   "metadata": {},
   "outputs": [],
   "source": [
    "def detectar_outliers(lista_columnas, dataframe): \n",
    "    \n",
    "    dicc_indices = {} # creamos un diccionario donde almacenaremos índices de los outliers\n",
    "    \n",
    "    # iteramos por la lista de las columnas numéricas de nuestro dataframe\n",
    "    for col in lista_columnas:\n",
    "    \n",
    "        #calculamos los cuartiles Q1 y Q3\n",
    "        Q1 = np.nanpercentile(dataframe[col], 25)\n",
    "        Q3 = np.nanpercentile(dataframe[col], 75)\n",
    "        \n",
    "        # calculamos el rango intercuartil\n",
    "        IQR = Q3 - Q1\n",
    "        \n",
    "        # calculamos los límites\n",
    "        outlier_step = 1.5 * IQR\n",
    "        \n",
    "        # filtramos nuestro dataframe para indentificar los outliers\n",
    "        outliers_data = dataframe[(dataframe[col] < Q1 - outlier_step) | (dataframe[col] > Q3 + outlier_step)]\n",
    "        \n",
    "        \n",
    "        if outliers_data.shape[0] > 0: # chequeamos si nuestro dataframe tiene alguna fila. \n",
    "        \n",
    "            dicc_indices[col] = (list(outliers_data.index)) # si tiene fila es que hay outliers y por lo tanto lo añadimos a nuestro diccionario\n",
    "        \n",
    "\n",
    "    \n",
    "    return dicc_indices"
   ]
  },
  {
   "cell_type": "code",
   "execution_count": 47,
   "metadata": {},
   "outputs": [],
   "source": [
    "numericas = df.select_dtypes(include = np.number)"
   ]
  },
  {
   "cell_type": "code",
   "execution_count": 48,
   "metadata": {},
   "outputs": [],
   "source": [
    "lista_col = list(numericas.columns)"
   ]
  },
  {
   "cell_type": "code",
   "execution_count": 49,
   "metadata": {},
   "outputs": [],
   "source": [
    "diccionario_outliers = detectar_outliers(lista_col, df)"
   ]
  },
  {
   "cell_type": "code",
   "execution_count": 50,
   "metadata": {},
   "outputs": [],
   "source": [
    "# iteramos por el diccionarios y cambiamos los outliers por nulos, para posteriormente poder tratarlos\n",
    " \n",
    "for k, v in diccionario_outliers.items():\n",
    "    for i in v:\n",
    "        df.loc[i,k] = np.nan # usando el loc, reemmplazamos los valores de los outliers por los nulos "
   ]
  },
  {
   "cell_type": "code",
   "execution_count": 51,
   "metadata": {},
   "outputs": [],
   "source": [
    "imputer = IterativeImputer(n_nearest_features = None, \n",
    "                           imputation_order = 'ascending')"
   ]
  },
  {
   "cell_type": "code",
   "execution_count": 52,
   "metadata": {},
   "outputs": [
    {
     "data": {
      "text/html": [
       "<style>#sk-container-id-2 {color: black;background-color: white;}#sk-container-id-2 pre{padding: 0;}#sk-container-id-2 div.sk-toggleable {background-color: white;}#sk-container-id-2 label.sk-toggleable__label {cursor: pointer;display: block;width: 100%;margin-bottom: 0;padding: 0.3em;box-sizing: border-box;text-align: center;}#sk-container-id-2 label.sk-toggleable__label-arrow:before {content: \"▸\";float: left;margin-right: 0.25em;color: #696969;}#sk-container-id-2 label.sk-toggleable__label-arrow:hover:before {color: black;}#sk-container-id-2 div.sk-estimator:hover label.sk-toggleable__label-arrow:before {color: black;}#sk-container-id-2 div.sk-toggleable__content {max-height: 0;max-width: 0;overflow: hidden;text-align: left;background-color: #f0f8ff;}#sk-container-id-2 div.sk-toggleable__content pre {margin: 0.2em;color: black;border-radius: 0.25em;background-color: #f0f8ff;}#sk-container-id-2 input.sk-toggleable__control:checked~div.sk-toggleable__content {max-height: 200px;max-width: 100%;overflow: auto;}#sk-container-id-2 input.sk-toggleable__control:checked~label.sk-toggleable__label-arrow:before {content: \"▾\";}#sk-container-id-2 div.sk-estimator input.sk-toggleable__control:checked~label.sk-toggleable__label {background-color: #d4ebff;}#sk-container-id-2 div.sk-label input.sk-toggleable__control:checked~label.sk-toggleable__label {background-color: #d4ebff;}#sk-container-id-2 input.sk-hidden--visually {border: 0;clip: rect(1px 1px 1px 1px);clip: rect(1px, 1px, 1px, 1px);height: 1px;margin: -1px;overflow: hidden;padding: 0;position: absolute;width: 1px;}#sk-container-id-2 div.sk-estimator {font-family: monospace;background-color: #f0f8ff;border: 1px dotted black;border-radius: 0.25em;box-sizing: border-box;margin-bottom: 0.5em;}#sk-container-id-2 div.sk-estimator:hover {background-color: #d4ebff;}#sk-container-id-2 div.sk-parallel-item::after {content: \"\";width: 100%;border-bottom: 1px solid gray;flex-grow: 1;}#sk-container-id-2 div.sk-label:hover label.sk-toggleable__label {background-color: #d4ebff;}#sk-container-id-2 div.sk-serial::before {content: \"\";position: absolute;border-left: 1px solid gray;box-sizing: border-box;top: 0;bottom: 0;left: 50%;z-index: 0;}#sk-container-id-2 div.sk-serial {display: flex;flex-direction: column;align-items: center;background-color: white;padding-right: 0.2em;padding-left: 0.2em;position: relative;}#sk-container-id-2 div.sk-item {position: relative;z-index: 1;}#sk-container-id-2 div.sk-parallel {display: flex;align-items: stretch;justify-content: center;background-color: white;position: relative;}#sk-container-id-2 div.sk-item::before, #sk-container-id-2 div.sk-parallel-item::before {content: \"\";position: absolute;border-left: 1px solid gray;box-sizing: border-box;top: 0;bottom: 0;left: 50%;z-index: -1;}#sk-container-id-2 div.sk-parallel-item {display: flex;flex-direction: column;z-index: 1;position: relative;background-color: white;}#sk-container-id-2 div.sk-parallel-item:first-child::after {align-self: flex-end;width: 50%;}#sk-container-id-2 div.sk-parallel-item:last-child::after {align-self: flex-start;width: 50%;}#sk-container-id-2 div.sk-parallel-item:only-child::after {width: 0;}#sk-container-id-2 div.sk-dashed-wrapped {border: 1px dashed gray;margin: 0 0.4em 0.5em 0.4em;box-sizing: border-box;padding-bottom: 0.4em;background-color: white;}#sk-container-id-2 div.sk-label label {font-family: monospace;font-weight: bold;display: inline-block;line-height: 1.2em;}#sk-container-id-2 div.sk-label-container {text-align: center;}#sk-container-id-2 div.sk-container {/* jupyter's `normalize.less` sets `[hidden] { display: none; }` but bootstrap.min.css set `[hidden] { display: none !important; }` so we also need the `!important` here to be able to override the default hidden behavior on the sphinx rendered scikit-learn.org. See: https://github.com/scikit-learn/scikit-learn/issues/21755 */display: inline-block !important;position: relative;}#sk-container-id-2 div.sk-text-repr-fallback {display: none;}</style><div id=\"sk-container-id-2\" class=\"sk-top-container\"><div class=\"sk-text-repr-fallback\"><pre>IterativeImputer()</pre><b>In a Jupyter environment, please rerun this cell to show the HTML representation or trust the notebook. <br />On GitHub, the HTML representation is unable to render, please try loading this page with nbviewer.org.</b></div><div class=\"sk-container\" hidden><div class=\"sk-item\"><div class=\"sk-estimator sk-toggleable\"><input class=\"sk-toggleable__control sk-hidden--visually\" id=\"sk-estimator-id-2\" type=\"checkbox\" checked><label for=\"sk-estimator-id-2\" class=\"sk-toggleable__label sk-toggleable__label-arrow\">IterativeImputer</label><div class=\"sk-toggleable__content\"><pre>IterativeImputer()</pre></div></div></div></div></div>"
      ],
      "text/plain": [
       "IterativeImputer()"
      ]
     },
     "execution_count": 52,
     "metadata": {},
     "output_type": "execute_result"
    }
   ],
   "source": [
    "imputer.fit(numericas)"
   ]
  },
  {
   "cell_type": "code",
   "execution_count": 53,
   "metadata": {},
   "outputs": [],
   "source": [
    "imputer_trans = imputer.transform (numericas)"
   ]
  },
  {
   "cell_type": "code",
   "execution_count": 54,
   "metadata": {},
   "outputs": [],
   "source": [
    "df_numericas_trans = pd.DataFrame(imputer_trans, columns = numericas.columns)"
   ]
  },
  {
   "cell_type": "code",
   "execution_count": 55,
   "metadata": {},
   "outputs": [
    {
     "data": {
      "text/plain": [
       "temperatura           0\n",
       "velocidad_viento      0\n",
       "cliente_casual        0\n",
       "cliente_registrado    0\n",
       "dtype: int64"
      ]
     },
     "execution_count": 55,
     "metadata": {},
     "output_type": "execute_result"
    }
   ],
   "source": [
    "#Comprobamos que la transformación ha funcionado\n",
    "\n",
    "df_numericas_trans.isnull().sum()"
   ]
  },
  {
   "cell_type": "code",
   "execution_count": 56,
   "metadata": {},
   "outputs": [],
   "source": [
    "#Eliminamos las columnas en el df original (ya tratadas en el df_numéricas) para posteriormente realizar la concatenación\n",
    "\n",
    "df.drop(df_numericas_trans.columns, axis = 1, inplace=True)"
   ]
  },
  {
   "cell_type": "code",
   "execution_count": 57,
   "metadata": {},
   "outputs": [],
   "source": [
    "#Concatenamos el df transformado\n",
    "\n",
    "df = pd.concat([df, df_numericas_trans], axis = 1, join = 'inner')"
   ]
  },
  {
   "cell_type": "code",
   "execution_count": 58,
   "metadata": {},
   "outputs": [
    {
     "data": {
      "text/html": [
       "<div>\n",
       "<style scoped>\n",
       "    .dataframe tbody tr th:only-of-type {\n",
       "        vertical-align: middle;\n",
       "    }\n",
       "\n",
       "    .dataframe tbody tr th {\n",
       "        vertical-align: top;\n",
       "    }\n",
       "\n",
       "    .dataframe thead th {\n",
       "        text-align: right;\n",
       "    }\n",
       "</style>\n",
       "<table border=\"1\" class=\"dataframe\">\n",
       "  <thead>\n",
       "    <tr style=\"text-align: right;\">\n",
       "      <th></th>\n",
       "      <th>fecha</th>\n",
       "      <th>estacion</th>\n",
       "      <th>año</th>\n",
       "      <th>mes</th>\n",
       "      <th>festivo</th>\n",
       "      <th>dia_semana</th>\n",
       "      <th>dia_laboral</th>\n",
       "      <th>tiempo</th>\n",
       "      <th>temperatura</th>\n",
       "      <th>velocidad_viento</th>\n",
       "      <th>cliente_casual</th>\n",
       "      <th>cliente_registrado</th>\n",
       "    </tr>\n",
       "  </thead>\n",
       "  <tbody>\n",
       "    <tr>\n",
       "      <th>1</th>\n",
       "      <td>2018-01-01</td>\n",
       "      <td>invierno</td>\n",
       "      <td>2018</td>\n",
       "      <td>January</td>\n",
       "      <td>1</td>\n",
       "      <td>Lunes</td>\n",
       "      <td>0</td>\n",
       "      <td>2</td>\n",
       "      <td>14.902598</td>\n",
       "      <td>16.652113</td>\n",
       "      <td>131.0</td>\n",
       "      <td>670.0</td>\n",
       "    </tr>\n",
       "    <tr>\n",
       "      <th>2</th>\n",
       "      <td>2018-02-01</td>\n",
       "      <td>invierno</td>\n",
       "      <td>2018</td>\n",
       "      <td>February</td>\n",
       "      <td>0</td>\n",
       "      <td>Jueves</td>\n",
       "      <td>1</td>\n",
       "      <td>2</td>\n",
       "      <td>8.050924</td>\n",
       "      <td>16.636703</td>\n",
       "      <td>120.0</td>\n",
       "      <td>1229.0</td>\n",
       "    </tr>\n",
       "    <tr>\n",
       "      <th>3</th>\n",
       "      <td>2018-03-01</td>\n",
       "      <td>invierno</td>\n",
       "      <td>2018</td>\n",
       "      <td>March</td>\n",
       "      <td>0</td>\n",
       "      <td>Jueves</td>\n",
       "      <td>1</td>\n",
       "      <td>1</td>\n",
       "      <td>8.200000</td>\n",
       "      <td>10.739832</td>\n",
       "      <td>108.0</td>\n",
       "      <td>1454.0</td>\n",
       "    </tr>\n",
       "    <tr>\n",
       "      <th>4</th>\n",
       "      <td>2018-04-01</td>\n",
       "      <td>primavera</td>\n",
       "      <td>2018</td>\n",
       "      <td>April</td>\n",
       "      <td>0</td>\n",
       "      <td>Domingo</td>\n",
       "      <td>0</td>\n",
       "      <td>1</td>\n",
       "      <td>9.305237</td>\n",
       "      <td>12.522300</td>\n",
       "      <td>82.0</td>\n",
       "      <td>1518.0</td>\n",
       "    </tr>\n",
       "    <tr>\n",
       "      <th>5</th>\n",
       "      <td>2018-05-01</td>\n",
       "      <td>primavera</td>\n",
       "      <td>2018</td>\n",
       "      <td>May</td>\n",
       "      <td>0</td>\n",
       "      <td>Martes</td>\n",
       "      <td>1</td>\n",
       "      <td>1</td>\n",
       "      <td>8.378268</td>\n",
       "      <td>6.000868</td>\n",
       "      <td>88.0</td>\n",
       "      <td>1518.0</td>\n",
       "    </tr>\n",
       "  </tbody>\n",
       "</table>\n",
       "</div>"
      ],
      "text/plain": [
       "       fecha   estacion   año       mes festivo dia_semana dia_laboral tiempo  \\\n",
       "1 2018-01-01   invierno  2018   January       1      Lunes           0      2   \n",
       "2 2018-02-01   invierno  2018  February       0     Jueves           1      2   \n",
       "3 2018-03-01   invierno  2018     March       0     Jueves           1      1   \n",
       "4 2018-04-01  primavera  2018     April       0    Domingo           0      1   \n",
       "5 2018-05-01  primavera  2018       May       0     Martes           1      1   \n",
       "\n",
       "   temperatura  velocidad_viento  cliente_casual  cliente_registrado  \n",
       "1    14.902598         16.652113           131.0               670.0  \n",
       "2     8.050924         16.636703           120.0              1229.0  \n",
       "3     8.200000         10.739832           108.0              1454.0  \n",
       "4     9.305237         12.522300            82.0              1518.0  \n",
       "5     8.378268          6.000868            88.0              1518.0  "
      ]
     },
     "execution_count": 58,
     "metadata": {},
     "output_type": "execute_result"
    }
   ],
   "source": [
    "df.head()"
   ]
  },
  {
   "cell_type": "code",
   "execution_count": 59,
   "metadata": {},
   "outputs": [
    {
     "data": {
      "text/plain": [
       "fecha                 0\n",
       "estacion              0\n",
       "año                   0\n",
       "mes                   0\n",
       "festivo               0\n",
       "dia_semana            0\n",
       "dia_laboral           0\n",
       "tiempo                0\n",
       "temperatura           0\n",
       "velocidad_viento      0\n",
       "cliente_casual        0\n",
       "cliente_registrado    0\n",
       "dtype: int64"
      ]
     },
     "execution_count": 59,
     "metadata": {},
     "output_type": "execute_result"
    }
   ],
   "source": [
    "#Comprobamos que la fusión de ambos df ya tratados y limpios no ha generado nulos\n",
    "\n",
    "df.isnull().sum()"
   ]
  },
  {
   "attachments": {},
   "cell_type": "markdown",
   "metadata": {},
   "source": [
    "## ASUNCIONES"
   ]
  },
  {
   "attachments": {},
   "cell_type": "markdown",
   "metadata": {},
   "source": [
    "### Evaluamos la normalidad de nuestras VR"
   ]
  },
  {
   "attachments": {},
   "cell_type": "markdown",
   "metadata": {},
   "source": [
    "- Las gráficas realizadas en el proceso de EDA nos han permitido ver que los datos de nuestras VR no parecían muy normales. No obstante, realizamos shapiro para confirmar."
   ]
  },
  {
   "cell_type": "code",
   "execution_count": 60,
   "metadata": {},
   "outputs": [
    {
     "data": {
      "image/png": "[encoded data removed]",
      "text/plain": [
       "<Figure size 432x288 with 1 Axes>"
      ]
     },
     "metadata": {
      "needs_background": "light"
     },
     "output_type": "display_data"
    }
   ],
   "source": [
    "sns.histplot(x='cliente_registrado', data=df, kde=True, bins=50);"
   ]
  },
  {
   "cell_type": "code",
   "execution_count": 61,
   "metadata": {},
   "outputs": [
    {
     "data": {
      "text/plain": [
       "ShapiroResult(statistic=0.984423041343689, pvalue=5.26375856679806e-07)"
      ]
     },
     "execution_count": 61,
     "metadata": {},
     "output_type": "execute_result"
    }
   ],
   "source": [
    "stats.shapiro(df['cliente_registrado'])"
   ]
  },
  {
   "cell_type": "code",
   "execution_count": 62,
   "metadata": {},
   "outputs": [
    {
     "data": {
      "image/png": "[encoded data removed]",
      "text/plain": [
       "<Figure size 432x288 with 1 Axes>"
      ]
     },
     "metadata": {
      "needs_background": "light"
     },
     "output_type": "display_data"
    }
   ],
   "source": [
    "sns.histplot(x='cliente_casual', data=df, kde=True, bins=50);"
   ]
  },
  {
   "cell_type": "code",
   "execution_count": 63,
   "metadata": {},
   "outputs": [
    {
     "data": {
      "text/plain": [
       "ShapiroResult(statistic=0.8853672742843628, pvalue=8.40218526941286e-23)"
      ]
     },
     "execution_count": 63,
     "metadata": {},
     "output_type": "execute_result"
    }
   ],
   "source": [
    "stats.shapiro(df['cliente_casual'])"
   ]
  },
  {
   "attachments": {},
   "cell_type": "markdown",
   "metadata": {},
   "source": [
    "#### OBSERVACIONES:\n",
    "\n",
    "- Nuestros datos no son normales:\n",
    "  - los datos de los clientes_casuales están sesgados a la derecha y la distribución está muy lejos de ser normal.\n",
    "  - los datos de los clientes_registrados parecen más \"normales\" pero observando el valor del p-value observamos que es menor que 0.05 y por tanto los datos no son normales tampoco."
   ]
  },
  {
   "attachments": {},
   "cell_type": "markdown",
   "metadata": {},
   "source": [
    " ### NORMALIZACIÓN DE VR"
   ]
  },
  {
   "cell_type": "code",
   "execution_count": 64,
   "metadata": {},
   "outputs": [
    {
     "data": {
      "text/plain": [
       "Index(['fecha', 'estacion', 'año', 'mes', 'festivo', 'dia_semana',\n",
       "       'dia_laboral', 'tiempo', 'temperatura', 'velocidad_viento',\n",
       "       'cliente_casual', 'cliente_registrado'],\n",
       "      dtype='object')"
      ]
     },
     "execution_count": 64,
     "metadata": {},
     "output_type": "execute_result"
    }
   ],
   "source": [
    "df.columns"
   ]
  },
  {
   "cell_type": "code",
   "execution_count": 65,
   "metadata": {},
   "outputs": [],
   "source": [
    "df['cliente_casual_box'], lambda_ajustada = stats.boxcox(df['cliente_casual'])"
   ]
  },
  {
   "cell_type": "code",
   "execution_count": 66,
   "metadata": {},
   "outputs": [],
   "source": [
    "df['cliente_registrado_box'], lambda_ajustada = stats.boxcox(df['cliente_registrado'])"
   ]
  },
  {
   "cell_type": "code",
   "execution_count": 67,
   "metadata": {},
   "outputs": [
    {
     "data": {
      "text/html": [
       "<div>\n",
       "<style scoped>\n",
       "    .dataframe tbody tr th:only-of-type {\n",
       "        vertical-align: middle;\n",
       "    }\n",
       "\n",
       "    .dataframe tbody tr th {\n",
       "        vertical-align: top;\n",
       "    }\n",
       "\n",
       "    .dataframe thead th {\n",
       "        text-align: right;\n",
       "    }\n",
       "</style>\n",
       "<table border=\"1\" class=\"dataframe\">\n",
       "  <thead>\n",
       "    <tr style=\"text-align: right;\">\n",
       "      <th></th>\n",
       "      <th>fecha</th>\n",
       "      <th>estacion</th>\n",
       "      <th>año</th>\n",
       "      <th>mes</th>\n",
       "      <th>festivo</th>\n",
       "      <th>dia_semana</th>\n",
       "      <th>dia_laboral</th>\n",
       "      <th>tiempo</th>\n",
       "      <th>temperatura</th>\n",
       "      <th>velocidad_viento</th>\n",
       "      <th>cliente_casual</th>\n",
       "      <th>cliente_registrado</th>\n",
       "      <th>cliente_casual_box</th>\n",
       "      <th>cliente_registrado_box</th>\n",
       "    </tr>\n",
       "  </thead>\n",
       "  <tbody>\n",
       "    <tr>\n",
       "      <th>1</th>\n",
       "      <td>2018-01-01</td>\n",
       "      <td>invierno</td>\n",
       "      <td>2018</td>\n",
       "      <td>January</td>\n",
       "      <td>1</td>\n",
       "      <td>Lunes</td>\n",
       "      <td>0</td>\n",
       "      <td>2</td>\n",
       "      <td>14.902598</td>\n",
       "      <td>16.652113</td>\n",
       "      <td>131.0</td>\n",
       "      <td>670.0</td>\n",
       "      <td>11.502570</td>\n",
       "      <td>271.249335</td>\n",
       "    </tr>\n",
       "    <tr>\n",
       "      <th>2</th>\n",
       "      <td>2018-02-01</td>\n",
       "      <td>invierno</td>\n",
       "      <td>2018</td>\n",
       "      <td>February</td>\n",
       "      <td>0</td>\n",
       "      <td>Jueves</td>\n",
       "      <td>1</td>\n",
       "      <td>2</td>\n",
       "      <td>8.050924</td>\n",
       "      <td>16.636703</td>\n",
       "      <td>120.0</td>\n",
       "      <td>1229.0</td>\n",
       "      <td>11.104509</td>\n",
       "      <td>450.623255</td>\n",
       "    </tr>\n",
       "    <tr>\n",
       "      <th>3</th>\n",
       "      <td>2018-03-01</td>\n",
       "      <td>invierno</td>\n",
       "      <td>2018</td>\n",
       "      <td>March</td>\n",
       "      <td>0</td>\n",
       "      <td>Jueves</td>\n",
       "      <td>1</td>\n",
       "      <td>1</td>\n",
       "      <td>8.200000</td>\n",
       "      <td>10.739832</td>\n",
       "      <td>108.0</td>\n",
       "      <td>1454.0</td>\n",
       "      <td>10.640549</td>\n",
       "      <td>518.610737</td>\n",
       "    </tr>\n",
       "    <tr>\n",
       "      <th>4</th>\n",
       "      <td>2018-04-01</td>\n",
       "      <td>primavera</td>\n",
       "      <td>2018</td>\n",
       "      <td>April</td>\n",
       "      <td>0</td>\n",
       "      <td>Domingo</td>\n",
       "      <td>0</td>\n",
       "      <td>1</td>\n",
       "      <td>9.305237</td>\n",
       "      <td>12.522300</td>\n",
       "      <td>82.0</td>\n",
       "      <td>1518.0</td>\n",
       "      <td>9.497633</td>\n",
       "      <td>537.619305</td>\n",
       "    </tr>\n",
       "    <tr>\n",
       "      <th>5</th>\n",
       "      <td>2018-05-01</td>\n",
       "      <td>primavera</td>\n",
       "      <td>2018</td>\n",
       "      <td>May</td>\n",
       "      <td>0</td>\n",
       "      <td>Martes</td>\n",
       "      <td>1</td>\n",
       "      <td>1</td>\n",
       "      <td>8.378268</td>\n",
       "      <td>6.000868</td>\n",
       "      <td>88.0</td>\n",
       "      <td>1518.0</td>\n",
       "      <td>9.781356</td>\n",
       "      <td>537.619305</td>\n",
       "    </tr>\n",
       "  </tbody>\n",
       "</table>\n",
       "</div>"
      ],
      "text/plain": [
       "       fecha   estacion   año       mes festivo dia_semana dia_laboral tiempo  \\\n",
       "1 2018-01-01   invierno  2018   January       1      Lunes           0      2   \n",
       "2 2018-02-01   invierno  2018  February       0     Jueves           1      2   \n",
       "3 2018-03-01   invierno  2018     March       0     Jueves           1      1   \n",
       "4 2018-04-01  primavera  2018     April       0    Domingo           0      1   \n",
       "5 2018-05-01  primavera  2018       May       0     Martes           1      1   \n",
       "\n",
       "   temperatura  velocidad_viento  cliente_casual  cliente_registrado  \\\n",
       "1    14.902598         16.652113           131.0               670.0   \n",
       "2     8.050924         16.636703           120.0              1229.0   \n",
       "3     8.200000         10.739832           108.0              1454.0   \n",
       "4     9.305237         12.522300            82.0              1518.0   \n",
       "5     8.378268          6.000868            88.0              1518.0   \n",
       "\n",
       "   cliente_casual_box  cliente_registrado_box  \n",
       "1           11.502570              271.249335  \n",
       "2           11.104509              450.623255  \n",
       "3           10.640549              518.610737  \n",
       "4            9.497633              537.619305  \n",
       "5            9.781356              537.619305  "
      ]
     },
     "execution_count": 67,
     "metadata": {},
     "output_type": "execute_result"
    }
   ],
   "source": [
    "df.head()"
   ]
  },
  {
   "cell_type": "code",
   "execution_count": 68,
   "metadata": {},
   "outputs": [
    {
     "name": "stderr",
     "output_type": "stream",
     "text": [
      "/root/anaconda3/lib/python3.9/site-packages/seaborn/distributions.py:2619: FutureWarning: `distplot` is a deprecated function and will be removed in a future version. Please adapt your code to use either `displot` (a figure-level function with similar flexibility) or `histplot` (an axes-level function for histograms).\n",
      "  warnings.warn(msg, FutureWarning)\n",
      "/root/anaconda3/lib/python3.9/site-packages/seaborn/distributions.py:2619: FutureWarning: `distplot` is a deprecated function and will be removed in a future version. Please adapt your code to use either `displot` (a figure-level function with similar flexibility) or `histplot` (an axes-level function for histograms).\n",
      "  warnings.warn(msg, FutureWarning)\n"
     ]
    },
    {
     "data": {
      "image/png": "[encoded data removed]",
      "text/plain": [
       "<Figure size 1080x360 with 2 Axes>"
      ]
     },
     "metadata": {
      "needs_background": "light"
     },
     "output_type": "display_data"
    }
   ],
   "source": [
    "fig, axes = plt.subplots(1, 2, figsize = (15,5))\n",
    "\n",
    "axes[0].set_title('Cliente casual box')\n",
    "axes[1].set_title('cliente casual')\n",
    "\n",
    "sns.distplot(df['cliente_casual_box'] ,ax = axes[0])\n",
    "sns.distplot(df['cliente_casual'], ax = axes[1]);"
   ]
  },
  {
   "cell_type": "code",
   "execution_count": 69,
   "metadata": {},
   "outputs": [
    {
     "data": {
      "text/plain": [
       "ShapiroResult(statistic=0.9915054440498352, pvalue=0.00033743452513590455)"
      ]
     },
     "execution_count": 69,
     "metadata": {},
     "output_type": "execute_result"
    }
   ],
   "source": [
    "stats.shapiro(df[\"cliente_casual_box\"])"
   ]
  },
  {
   "cell_type": "code",
   "execution_count": 70,
   "metadata": {},
   "outputs": [
    {
     "name": "stderr",
     "output_type": "stream",
     "text": [
      "/root/anaconda3/lib/python3.9/site-packages/seaborn/distributions.py:2619: FutureWarning: `distplot` is a deprecated function and will be removed in a future version. Please adapt your code to use either `displot` (a figure-level function with similar flexibility) or `histplot` (an axes-level function for histograms).\n",
      "  warnings.warn(msg, FutureWarning)\n",
      "/root/anaconda3/lib/python3.9/site-packages/seaborn/distributions.py:2619: FutureWarning: `distplot` is a deprecated function and will be removed in a future version. Please adapt your code to use either `displot` (a figure-level function with similar flexibility) or `histplot` (an axes-level function for histograms).\n",
      "  warnings.warn(msg, FutureWarning)\n"
     ]
    },
    {
     "data": {
      "image/png": "[encoded data removed]",
      "text/plain": [
       "<Figure size 1080x360 with 2 Axes>"
      ]
     },
     "metadata": {
      "needs_background": "light"
     },
     "output_type": "display_data"
    }
   ],
   "source": [
    "fig, axes = plt.subplots(1, 2, figsize = (15,5))\n",
    "\n",
    "axes[0].set_title('Cliente registrado box')\n",
    "axes[1].set_title('cliente registrado')\n",
    "\n",
    "sns.distplot(df['cliente_registrado_box'] ,ax = axes[0])\n",
    "sns.distplot(df['cliente_registrado'], ax = axes[1]);"
   ]
  },
  {
   "cell_type": "code",
   "execution_count": 71,
   "metadata": {},
   "outputs": [
    {
     "data": {
      "text/plain": [
       "ShapiroResult(statistic=0.9855146408081055, pvalue=1.2759210221702233e-06)"
      ]
     },
     "execution_count": 71,
     "metadata": {},
     "output_type": "execute_result"
    }
   ],
   "source": [
    "stats.shapiro(df[\"cliente_registrado_box\"])"
   ]
  },
  {
   "attachments": {},
   "cell_type": "markdown",
   "metadata": {},
   "source": [
    "#### OBSERVACIONES:\n",
    "\n",
    "- Al aplicar el método boxcox, hemos comproado que nuestros datos no se pueden normalizar dado que nuestro p-value es menor a 0,5.\n",
    "- Entonces, no podemos seguir con las asunciones para el ANOVA ni la regresión lineal, ya que vamos a tener que usar un modelo de Decision Tree o Random Forest"
   ]
  },
  {
   "cell_type": "code",
   "execution_count": 72,
   "metadata": {},
   "outputs": [],
   "source": [
    "df.drop(['cliente_registrado_box', 'cliente_casual_box'], axis=1, inplace=True)"
   ]
  },
  {
   "cell_type": "code",
   "execution_count": 73,
   "metadata": {},
   "outputs": [
    {
     "data": {
      "text/html": [
       "<div>\n",
       "<style scoped>\n",
       "    .dataframe tbody tr th:only-of-type {\n",
       "        vertical-align: middle;\n",
       "    }\n",
       "\n",
       "    .dataframe tbody tr th {\n",
       "        vertical-align: top;\n",
       "    }\n",
       "\n",
       "    .dataframe thead th {\n",
       "        text-align: right;\n",
       "    }\n",
       "</style>\n",
       "<table border=\"1\" class=\"dataframe\">\n",
       "  <thead>\n",
       "    <tr style=\"text-align: right;\">\n",
       "      <th></th>\n",
       "      <th>fecha</th>\n",
       "      <th>estacion</th>\n",
       "      <th>año</th>\n",
       "      <th>mes</th>\n",
       "      <th>festivo</th>\n",
       "      <th>dia_semana</th>\n",
       "      <th>dia_laboral</th>\n",
       "      <th>tiempo</th>\n",
       "      <th>temperatura</th>\n",
       "      <th>velocidad_viento</th>\n",
       "      <th>cliente_casual</th>\n",
       "      <th>cliente_registrado</th>\n",
       "    </tr>\n",
       "  </thead>\n",
       "  <tbody>\n",
       "    <tr>\n",
       "      <th>1</th>\n",
       "      <td>2018-01-01</td>\n",
       "      <td>invierno</td>\n",
       "      <td>2018</td>\n",
       "      <td>January</td>\n",
       "      <td>1</td>\n",
       "      <td>Lunes</td>\n",
       "      <td>0</td>\n",
       "      <td>2</td>\n",
       "      <td>14.902598</td>\n",
       "      <td>16.652113</td>\n",
       "      <td>131.0</td>\n",
       "      <td>670.0</td>\n",
       "    </tr>\n",
       "    <tr>\n",
       "      <th>2</th>\n",
       "      <td>2018-02-01</td>\n",
       "      <td>invierno</td>\n",
       "      <td>2018</td>\n",
       "      <td>February</td>\n",
       "      <td>0</td>\n",
       "      <td>Jueves</td>\n",
       "      <td>1</td>\n",
       "      <td>2</td>\n",
       "      <td>8.050924</td>\n",
       "      <td>16.636703</td>\n",
       "      <td>120.0</td>\n",
       "      <td>1229.0</td>\n",
       "    </tr>\n",
       "    <tr>\n",
       "      <th>3</th>\n",
       "      <td>2018-03-01</td>\n",
       "      <td>invierno</td>\n",
       "      <td>2018</td>\n",
       "      <td>March</td>\n",
       "      <td>0</td>\n",
       "      <td>Jueves</td>\n",
       "      <td>1</td>\n",
       "      <td>1</td>\n",
       "      <td>8.200000</td>\n",
       "      <td>10.739832</td>\n",
       "      <td>108.0</td>\n",
       "      <td>1454.0</td>\n",
       "    </tr>\n",
       "    <tr>\n",
       "      <th>4</th>\n",
       "      <td>2018-04-01</td>\n",
       "      <td>primavera</td>\n",
       "      <td>2018</td>\n",
       "      <td>April</td>\n",
       "      <td>0</td>\n",
       "      <td>Domingo</td>\n",
       "      <td>0</td>\n",
       "      <td>1</td>\n",
       "      <td>9.305237</td>\n",
       "      <td>12.522300</td>\n",
       "      <td>82.0</td>\n",
       "      <td>1518.0</td>\n",
       "    </tr>\n",
       "    <tr>\n",
       "      <th>5</th>\n",
       "      <td>2018-05-01</td>\n",
       "      <td>primavera</td>\n",
       "      <td>2018</td>\n",
       "      <td>May</td>\n",
       "      <td>0</td>\n",
       "      <td>Martes</td>\n",
       "      <td>1</td>\n",
       "      <td>1</td>\n",
       "      <td>8.378268</td>\n",
       "      <td>6.000868</td>\n",
       "      <td>88.0</td>\n",
       "      <td>1518.0</td>\n",
       "    </tr>\n",
       "  </tbody>\n",
       "</table>\n",
       "</div>"
      ],
      "text/plain": [
       "       fecha   estacion   año       mes festivo dia_semana dia_laboral tiempo  \\\n",
       "1 2018-01-01   invierno  2018   January       1      Lunes           0      2   \n",
       "2 2018-02-01   invierno  2018  February       0     Jueves           1      2   \n",
       "3 2018-03-01   invierno  2018     March       0     Jueves           1      1   \n",
       "4 2018-04-01  primavera  2018     April       0    Domingo           0      1   \n",
       "5 2018-05-01  primavera  2018       May       0     Martes           1      1   \n",
       "\n",
       "   temperatura  velocidad_viento  cliente_casual  cliente_registrado  \n",
       "1    14.902598         16.652113           131.0               670.0  \n",
       "2     8.050924         16.636703           120.0              1229.0  \n",
       "3     8.200000         10.739832           108.0              1454.0  \n",
       "4     9.305237         12.522300            82.0              1518.0  \n",
       "5     8.378268          6.000868            88.0              1518.0  "
      ]
     },
     "execution_count": 73,
     "metadata": {},
     "output_type": "execute_result"
    }
   ],
   "source": [
    "df.head()"
   ]
  },
  {
   "attachments": {},
   "cell_type": "markdown",
   "metadata": {},
   "source": [
    "### COMPROBAMOS LA INDEPENDENCIA"
   ]
  },
  {
   "cell_type": "code",
   "execution_count": 74,
   "metadata": {},
   "outputs": [],
   "source": [
    "categoricas = df.select_dtypes(exclude=np.number)\n",
    "col_cat = categoricas.columns.to_list()"
   ]
  },
  {
   "cell_type": "code",
   "execution_count": 75,
   "metadata": {},
   "outputs": [
    {
     "data": {
      "text/plain": [
       "['fecha',\n",
       " 'estacion',\n",
       " 'año',\n",
       " 'mes',\n",
       " 'festivo',\n",
       " 'dia_semana',\n",
       " 'dia_laboral',\n",
       " 'tiempo']"
      ]
     },
     "execution_count": 75,
     "metadata": {},
     "output_type": "execute_result"
    }
   ],
   "source": [
    "col_cat"
   ]
  },
  {
   "cell_type": "code",
   "execution_count": 76,
   "metadata": {},
   "outputs": [
    {
     "name": "stdout",
     "output_type": "stream",
     "text": [
      "V-Cramer bajo:\n",
      "V-Cramer de estacion y año: 0.0024\n",
      "V-Cramer de estacion y festivo: 0.0678\n",
      "V-Cramer de estacion y dia_semana: 0.0122\n",
      "V-Cramer de estacion y dia_laboral: 0.0296\n",
      "V-Cramer de estacion y tiempo: 0.0786\n",
      "V-Cramer de año y mes: 0.0045\n",
      "V-Cramer de año y festivo: 0.0084\n",
      "V-Cramer de año y dia_semana: 0.0033\n",
      "V-Cramer de año y dia_laboral: 0.002\n",
      "V-Cramer de año y tiempo: 0.0755\n",
      "V-Cramer de mes y festivo: 0.142\n",
      "V-Cramer de mes y dia_semana: 0.0359\n",
      "V-Cramer de mes y dia_laboral: 0.0536\n",
      "V-Cramer de mes y tiempo: 0.1498\n",
      "V-Cramer de festivo y dia_semana: 0.237\n",
      "V-Cramer de festivo y dia_laboral: 0.2433\n",
      "V-Cramer de festivo y tiempo: 0.0324\n",
      "V-Cramer de dia_semana y tiempo: 0.0855\n",
      "V-Cramer de dia_laboral y tiempo: 0.0672\n",
      "V-Cramer alto:\n",
      "V-Cramer de fecha y estacion: 1.0\n",
      "V-Cramer de fecha y año: 1.0\n",
      "V-Cramer de fecha y mes: 1.0\n",
      "V-Cramer de fecha y festivo: 1.0\n",
      "V-Cramer de fecha y dia_semana: 1.0\n",
      "V-Cramer de fecha y dia_laboral: 1.0\n",
      "V-Cramer de fecha y tiempo: 1.0\n",
      "V-Cramer de estacion y mes: 0.8945\n",
      "V-Cramer de dia_semana y dia_laboral: 0.9425\n"
     ]
    }
   ],
   "source": [
    "lista_V_Cramer_alto = []\n",
    "lista_V_Cramer_bajo = []\n",
    "# mas o menos que 0,7\n",
    "\n",
    "for i, col in enumerate(categoricas.columns):\n",
    "    \n",
    "    for x in col_cat:\n",
    "        if col == x:\n",
    "            pass\n",
    "        else:\n",
    "            crosstab, test_results, expected = rp.crosstab(df[col], df[x],\n",
    "                                    test= \"chi-square\",\n",
    "                                    expected_freqs= True,\n",
    "                                    prop= \"cell\")\n",
    "            \n",
    "            if test_results.iloc[2,1] > 0.7:\n",
    "                lista_V_Cramer_alto.append(f'V-Cramer de {col} y {x}: {test_results.iloc[2,1]}')\n",
    "            else:\n",
    "                lista_V_Cramer_bajo.append(f'V-Cramer de {col} y {x}: {test_results.iloc[2,1]}')\n",
    "            \n",
    "    col_cat.remove(col)\n",
    "    \n",
    "print('V-Cramer bajo:')\n",
    "for i in lista_V_Cramer_bajo:\n",
    "    print(i)\n",
    "    \n",
    "print('V-Cramer alto:')\n",
    "for i in lista_V_Cramer_alto:\n",
    "    print(i)"
   ]
  },
  {
   "attachments": {},
   "cell_type": "markdown",
   "metadata": {},
   "source": [
    "Por los V-Cramer de las variables categóricas, podemos ver que tenemos unas columnas redundantes.\n",
    "\n",
    "- la columna 'fecha' tiene un V-Cramer alto contra varias variables, así que vamos a prescindir de ella\n",
    "\n",
    "- entre 'estación' y 'mes', nos vamos a quedar con la columna de 'mes' porque aporta información más detallada para el cliente\n",
    "\n",
    "- entre 'dia_semana' y 'dia_laboral', nos vamos a quedar con la columna de 'dia_semana' porque la misma razón"
   ]
  },
  {
   "cell_type": "code",
   "execution_count": 77,
   "metadata": {},
   "outputs": [
    {
     "data": {
      "text/plain": [
       "Index(['fecha', 'estacion', 'año', 'mes', 'festivo', 'dia_semana',\n",
       "       'dia_laboral', 'tiempo', 'temperatura', 'velocidad_viento',\n",
       "       'cliente_casual', 'cliente_registrado'],\n",
       "      dtype='object')"
      ]
     },
     "execution_count": 77,
     "metadata": {},
     "output_type": "execute_result"
    }
   ],
   "source": [
    "df.columns"
   ]
  },
  {
   "cell_type": "code",
   "execution_count": 78,
   "metadata": {},
   "outputs": [],
   "source": [
    "df.drop('fecha', axis=1, inplace=True)"
   ]
  },
  {
   "cell_type": "code",
   "execution_count": 79,
   "metadata": {},
   "outputs": [
    {
     "data": {
      "text/html": [
       "<div>\n",
       "<style scoped>\n",
       "    .dataframe tbody tr th:only-of-type {\n",
       "        vertical-align: middle;\n",
       "    }\n",
       "\n",
       "    .dataframe tbody tr th {\n",
       "        vertical-align: top;\n",
       "    }\n",
       "\n",
       "    .dataframe thead th {\n",
       "        text-align: right;\n",
       "    }\n",
       "</style>\n",
       "<table border=\"1\" class=\"dataframe\">\n",
       "  <thead>\n",
       "    <tr style=\"text-align: right;\">\n",
       "      <th></th>\n",
       "      <th>estacion</th>\n",
       "      <th>año</th>\n",
       "      <th>mes</th>\n",
       "      <th>festivo</th>\n",
       "      <th>dia_semana</th>\n",
       "      <th>dia_laboral</th>\n",
       "      <th>tiempo</th>\n",
       "      <th>temperatura</th>\n",
       "      <th>velocidad_viento</th>\n",
       "      <th>cliente_casual</th>\n",
       "      <th>cliente_registrado</th>\n",
       "    </tr>\n",
       "  </thead>\n",
       "  <tbody>\n",
       "    <tr>\n",
       "      <th>1</th>\n",
       "      <td>invierno</td>\n",
       "      <td>2018</td>\n",
       "      <td>January</td>\n",
       "      <td>1</td>\n",
       "      <td>Lunes</td>\n",
       "      <td>0</td>\n",
       "      <td>2</td>\n",
       "      <td>14.902598</td>\n",
       "      <td>16.652113</td>\n",
       "      <td>131.0</td>\n",
       "      <td>670.0</td>\n",
       "    </tr>\n",
       "    <tr>\n",
       "      <th>2</th>\n",
       "      <td>invierno</td>\n",
       "      <td>2018</td>\n",
       "      <td>February</td>\n",
       "      <td>0</td>\n",
       "      <td>Jueves</td>\n",
       "      <td>1</td>\n",
       "      <td>2</td>\n",
       "      <td>8.050924</td>\n",
       "      <td>16.636703</td>\n",
       "      <td>120.0</td>\n",
       "      <td>1229.0</td>\n",
       "    </tr>\n",
       "    <tr>\n",
       "      <th>3</th>\n",
       "      <td>invierno</td>\n",
       "      <td>2018</td>\n",
       "      <td>March</td>\n",
       "      <td>0</td>\n",
       "      <td>Jueves</td>\n",
       "      <td>1</td>\n",
       "      <td>1</td>\n",
       "      <td>8.200000</td>\n",
       "      <td>10.739832</td>\n",
       "      <td>108.0</td>\n",
       "      <td>1454.0</td>\n",
       "    </tr>\n",
       "    <tr>\n",
       "      <th>4</th>\n",
       "      <td>primavera</td>\n",
       "      <td>2018</td>\n",
       "      <td>April</td>\n",
       "      <td>0</td>\n",
       "      <td>Domingo</td>\n",
       "      <td>0</td>\n",
       "      <td>1</td>\n",
       "      <td>9.305237</td>\n",
       "      <td>12.522300</td>\n",
       "      <td>82.0</td>\n",
       "      <td>1518.0</td>\n",
       "    </tr>\n",
       "    <tr>\n",
       "      <th>5</th>\n",
       "      <td>primavera</td>\n",
       "      <td>2018</td>\n",
       "      <td>May</td>\n",
       "      <td>0</td>\n",
       "      <td>Martes</td>\n",
       "      <td>1</td>\n",
       "      <td>1</td>\n",
       "      <td>8.378268</td>\n",
       "      <td>6.000868</td>\n",
       "      <td>88.0</td>\n",
       "      <td>1518.0</td>\n",
       "    </tr>\n",
       "  </tbody>\n",
       "</table>\n",
       "</div>"
      ],
      "text/plain": [
       "    estacion   año       mes festivo dia_semana dia_laboral tiempo  \\\n",
       "1   invierno  2018   January       1      Lunes           0      2   \n",
       "2   invierno  2018  February       0     Jueves           1      2   \n",
       "3   invierno  2018     March       0     Jueves           1      1   \n",
       "4  primavera  2018     April       0    Domingo           0      1   \n",
       "5  primavera  2018       May       0     Martes           1      1   \n",
       "\n",
       "   temperatura  velocidad_viento  cliente_casual  cliente_registrado  \n",
       "1    14.902598         16.652113           131.0               670.0  \n",
       "2     8.050924         16.636703           120.0              1229.0  \n",
       "3     8.200000         10.739832           108.0              1454.0  \n",
       "4     9.305237         12.522300            82.0              1518.0  \n",
       "5     8.378268          6.000868            88.0              1518.0  "
      ]
     },
     "execution_count": 79,
     "metadata": {},
     "output_type": "execute_result"
    }
   ],
   "source": [
    "df.head()"
   ]
  },
  {
   "cell_type": "code",
   "execution_count": 80,
   "metadata": {},
   "outputs": [],
   "source": [
    "df.to_csv('../datos/bikes_limpio_final.csv')\n",
    "df.to_pickle('../datos/bikes_limpio_final.pkl')"
   ]
  },
  {
   "attachments": {},
   "cell_type": "markdown",
   "metadata": {},
   "source": [
    "### COMPROBAMOS LA HOMOCEDASTICIDAD"
   ]
  },
  {
   "cell_type": "code",
   "execution_count": 81,
   "metadata": {},
   "outputs": [
    {
     "data": {
      "text/plain": [
       "Index(['estacion', 'año', 'mes', 'festivo', 'dia_semana', 'dia_laboral',\n",
       "       'tiempo'],\n",
       "      dtype='object')"
      ]
     },
     "execution_count": 81,
     "metadata": {},
     "output_type": "execute_result"
    }
   ],
   "source": [
    "categoricas = df.select_dtypes(exclude=np.number)\n",
    "categoricas.columns"
   ]
  },
  {
   "cell_type": "code",
   "execution_count": 82,
   "metadata": {},
   "outputs": [
    {
     "data": {
      "text/plain": [
       "Index(['temperatura', 'velocidad_viento', 'cliente_casual',\n",
       "       'cliente_registrado'],\n",
       "      dtype='object')"
      ]
     },
     "execution_count": 82,
     "metadata": {},
     "output_type": "execute_result"
    }
   ],
   "source": [
    "numericas = df.select_dtypes(include=np.number)\n",
    "numericas.columns"
   ]
  },
  {
   "cell_type": "code",
   "execution_count": 83,
   "metadata": {},
   "outputs": [
    {
     "name": "stdout",
     "output_type": "stream",
     "text": [
      "['invierno' 'primavera' 'verano' 'otoño']\n",
      "['2018' '2019']\n",
      "['January' 'February' 'March' 'April' 'May' 'June' 'July' 'August'\n",
      " 'September' 'October' 'November' 'December']\n",
      "[1, 0]\n",
      "Categories (2, int64): [0, 1]\n",
      "['Lunes' 'Jueves' 'Domingo' 'Martes' 'Viernes' 'Miercoles' 'Sabado']\n",
      "[0, 1]\n",
      "Categories (2, int64): [0, 1]\n",
      "[2, 1, 3]\n",
      "Categories (3, int64): [1, 2, 3]\n"
     ]
    }
   ],
   "source": [
    "for i in categoricas.columns:\n",
    "    print(df[i].unique())"
   ]
  },
  {
   "cell_type": "code",
   "execution_count": 84,
   "metadata": {},
   "outputs": [],
   "source": [
    "df_2018_casual = df[df['año'] == '2018']['cliente_casual']\n",
    "df_2019_casual = df[df['año'] == '2019']['cliente_casual']"
   ]
  },
  {
   "cell_type": "code",
   "execution_count": 85,
   "metadata": {},
   "outputs": [
    {
     "data": {
      "text/plain": [
       "LeveneResult(statistic=20.299150506834316, pvalue=7.715151914893317e-06)"
      ]
     },
     "execution_count": 85,
     "metadata": {},
     "output_type": "execute_result"
    }
   ],
   "source": [
    "levene_test = stats.levene(df_2018_casual, df_2019_casual, center='median')\n",
    "levene_test"
   ]
  },
  {
   "attachments": {},
   "cell_type": "markdown",
   "metadata": {},
   "source": [
    "## ENCODING"
   ]
  },
  {
   "cell_type": "code",
   "execution_count": 86,
   "metadata": {},
   "outputs": [
    {
     "data": {
      "text/html": [
       "<div>\n",
       "<style scoped>\n",
       "    .dataframe tbody tr th:only-of-type {\n",
       "        vertical-align: middle;\n",
       "    }\n",
       "\n",
       "    .dataframe tbody tr th {\n",
       "        vertical-align: top;\n",
       "    }\n",
       "\n",
       "    .dataframe thead th {\n",
       "        text-align: right;\n",
       "    }\n",
       "</style>\n",
       "<table border=\"1\" class=\"dataframe\">\n",
       "  <thead>\n",
       "    <tr style=\"text-align: right;\">\n",
       "      <th></th>\n",
       "      <th>estacion</th>\n",
       "      <th>año</th>\n",
       "      <th>mes</th>\n",
       "      <th>festivo</th>\n",
       "      <th>dia_semana</th>\n",
       "      <th>dia_laboral</th>\n",
       "      <th>tiempo</th>\n",
       "    </tr>\n",
       "  </thead>\n",
       "  <tbody>\n",
       "    <tr>\n",
       "      <th>1</th>\n",
       "      <td>invierno</td>\n",
       "      <td>2018</td>\n",
       "      <td>January</td>\n",
       "      <td>1</td>\n",
       "      <td>Lunes</td>\n",
       "      <td>0</td>\n",
       "      <td>2</td>\n",
       "    </tr>\n",
       "    <tr>\n",
       "      <th>2</th>\n",
       "      <td>invierno</td>\n",
       "      <td>2018</td>\n",
       "      <td>February</td>\n",
       "      <td>0</td>\n",
       "      <td>Jueves</td>\n",
       "      <td>1</td>\n",
       "      <td>2</td>\n",
       "    </tr>\n",
       "  </tbody>\n",
       "</table>\n",
       "</div>"
      ],
      "text/plain": [
       "   estacion   año       mes festivo dia_semana dia_laboral tiempo\n",
       "1  invierno  2018   January       1      Lunes           0      2\n",
       "2  invierno  2018  February       0     Jueves           1      2"
      ]
     },
     "execution_count": 86,
     "metadata": {},
     "output_type": "execute_result"
    }
   ],
   "source": [
    "df_categoricas = df.select_dtypes(exclude = np.number)\n",
    "df_categoricas.head(2)"
   ]
  },
  {
   "cell_type": "code",
   "execution_count": 87,
   "metadata": {},
   "outputs": [
    {
     "data": {
      "image/png": "[encoded data removed]",
      "text/plain": [
       "<Figure size 1080x1080 with 7 Axes>"
      ]
     },
     "metadata": {
      "needs_background": "light"
     },
     "output_type": "display_data"
    }
   ],
   "source": [
    "# creamos boxplots de la variable respuesta de clientes casuales para determinar si las\n",
    "# variables categoricas tienen orden \n",
    "\n",
    "fig, axes = plt.subplots(4, 2, figsize=(15,15))\n",
    "\n",
    "axes = axes.flat\n",
    "\n",
    "for i, col in enumerate(df_categoricas.columns):\n",
    "    sns.boxplot(y=col, x='cliente_casual', data=df, ax=axes[i])\n",
    "\n",
    "fig.delaxes(axes[-1])\n",
    "\n",
    "plt.tight_layout();"
   ]
  },
  {
   "cell_type": "code",
   "execution_count": 88,
   "metadata": {},
   "outputs": [
    {
     "data": {
      "image/png": "[encoded data removed]",
      "text/plain": [
       "<Figure size 1080x1080 with 7 Axes>"
      ]
     },
     "metadata": {
      "needs_background": "light"
     },
     "output_type": "display_data"
    }
   ],
   "source": [
    "# creamos boxplots de la variable respuesta de clientes registrados para determinar si las\n",
    "# variables categoricas tienen orden \n",
    "\n",
    "fig, axes = plt.subplots(4, 2, figsize=(15,15))\n",
    "\n",
    "axes = axes.flat\n",
    "\n",
    "for i, col in enumerate(df_categoricas.columns):\n",
    "    sns.boxplot(y=col, x='cliente_registrado', data=df, ax=axes[i])\n",
    "\n",
    "fig.delaxes(axes[-1])\n",
    "\n",
    "plt.tight_layout();"
   ]
  },
  {
   "attachments": {},
   "cell_type": "markdown",
   "metadata": {},
   "source": [
    "## Encoding para la VR de clientes casuales\n",
    "\n",
    "- podemos ver que todas las medianas de las variables categóricas difieren, lo que significa que sí que afectan a la VR y tienen ordén\n"
   ]
  },
  {
   "cell_type": "code",
   "execution_count": 89,
   "metadata": {},
   "outputs": [
    {
     "data": {
      "text/html": [
       "<div>\n",
       "<style scoped>\n",
       "    .dataframe tbody tr th:only-of-type {\n",
       "        vertical-align: middle;\n",
       "    }\n",
       "\n",
       "    .dataframe tbody tr th {\n",
       "        vertical-align: top;\n",
       "    }\n",
       "\n",
       "    .dataframe thead th {\n",
       "        text-align: right;\n",
       "    }\n",
       "</style>\n",
       "<table border=\"1\" class=\"dataframe\">\n",
       "  <thead>\n",
       "    <tr style=\"text-align: right;\">\n",
       "      <th></th>\n",
       "      <th>cliente_casual</th>\n",
       "      <th>encoding</th>\n",
       "    </tr>\n",
       "    <tr>\n",
       "      <th>estacion</th>\n",
       "      <th></th>\n",
       "      <th></th>\n",
       "    </tr>\n",
       "  </thead>\n",
       "  <tbody>\n",
       "    <tr>\n",
       "      <th>invierno</th>\n",
       "      <td>359.0</td>\n",
       "      <td>1.00</td>\n",
       "    </tr>\n",
       "    <tr>\n",
       "      <th>otoño</th>\n",
       "      <td>665.0</td>\n",
       "      <td>1.85</td>\n",
       "    </tr>\n",
       "    <tr>\n",
       "      <th>primavera</th>\n",
       "      <td>776.0</td>\n",
       "      <td>2.16</td>\n",
       "    </tr>\n",
       "    <tr>\n",
       "      <th>verano</th>\n",
       "      <td>937.0</td>\n",
       "      <td>2.61</td>\n",
       "    </tr>\n",
       "  </tbody>\n",
       "</table>\n",
       "</div>"
      ],
      "text/plain": [
       "           cliente_casual  encoding\n",
       "estacion                           \n",
       "invierno            359.0      1.00\n",
       "otoño               665.0      1.85\n",
       "primavera           776.0      2.16\n",
       "verano              937.0      2.61"
      ]
     },
     "metadata": {},
     "output_type": "display_data"
    },
    {
     "data": {
      "text/html": [
       "<div>\n",
       "<style scoped>\n",
       "    .dataframe tbody tr th:only-of-type {\n",
       "        vertical-align: middle;\n",
       "    }\n",
       "\n",
       "    .dataframe tbody tr th {\n",
       "        vertical-align: top;\n",
       "    }\n",
       "\n",
       "    .dataframe thead th {\n",
       "        text-align: right;\n",
       "    }\n",
       "</style>\n",
       "<table border=\"1\" class=\"dataframe\">\n",
       "  <thead>\n",
       "    <tr style=\"text-align: right;\">\n",
       "      <th></th>\n",
       "      <th>cliente_casual</th>\n",
       "      <th>encoding</th>\n",
       "    </tr>\n",
       "    <tr>\n",
       "      <th>año</th>\n",
       "      <th></th>\n",
       "      <th></th>\n",
       "    </tr>\n",
       "  </thead>\n",
       "  <tbody>\n",
       "    <tr>\n",
       "      <th>2018</th>\n",
       "      <td>616.0</td>\n",
       "      <td>1.00</td>\n",
       "    </tr>\n",
       "    <tr>\n",
       "      <th>2019</th>\n",
       "      <td>913.0</td>\n",
       "      <td>1.48</td>\n",
       "    </tr>\n",
       "  </tbody>\n",
       "</table>\n",
       "</div>"
      ],
      "text/plain": [
       "      cliente_casual  encoding\n",
       "año                           \n",
       "2018           616.0      1.00\n",
       "2019           913.0      1.48"
      ]
     },
     "metadata": {},
     "output_type": "display_data"
    },
    {
     "data": {
      "text/html": [
       "<div>\n",
       "<style scoped>\n",
       "    .dataframe tbody tr th:only-of-type {\n",
       "        vertical-align: middle;\n",
       "    }\n",
       "\n",
       "    .dataframe tbody tr th {\n",
       "        vertical-align: top;\n",
       "    }\n",
       "\n",
       "    .dataframe thead th {\n",
       "        text-align: right;\n",
       "    }\n",
       "</style>\n",
       "<table border=\"1\" class=\"dataframe\">\n",
       "  <thead>\n",
       "    <tr style=\"text-align: right;\">\n",
       "      <th></th>\n",
       "      <th>cliente_casual</th>\n",
       "      <th>encoding</th>\n",
       "    </tr>\n",
       "    <tr>\n",
       "      <th>mes</th>\n",
       "      <th></th>\n",
       "      <th></th>\n",
       "    </tr>\n",
       "  </thead>\n",
       "  <tbody>\n",
       "    <tr>\n",
       "      <th>January</th>\n",
       "      <td>237.5</td>\n",
       "      <td>1.00</td>\n",
       "    </tr>\n",
       "    <tr>\n",
       "      <th>December</th>\n",
       "      <td>333.0</td>\n",
       "      <td>1.40</td>\n",
       "    </tr>\n",
       "    <tr>\n",
       "      <th>February</th>\n",
       "      <td>371.5</td>\n",
       "      <td>1.56</td>\n",
       "    </tr>\n",
       "    <tr>\n",
       "      <th>November</th>\n",
       "      <td>508.0</td>\n",
       "      <td>2.14</td>\n",
       "    </tr>\n",
       "    <tr>\n",
       "      <th>April</th>\n",
       "      <td>711.5</td>\n",
       "      <td>3.00</td>\n",
       "    </tr>\n",
       "    <tr>\n",
       "      <th>October</th>\n",
       "      <td>756.5</td>\n",
       "      <td>3.19</td>\n",
       "    </tr>\n",
       "    <tr>\n",
       "      <th>March</th>\n",
       "      <td>795.5</td>\n",
       "      <td>3.35</td>\n",
       "    </tr>\n",
       "    <tr>\n",
       "      <th>September</th>\n",
       "      <td>824.5</td>\n",
       "      <td>3.47</td>\n",
       "    </tr>\n",
       "    <tr>\n",
       "      <th>May</th>\n",
       "      <td>827.5</td>\n",
       "      <td>3.48</td>\n",
       "    </tr>\n",
       "    <tr>\n",
       "      <th>July</th>\n",
       "      <td>904.5</td>\n",
       "      <td>3.81</td>\n",
       "    </tr>\n",
       "    <tr>\n",
       "      <th>August</th>\n",
       "      <td>921.0</td>\n",
       "      <td>3.88</td>\n",
       "    </tr>\n",
       "    <tr>\n",
       "      <th>June</th>\n",
       "      <td>935.0</td>\n",
       "      <td>3.94</td>\n",
       "    </tr>\n",
       "  </tbody>\n",
       "</table>\n",
       "</div>"
      ],
      "text/plain": [
       "           cliente_casual  encoding\n",
       "mes                                \n",
       "January             237.5      1.00\n",
       "December            333.0      1.40\n",
       "February            371.5      1.56\n",
       "November            508.0      2.14\n",
       "April               711.5      3.00\n",
       "October             756.5      3.19\n",
       "March               795.5      3.35\n",
       "September           824.5      3.47\n",
       "May                 827.5      3.48\n",
       "July                904.5      3.81\n",
       "August              921.0      3.88\n",
       "June                935.0      3.94"
      ]
     },
     "metadata": {},
     "output_type": "display_data"
    },
    {
     "data": {
      "text/html": [
       "<div>\n",
       "<style scoped>\n",
       "    .dataframe tbody tr th:only-of-type {\n",
       "        vertical-align: middle;\n",
       "    }\n",
       "\n",
       "    .dataframe tbody tr th {\n",
       "        vertical-align: top;\n",
       "    }\n",
       "\n",
       "    .dataframe thead th {\n",
       "        text-align: right;\n",
       "    }\n",
       "</style>\n",
       "<table border=\"1\" class=\"dataframe\">\n",
       "  <thead>\n",
       "    <tr style=\"text-align: right;\">\n",
       "      <th></th>\n",
       "      <th>cliente_casual</th>\n",
       "      <th>encoding</th>\n",
       "    </tr>\n",
       "    <tr>\n",
       "      <th>festivo</th>\n",
       "      <th></th>\n",
       "      <th></th>\n",
       "    </tr>\n",
       "  </thead>\n",
       "  <tbody>\n",
       "    <tr>\n",
       "      <th>1</th>\n",
       "      <td>244.0</td>\n",
       "      <td>1.00</td>\n",
       "    </tr>\n",
       "    <tr>\n",
       "      <th>0</th>\n",
       "      <td>727.5</td>\n",
       "      <td>2.98</td>\n",
       "    </tr>\n",
       "  </tbody>\n",
       "</table>\n",
       "</div>"
      ],
      "text/plain": [
       "         cliente_casual  encoding\n",
       "festivo                          \n",
       "1                 244.0      1.00\n",
       "0                 727.5      2.98"
      ]
     },
     "metadata": {},
     "output_type": "display_data"
    },
    {
     "data": {
      "text/html": [
       "<div>\n",
       "<style scoped>\n",
       "    .dataframe tbody tr th:only-of-type {\n",
       "        vertical-align: middle;\n",
       "    }\n",
       "\n",
       "    .dataframe tbody tr th {\n",
       "        vertical-align: top;\n",
       "    }\n",
       "\n",
       "    .dataframe thead th {\n",
       "        text-align: right;\n",
       "    }\n",
       "</style>\n",
       "<table border=\"1\" class=\"dataframe\">\n",
       "  <thead>\n",
       "    <tr style=\"text-align: right;\">\n",
       "      <th></th>\n",
       "      <th>cliente_casual</th>\n",
       "      <th>encoding</th>\n",
       "    </tr>\n",
       "    <tr>\n",
       "      <th>dia_semana</th>\n",
       "      <th></th>\n",
       "      <th></th>\n",
       "    </tr>\n",
       "  </thead>\n",
       "  <tbody>\n",
       "    <tr>\n",
       "      <th>Jueves</th>\n",
       "      <td>612.0</td>\n",
       "      <td>1.00</td>\n",
       "    </tr>\n",
       "    <tr>\n",
       "      <th>Viernes</th>\n",
       "      <td>648.5</td>\n",
       "      <td>1.06</td>\n",
       "    </tr>\n",
       "    <tr>\n",
       "      <th>Miercoles</th>\n",
       "      <td>657.0</td>\n",
       "      <td>1.07</td>\n",
       "    </tr>\n",
       "    <tr>\n",
       "      <th>Martes</th>\n",
       "      <td>699.0</td>\n",
       "      <td>1.14</td>\n",
       "    </tr>\n",
       "    <tr>\n",
       "      <th>Lunes</th>\n",
       "      <td>784.0</td>\n",
       "      <td>1.28</td>\n",
       "    </tr>\n",
       "    <tr>\n",
       "      <th>Sabado</th>\n",
       "      <td>813.5</td>\n",
       "      <td>1.33</td>\n",
       "    </tr>\n",
       "    <tr>\n",
       "      <th>Domingo</th>\n",
       "      <td>984.0</td>\n",
       "      <td>1.61</td>\n",
       "    </tr>\n",
       "  </tbody>\n",
       "</table>\n",
       "</div>"
      ],
      "text/plain": [
       "            cliente_casual  encoding\n",
       "dia_semana                          \n",
       "Jueves               612.0      1.00\n",
       "Viernes              648.5      1.06\n",
       "Miercoles            657.0      1.07\n",
       "Martes               699.0      1.14\n",
       "Lunes                784.0      1.28\n",
       "Sabado               813.5      1.33\n",
       "Domingo              984.0      1.61"
      ]
     },
     "metadata": {},
     "output_type": "display_data"
    },
    {
     "data": {
      "text/html": [
       "<div>\n",
       "<style scoped>\n",
       "    .dataframe tbody tr th:only-of-type {\n",
       "        vertical-align: middle;\n",
       "    }\n",
       "\n",
       "    .dataframe tbody tr th {\n",
       "        vertical-align: top;\n",
       "    }\n",
       "\n",
       "    .dataframe thead th {\n",
       "        text-align: right;\n",
       "    }\n",
       "</style>\n",
       "<table border=\"1\" class=\"dataframe\">\n",
       "  <thead>\n",
       "    <tr style=\"text-align: right;\">\n",
       "      <th></th>\n",
       "      <th>cliente_casual</th>\n",
       "      <th>encoding</th>\n",
       "    </tr>\n",
       "    <tr>\n",
       "      <th>dia_laboral</th>\n",
       "      <th></th>\n",
       "      <th></th>\n",
       "    </tr>\n",
       "  </thead>\n",
       "  <tbody>\n",
       "    <tr>\n",
       "      <th>1</th>\n",
       "      <td>677.0</td>\n",
       "      <td>1.00</td>\n",
       "    </tr>\n",
       "    <tr>\n",
       "      <th>0</th>\n",
       "      <td>867.0</td>\n",
       "      <td>1.28</td>\n",
       "    </tr>\n",
       "  </tbody>\n",
       "</table>\n",
       "</div>"
      ],
      "text/plain": [
       "             cliente_casual  encoding\n",
       "dia_laboral                          \n",
       "1                     677.0      1.00\n",
       "0                     867.0      1.28"
      ]
     },
     "metadata": {},
     "output_type": "display_data"
    },
    {
     "data": {
      "text/html": [
       "<div>\n",
       "<style scoped>\n",
       "    .dataframe tbody tr th:only-of-type {\n",
       "        vertical-align: middle;\n",
       "    }\n",
       "\n",
       "    .dataframe tbody tr th {\n",
       "        vertical-align: top;\n",
       "    }\n",
       "\n",
       "    .dataframe thead th {\n",
       "        text-align: right;\n",
       "    }\n",
       "</style>\n",
       "<table border=\"1\" class=\"dataframe\">\n",
       "  <thead>\n",
       "    <tr style=\"text-align: right;\">\n",
       "      <th></th>\n",
       "      <th>cliente_casual</th>\n",
       "      <th>encoding</th>\n",
       "    </tr>\n",
       "    <tr>\n",
       "      <th>tiempo</th>\n",
       "      <th></th>\n",
       "      <th></th>\n",
       "    </tr>\n",
       "  </thead>\n",
       "  <tbody>\n",
       "    <tr>\n",
       "      <th>3</th>\n",
       "      <td>195.0</td>\n",
       "      <td>1.00</td>\n",
       "    </tr>\n",
       "    <tr>\n",
       "      <th>2</th>\n",
       "      <td>620.0</td>\n",
       "      <td>3.18</td>\n",
       "    </tr>\n",
       "    <tr>\n",
       "      <th>1</th>\n",
       "      <td>763.0</td>\n",
       "      <td>3.91</td>\n",
       "    </tr>\n",
       "  </tbody>\n",
       "</table>\n",
       "</div>"
      ],
      "text/plain": [
       "        cliente_casual  encoding\n",
       "tiempo                          \n",
       "3                195.0      1.00\n",
       "2                620.0      3.18\n",
       "1                763.0      3.91"
      ]
     },
     "metadata": {},
     "output_type": "display_data"
    }
   ],
   "source": [
    "dicc_encoding = {}\n",
    "\n",
    "for col in df_categoricas.columns:\n",
    "    \n",
    "    df_group = df.groupby(col)['cliente_casual'].median()\n",
    "    df_group = pd.DataFrame(df_group)\n",
    "    df_group = df_group.sort_values(by='cliente_casual')\n",
    "    df_group['encoding'] = round(df_group['cliente_casual']/df_group.iloc[0,0], 2)\n",
    "    display(df_group)\n",
    "    "
   ]
  },
  {
   "cell_type": "code",
   "execution_count": 90,
   "metadata": {},
   "outputs": [],
   "source": [
    "map_estacion = {'invierno':1 , 'otoño': 2, 'primavera':2 , 'verano':3 }"
   ]
  },
  {
   "cell_type": "code",
   "execution_count": 91,
   "metadata": {},
   "outputs": [],
   "source": [
    "map_año = {'2018': 1,\n",
    "           '2019': 2}"
   ]
  },
  {
   "cell_type": "code",
   "execution_count": 92,
   "metadata": {},
   "outputs": [],
   "source": [
    "map_mes = {'January': 1,\n",
    "           'December': 1,\n",
    "           'February': 1.5,\n",
    "           'November': 2,\n",
    "           'April': 3,\n",
    "           'October': 3,\n",
    "           'March': 3,\n",
    "           'September': 5,\n",
    "           'May': 5,\n",
    "           'July': 4,\n",
    "           'August': 4,\n",
    "           'June': 4}"
   ]
  },
  {
   "cell_type": "code",
   "execution_count": 93,
   "metadata": {},
   "outputs": [],
   "source": [
    "map_festivo = {1: 1,\n",
    "               0: 3}"
   ]
  },
  {
   "cell_type": "code",
   "execution_count": 94,
   "metadata": {},
   "outputs": [],
   "source": [
    "map_dias = {'Jueves': 1,\n",
    "            'Viernes': 1,\n",
    "            'Miercoles': 1,\n",
    "            'Martes': 1,\n",
    "            'Lunes': 2,\n",
    "            'Sabado': 1.5,\n",
    "            'Domingo': 2}"
   ]
  },
  {
   "cell_type": "code",
   "execution_count": 95,
   "metadata": {},
   "outputs": [],
   "source": [
    "map_tiempo = {3: 1,\n",
    "               2: 3,\n",
    "               1: 4}"
   ]
  },
  {
   "cell_type": "code",
   "execution_count": 96,
   "metadata": {},
   "outputs": [],
   "source": [
    "map_laboral = {1: 1, \n",
    "               0: 2}"
   ]
  },
  {
   "cell_type": "code",
   "execution_count": 97,
   "metadata": {},
   "outputs": [
    {
     "data": {
      "text/html": [
       "<div>\n",
       "<style scoped>\n",
       "    .dataframe tbody tr th:only-of-type {\n",
       "        vertical-align: middle;\n",
       "    }\n",
       "\n",
       "    .dataframe tbody tr th {\n",
       "        vertical-align: top;\n",
       "    }\n",
       "\n",
       "    .dataframe thead th {\n",
       "        text-align: right;\n",
       "    }\n",
       "</style>\n",
       "<table border=\"1\" class=\"dataframe\">\n",
       "  <thead>\n",
       "    <tr style=\"text-align: right;\">\n",
       "      <th></th>\n",
       "      <th>estacion</th>\n",
       "      <th>año</th>\n",
       "      <th>mes</th>\n",
       "      <th>festivo</th>\n",
       "      <th>dia_semana</th>\n",
       "      <th>dia_laboral</th>\n",
       "      <th>tiempo</th>\n",
       "      <th>temperatura</th>\n",
       "      <th>velocidad_viento</th>\n",
       "      <th>cliente_casual</th>\n",
       "    </tr>\n",
       "  </thead>\n",
       "  <tbody>\n",
       "    <tr>\n",
       "      <th>1</th>\n",
       "      <td>invierno</td>\n",
       "      <td>2018</td>\n",
       "      <td>January</td>\n",
       "      <td>1</td>\n",
       "      <td>Lunes</td>\n",
       "      <td>0</td>\n",
       "      <td>2</td>\n",
       "      <td>14.902598</td>\n",
       "      <td>16.652113</td>\n",
       "      <td>131.0</td>\n",
       "    </tr>\n",
       "    <tr>\n",
       "      <th>2</th>\n",
       "      <td>invierno</td>\n",
       "      <td>2018</td>\n",
       "      <td>February</td>\n",
       "      <td>0</td>\n",
       "      <td>Jueves</td>\n",
       "      <td>1</td>\n",
       "      <td>2</td>\n",
       "      <td>8.050924</td>\n",
       "      <td>16.636703</td>\n",
       "      <td>120.0</td>\n",
       "    </tr>\n",
       "  </tbody>\n",
       "</table>\n",
       "</div>"
      ],
      "text/plain": [
       "   estacion   año       mes festivo dia_semana dia_laboral tiempo  \\\n",
       "1  invierno  2018   January       1      Lunes           0      2   \n",
       "2  invierno  2018  February       0     Jueves           1      2   \n",
       "\n",
       "   temperatura  velocidad_viento  cliente_casual  \n",
       "1    14.902598         16.652113           131.0  \n",
       "2     8.050924         16.636703           120.0  "
      ]
     },
     "execution_count": 97,
     "metadata": {},
     "output_type": "execute_result"
    }
   ],
   "source": [
    "df_casual = df.copy().drop('cliente_registrado', axis=1)\n",
    "df_casual.head(2)"
   ]
  },
  {
   "cell_type": "code",
   "execution_count": 98,
   "metadata": {},
   "outputs": [],
   "source": [
    "df_casual['estacion'] = df_casual['estacion'].map(map_estacion)"
   ]
  },
  {
   "cell_type": "code",
   "execution_count": 99,
   "metadata": {},
   "outputs": [],
   "source": [
    "df_casual['año'] = df_casual['año'].map(map_año)"
   ]
  },
  {
   "cell_type": "code",
   "execution_count": 100,
   "metadata": {},
   "outputs": [],
   "source": [
    "df_casual['mes'] = df_casual['mes'].map(map_mes)"
   ]
  },
  {
   "cell_type": "code",
   "execution_count": 101,
   "metadata": {},
   "outputs": [],
   "source": [
    "df_casual['festivo'] = df_casual['festivo'].map(map_festivo)"
   ]
  },
  {
   "cell_type": "code",
   "execution_count": 102,
   "metadata": {},
   "outputs": [],
   "source": [
    "df_casual['dia_semana'] = df_casual['dia_semana'].map(map_dias)"
   ]
  },
  {
   "cell_type": "code",
   "execution_count": 103,
   "metadata": {},
   "outputs": [],
   "source": [
    "df_casual['tiempo'] = df_casual['tiempo'].map(map_tiempo)"
   ]
  },
  {
   "cell_type": "code",
   "execution_count": 104,
   "metadata": {},
   "outputs": [],
   "source": [
    "df_casual['dia_laboral'] = df_casual['dia_laboral'].map(map_laboral)"
   ]
  },
  {
   "cell_type": "code",
   "execution_count": 105,
   "metadata": {},
   "outputs": [
    {
     "data": {
      "text/html": [
       "<div>\n",
       "<style scoped>\n",
       "    .dataframe tbody tr th:only-of-type {\n",
       "        vertical-align: middle;\n",
       "    }\n",
       "\n",
       "    .dataframe tbody tr th {\n",
       "        vertical-align: top;\n",
       "    }\n",
       "\n",
       "    .dataframe thead th {\n",
       "        text-align: right;\n",
       "    }\n",
       "</style>\n",
       "<table border=\"1\" class=\"dataframe\">\n",
       "  <thead>\n",
       "    <tr style=\"text-align: right;\">\n",
       "      <th></th>\n",
       "      <th>estacion</th>\n",
       "      <th>año</th>\n",
       "      <th>mes</th>\n",
       "      <th>festivo</th>\n",
       "      <th>dia_semana</th>\n",
       "      <th>dia_laboral</th>\n",
       "      <th>tiempo</th>\n",
       "      <th>temperatura</th>\n",
       "      <th>velocidad_viento</th>\n",
       "      <th>cliente_casual</th>\n",
       "    </tr>\n",
       "  </thead>\n",
       "  <tbody>\n",
       "    <tr>\n",
       "      <th>1</th>\n",
       "      <td>1</td>\n",
       "      <td>1</td>\n",
       "      <td>1.0</td>\n",
       "      <td>1</td>\n",
       "      <td>2.0</td>\n",
       "      <td>2</td>\n",
       "      <td>3</td>\n",
       "      <td>14.902598</td>\n",
       "      <td>16.652113</td>\n",
       "      <td>131.0</td>\n",
       "    </tr>\n",
       "    <tr>\n",
       "      <th>2</th>\n",
       "      <td>1</td>\n",
       "      <td>1</td>\n",
       "      <td>1.5</td>\n",
       "      <td>3</td>\n",
       "      <td>1.0</td>\n",
       "      <td>1</td>\n",
       "      <td>3</td>\n",
       "      <td>8.050924</td>\n",
       "      <td>16.636703</td>\n",
       "      <td>120.0</td>\n",
       "    </tr>\n",
       "    <tr>\n",
       "      <th>3</th>\n",
       "      <td>1</td>\n",
       "      <td>1</td>\n",
       "      <td>3.0</td>\n",
       "      <td>3</td>\n",
       "      <td>1.0</td>\n",
       "      <td>1</td>\n",
       "      <td>4</td>\n",
       "      <td>8.200000</td>\n",
       "      <td>10.739832</td>\n",
       "      <td>108.0</td>\n",
       "    </tr>\n",
       "    <tr>\n",
       "      <th>4</th>\n",
       "      <td>2</td>\n",
       "      <td>1</td>\n",
       "      <td>3.0</td>\n",
       "      <td>3</td>\n",
       "      <td>2.0</td>\n",
       "      <td>2</td>\n",
       "      <td>4</td>\n",
       "      <td>9.305237</td>\n",
       "      <td>12.522300</td>\n",
       "      <td>82.0</td>\n",
       "    </tr>\n",
       "    <tr>\n",
       "      <th>5</th>\n",
       "      <td>2</td>\n",
       "      <td>1</td>\n",
       "      <td>5.0</td>\n",
       "      <td>3</td>\n",
       "      <td>1.0</td>\n",
       "      <td>1</td>\n",
       "      <td>4</td>\n",
       "      <td>8.378268</td>\n",
       "      <td>6.000868</td>\n",
       "      <td>88.0</td>\n",
       "    </tr>\n",
       "  </tbody>\n",
       "</table>\n",
       "</div>"
      ],
      "text/plain": [
       "   estacion  año  mes festivo  dia_semana dia_laboral tiempo  temperatura  \\\n",
       "1         1    1  1.0       1         2.0           2      3    14.902598   \n",
       "2         1    1  1.5       3         1.0           1      3     8.050924   \n",
       "3         1    1  3.0       3         1.0           1      4     8.200000   \n",
       "4         2    1  3.0       3         2.0           2      4     9.305237   \n",
       "5         2    1  5.0       3         1.0           1      4     8.378268   \n",
       "\n",
       "   velocidad_viento  cliente_casual  \n",
       "1         16.652113           131.0  \n",
       "2         16.636703           120.0  \n",
       "3         10.739832           108.0  \n",
       "4         12.522300            82.0  \n",
       "5          6.000868            88.0  "
      ]
     },
     "execution_count": 105,
     "metadata": {},
     "output_type": "execute_result"
    }
   ],
   "source": [
    "df_casual.head()"
   ]
  },
  {
   "cell_type": "code",
   "execution_count": 106,
   "metadata": {},
   "outputs": [
    {
     "data": {
      "text/plain": [
       "estacion            0\n",
       "año                 0\n",
       "mes                 0\n",
       "festivo             0\n",
       "dia_semana          0\n",
       "dia_laboral         0\n",
       "tiempo              0\n",
       "temperatura         0\n",
       "velocidad_viento    0\n",
       "cliente_casual      0\n",
       "dtype: int64"
      ]
     },
     "execution_count": 106,
     "metadata": {},
     "output_type": "execute_result"
    }
   ],
   "source": [
    "df_casual.isnull().sum()"
   ]
  },
  {
   "attachments": {},
   "cell_type": "markdown",
   "metadata": {},
   "source": [
    "### Encoding para VR clientes registrados"
   ]
  },
  {
   "cell_type": "code",
   "execution_count": 107,
   "metadata": {},
   "outputs": [
    {
     "data": {
      "text/html": [
       "<div>\n",
       "<style scoped>\n",
       "    .dataframe tbody tr th:only-of-type {\n",
       "        vertical-align: middle;\n",
       "    }\n",
       "\n",
       "    .dataframe tbody tr th {\n",
       "        vertical-align: top;\n",
       "    }\n",
       "\n",
       "    .dataframe thead th {\n",
       "        text-align: right;\n",
       "    }\n",
       "</style>\n",
       "<table border=\"1\" class=\"dataframe\">\n",
       "  <thead>\n",
       "    <tr style=\"text-align: right;\">\n",
       "      <th></th>\n",
       "      <th>cliente_registrado</th>\n",
       "      <th>encoding</th>\n",
       "    </tr>\n",
       "    <tr>\n",
       "      <th>estacion</th>\n",
       "      <th></th>\n",
       "      <th></th>\n",
       "    </tr>\n",
       "  </thead>\n",
       "  <tbody>\n",
       "    <tr>\n",
       "      <th>invierno</th>\n",
       "      <td>2451.0</td>\n",
       "      <td>1.00</td>\n",
       "    </tr>\n",
       "    <tr>\n",
       "      <th>primavera</th>\n",
       "      <td>3725.5</td>\n",
       "      <td>1.52</td>\n",
       "    </tr>\n",
       "    <tr>\n",
       "      <th>otoño</th>\n",
       "      <td>3746.5</td>\n",
       "      <td>1.53</td>\n",
       "    </tr>\n",
       "    <tr>\n",
       "      <th>verano</th>\n",
       "      <td>4020.0</td>\n",
       "      <td>1.64</td>\n",
       "    </tr>\n",
       "  </tbody>\n",
       "</table>\n",
       "</div>"
      ],
      "text/plain": [
       "           cliente_registrado  encoding\n",
       "estacion                               \n",
       "invierno               2451.0      1.00\n",
       "primavera              3725.5      1.52\n",
       "otoño                  3746.5      1.53\n",
       "verano                 4020.0      1.64"
      ]
     },
     "metadata": {},
     "output_type": "display_data"
    },
    {
     "data": {
      "text/html": [
       "<div>\n",
       "<style scoped>\n",
       "    .dataframe tbody tr th:only-of-type {\n",
       "        vertical-align: middle;\n",
       "    }\n",
       "\n",
       "    .dataframe tbody tr th {\n",
       "        vertical-align: top;\n",
       "    }\n",
       "\n",
       "    .dataframe thead th {\n",
       "        text-align: right;\n",
       "    }\n",
       "</style>\n",
       "<table border=\"1\" class=\"dataframe\">\n",
       "  <thead>\n",
       "    <tr style=\"text-align: right;\">\n",
       "      <th></th>\n",
       "      <th>cliente_registrado</th>\n",
       "      <th>encoding</th>\n",
       "    </tr>\n",
       "    <tr>\n",
       "      <th>año</th>\n",
       "      <th></th>\n",
       "      <th></th>\n",
       "    </tr>\n",
       "  </thead>\n",
       "  <tbody>\n",
       "    <tr>\n",
       "      <th>2018</th>\n",
       "      <td>2915.0</td>\n",
       "      <td>1.00</td>\n",
       "    </tr>\n",
       "    <tr>\n",
       "      <th>2019</th>\n",
       "      <td>4795.5</td>\n",
       "      <td>1.65</td>\n",
       "    </tr>\n",
       "  </tbody>\n",
       "</table>\n",
       "</div>"
      ],
      "text/plain": [
       "      cliente_registrado  encoding\n",
       "año                               \n",
       "2018              2915.0      1.00\n",
       "2019              4795.5      1.65"
      ]
     },
     "metadata": {},
     "output_type": "display_data"
    },
    {
     "data": {
      "text/html": [
       "<div>\n",
       "<style scoped>\n",
       "    .dataframe tbody tr th:only-of-type {\n",
       "        vertical-align: middle;\n",
       "    }\n",
       "\n",
       "    .dataframe tbody tr th {\n",
       "        vertical-align: top;\n",
       "    }\n",
       "\n",
       "    .dataframe thead th {\n",
       "        text-align: right;\n",
       "    }\n",
       "</style>\n",
       "<table border=\"1\" class=\"dataframe\">\n",
       "  <thead>\n",
       "    <tr style=\"text-align: right;\">\n",
       "      <th></th>\n",
       "      <th>cliente_registrado</th>\n",
       "      <th>encoding</th>\n",
       "    </tr>\n",
       "    <tr>\n",
       "      <th>mes</th>\n",
       "      <th></th>\n",
       "      <th></th>\n",
       "    </tr>\n",
       "  </thead>\n",
       "  <tbody>\n",
       "    <tr>\n",
       "      <th>January</th>\n",
       "      <td>2493.5</td>\n",
       "      <td>1.00</td>\n",
       "    </tr>\n",
       "    <tr>\n",
       "      <th>December</th>\n",
       "      <td>2841.0</td>\n",
       "      <td>1.14</td>\n",
       "    </tr>\n",
       "    <tr>\n",
       "      <th>February</th>\n",
       "      <td>2895.5</td>\n",
       "      <td>1.16</td>\n",
       "    </tr>\n",
       "    <tr>\n",
       "      <th>March</th>\n",
       "      <td>3221.0</td>\n",
       "      <td>1.29</td>\n",
       "    </tr>\n",
       "    <tr>\n",
       "      <th>April</th>\n",
       "      <td>3606.0</td>\n",
       "      <td>1.45</td>\n",
       "    </tr>\n",
       "    <tr>\n",
       "      <th>November</th>\n",
       "      <td>3680.0</td>\n",
       "      <td>1.48</td>\n",
       "    </tr>\n",
       "    <tr>\n",
       "      <th>October</th>\n",
       "      <td>3691.0</td>\n",
       "      <td>1.48</td>\n",
       "    </tr>\n",
       "    <tr>\n",
       "      <th>May</th>\n",
       "      <td>3799.5</td>\n",
       "      <td>1.52</td>\n",
       "    </tr>\n",
       "    <tr>\n",
       "      <th>July</th>\n",
       "      <td>3809.0</td>\n",
       "      <td>1.53</td>\n",
       "    </tr>\n",
       "    <tr>\n",
       "      <th>August</th>\n",
       "      <td>4015.0</td>\n",
       "      <td>1.61</td>\n",
       "    </tr>\n",
       "    <tr>\n",
       "      <th>June</th>\n",
       "      <td>4113.0</td>\n",
       "      <td>1.65</td>\n",
       "    </tr>\n",
       "    <tr>\n",
       "      <th>September</th>\n",
       "      <td>4123.5</td>\n",
       "      <td>1.65</td>\n",
       "    </tr>\n",
       "  </tbody>\n",
       "</table>\n",
       "</div>"
      ],
      "text/plain": [
       "           cliente_registrado  encoding\n",
       "mes                                    \n",
       "January                2493.5      1.00\n",
       "December               2841.0      1.14\n",
       "February               2895.5      1.16\n",
       "March                  3221.0      1.29\n",
       "April                  3606.0      1.45\n",
       "November               3680.0      1.48\n",
       "October                3691.0      1.48\n",
       "May                    3799.5      1.52\n",
       "July                   3809.0      1.53\n",
       "August                 4015.0      1.61\n",
       "June                   4113.0      1.65\n",
       "September              4123.5      1.65"
      ]
     },
     "metadata": {},
     "output_type": "display_data"
    },
    {
     "data": {
      "text/html": [
       "<div>\n",
       "<style scoped>\n",
       "    .dataframe tbody tr th:only-of-type {\n",
       "        vertical-align: middle;\n",
       "    }\n",
       "\n",
       "    .dataframe tbody tr th {\n",
       "        vertical-align: top;\n",
       "    }\n",
       "\n",
       "    .dataframe thead th {\n",
       "        text-align: right;\n",
       "    }\n",
       "</style>\n",
       "<table border=\"1\" class=\"dataframe\">\n",
       "  <thead>\n",
       "    <tr style=\"text-align: right;\">\n",
       "      <th></th>\n",
       "      <th>cliente_registrado</th>\n",
       "      <th>encoding</th>\n",
       "    </tr>\n",
       "    <tr>\n",
       "      <th>festivo</th>\n",
       "      <th></th>\n",
       "      <th></th>\n",
       "    </tr>\n",
       "  </thead>\n",
       "  <tbody>\n",
       "    <tr>\n",
       "      <th>1</th>\n",
       "      <td>2433.0</td>\n",
       "      <td>1.00</td>\n",
       "    </tr>\n",
       "    <tr>\n",
       "      <th>0</th>\n",
       "      <td>3694.5</td>\n",
       "      <td>1.52</td>\n",
       "    </tr>\n",
       "  </tbody>\n",
       "</table>\n",
       "</div>"
      ],
      "text/plain": [
       "         cliente_registrado  encoding\n",
       "festivo                              \n",
       "1                    2433.0      1.00\n",
       "0                    3694.5      1.52"
      ]
     },
     "metadata": {},
     "output_type": "display_data"
    },
    {
     "data": {
      "text/html": [
       "<div>\n",
       "<style scoped>\n",
       "    .dataframe tbody tr th:only-of-type {\n",
       "        vertical-align: middle;\n",
       "    }\n",
       "\n",
       "    .dataframe tbody tr th {\n",
       "        vertical-align: top;\n",
       "    }\n",
       "\n",
       "    .dataframe thead th {\n",
       "        text-align: right;\n",
       "    }\n",
       "</style>\n",
       "<table border=\"1\" class=\"dataframe\">\n",
       "  <thead>\n",
       "    <tr style=\"text-align: right;\">\n",
       "      <th></th>\n",
       "      <th>cliente_registrado</th>\n",
       "      <th>encoding</th>\n",
       "    </tr>\n",
       "    <tr>\n",
       "      <th>dia_semana</th>\n",
       "      <th></th>\n",
       "      <th></th>\n",
       "    </tr>\n",
       "  </thead>\n",
       "  <tbody>\n",
       "    <tr>\n",
       "      <th>Lunes</th>\n",
       "      <td>3105.0</td>\n",
       "      <td>1.00</td>\n",
       "    </tr>\n",
       "    <tr>\n",
       "      <th>Domingo</th>\n",
       "      <td>3353.0</td>\n",
       "      <td>1.08</td>\n",
       "    </tr>\n",
       "    <tr>\n",
       "      <th>Martes</th>\n",
       "      <td>3609.5</td>\n",
       "      <td>1.16</td>\n",
       "    </tr>\n",
       "    <tr>\n",
       "      <th>Viernes</th>\n",
       "      <td>3730.0</td>\n",
       "      <td>1.20</td>\n",
       "    </tr>\n",
       "    <tr>\n",
       "      <th>Sabado</th>\n",
       "      <td>3737.0</td>\n",
       "      <td>1.20</td>\n",
       "    </tr>\n",
       "    <tr>\n",
       "      <th>Jueves</th>\n",
       "      <td>3877.5</td>\n",
       "      <td>1.25</td>\n",
       "    </tr>\n",
       "    <tr>\n",
       "      <th>Miercoles</th>\n",
       "      <td>3898.0</td>\n",
       "      <td>1.26</td>\n",
       "    </tr>\n",
       "  </tbody>\n",
       "</table>\n",
       "</div>"
      ],
      "text/plain": [
       "            cliente_registrado  encoding\n",
       "dia_semana                              \n",
       "Lunes                   3105.0      1.00\n",
       "Domingo                 3353.0      1.08\n",
       "Martes                  3609.5      1.16\n",
       "Viernes                 3730.0      1.20\n",
       "Sabado                  3737.0      1.20\n",
       "Jueves                  3877.5      1.25\n",
       "Miercoles               3898.0      1.26"
      ]
     },
     "metadata": {},
     "output_type": "display_data"
    },
    {
     "data": {
      "text/html": [
       "<div>\n",
       "<style scoped>\n",
       "    .dataframe tbody tr th:only-of-type {\n",
       "        vertical-align: middle;\n",
       "    }\n",
       "\n",
       "    .dataframe tbody tr th {\n",
       "        vertical-align: top;\n",
       "    }\n",
       "\n",
       "    .dataframe thead th {\n",
       "        text-align: right;\n",
       "    }\n",
       "</style>\n",
       "<table border=\"1\" class=\"dataframe\">\n",
       "  <thead>\n",
       "    <tr style=\"text-align: right;\">\n",
       "      <th></th>\n",
       "      <th>cliente_registrado</th>\n",
       "      <th>encoding</th>\n",
       "    </tr>\n",
       "    <tr>\n",
       "      <th>dia_laboral</th>\n",
       "      <th></th>\n",
       "      <th></th>\n",
       "    </tr>\n",
       "  </thead>\n",
       "  <tbody>\n",
       "    <tr>\n",
       "      <th>0</th>\n",
       "      <td>3420.0</td>\n",
       "      <td>1.00</td>\n",
       "    </tr>\n",
       "    <tr>\n",
       "      <th>1</th>\n",
       "      <td>3788.0</td>\n",
       "      <td>1.11</td>\n",
       "    </tr>\n",
       "  </tbody>\n",
       "</table>\n",
       "</div>"
      ],
      "text/plain": [
       "             cliente_registrado  encoding\n",
       "dia_laboral                              \n",
       "0                        3420.0      1.00\n",
       "1                        3788.0      1.11"
      ]
     },
     "metadata": {},
     "output_type": "display_data"
    },
    {
     "data": {
      "text/html": [
       "<div>\n",
       "<style scoped>\n",
       "    .dataframe tbody tr th:only-of-type {\n",
       "        vertical-align: middle;\n",
       "    }\n",
       "\n",
       "    .dataframe tbody tr th {\n",
       "        vertical-align: top;\n",
       "    }\n",
       "\n",
       "    .dataframe thead th {\n",
       "        text-align: right;\n",
       "    }\n",
       "</style>\n",
       "<table border=\"1\" class=\"dataframe\">\n",
       "  <thead>\n",
       "    <tr style=\"text-align: right;\">\n",
       "      <th></th>\n",
       "      <th>cliente_registrado</th>\n",
       "      <th>encoding</th>\n",
       "    </tr>\n",
       "    <tr>\n",
       "      <th>tiempo</th>\n",
       "      <th></th>\n",
       "      <th></th>\n",
       "    </tr>\n",
       "  </thead>\n",
       "  <tbody>\n",
       "    <tr>\n",
       "      <th>3</th>\n",
       "      <td>2186.0</td>\n",
       "      <td>1.00</td>\n",
       "    </tr>\n",
       "    <tr>\n",
       "      <th>2</th>\n",
       "      <td>3489.0</td>\n",
       "      <td>1.60</td>\n",
       "    </tr>\n",
       "    <tr>\n",
       "      <th>1</th>\n",
       "      <td>3788.0</td>\n",
       "      <td>1.73</td>\n",
       "    </tr>\n",
       "  </tbody>\n",
       "</table>\n",
       "</div>"
      ],
      "text/plain": [
       "        cliente_registrado  encoding\n",
       "tiempo                              \n",
       "3                   2186.0      1.00\n",
       "2                   3489.0      1.60\n",
       "1                   3788.0      1.73"
      ]
     },
     "metadata": {},
     "output_type": "display_data"
    }
   ],
   "source": [
    "for col in df_categoricas.columns:\n",
    "    \n",
    "    df_group2 = df.groupby(col)['cliente_registrado'].median()\n",
    "    df_group2 = pd.DataFrame(df_group2)\n",
    "    df_group2 = df_group2.sort_values(by='cliente_registrado')\n",
    "    df_group2['encoding'] = round(df_group2['cliente_registrado']/df_group2.iloc[0,0], 2)\n",
    "    display(df_group2)"
   ]
  },
  {
   "cell_type": "code",
   "execution_count": 108,
   "metadata": {},
   "outputs": [],
   "source": [
    "map_estacion2 = {'invierno': 1, 'primavera': 1.5, 'otoño': 1.5, 'verano': 1.5}"
   ]
  },
  {
   "cell_type": "code",
   "execution_count": 109,
   "metadata": {},
   "outputs": [],
   "source": [
    "map_año2 = {'2018': 1,\n",
    "            '2019': 2}\n",
    "\n",
    "map_mes2 = {'January': 1,\n",
    "           'December': 1,\n",
    "           'February': 1,\n",
    "           'March': 2,\n",
    "           'April': 2,\n",
    "           'November': 2,\n",
    "           'October': 2,\n",
    "           'May': 2,\n",
    "           'July': 2,\n",
    "           'August': 3,\n",
    "           'June': 2,\n",
    "           'September': 3}\n",
    "\n",
    "map_festivo2 = {1: 1,\n",
    "                0: 2}\n",
    "\n",
    "map_tiempo2 = {3: 1,\n",
    "              2: 2,\n",
    "              1: 2}"
   ]
  },
  {
   "cell_type": "code",
   "execution_count": 110,
   "metadata": {},
   "outputs": [
    {
     "data": {
      "text/html": [
       "<div>\n",
       "<style scoped>\n",
       "    .dataframe tbody tr th:only-of-type {\n",
       "        vertical-align: middle;\n",
       "    }\n",
       "\n",
       "    .dataframe tbody tr th {\n",
       "        vertical-align: top;\n",
       "    }\n",
       "\n",
       "    .dataframe thead th {\n",
       "        text-align: right;\n",
       "    }\n",
       "</style>\n",
       "<table border=\"1\" class=\"dataframe\">\n",
       "  <thead>\n",
       "    <tr style=\"text-align: right;\">\n",
       "      <th></th>\n",
       "      <th>estacion</th>\n",
       "      <th>año</th>\n",
       "      <th>mes</th>\n",
       "      <th>festivo</th>\n",
       "      <th>dia_semana</th>\n",
       "      <th>dia_laboral</th>\n",
       "      <th>tiempo</th>\n",
       "      <th>temperatura</th>\n",
       "      <th>velocidad_viento</th>\n",
       "      <th>cliente_registrado</th>\n",
       "    </tr>\n",
       "  </thead>\n",
       "  <tbody>\n",
       "    <tr>\n",
       "      <th>1</th>\n",
       "      <td>invierno</td>\n",
       "      <td>2018</td>\n",
       "      <td>January</td>\n",
       "      <td>1</td>\n",
       "      <td>Lunes</td>\n",
       "      <td>0</td>\n",
       "      <td>2</td>\n",
       "      <td>14.902598</td>\n",
       "      <td>16.652113</td>\n",
       "      <td>670.0</td>\n",
       "    </tr>\n",
       "    <tr>\n",
       "      <th>2</th>\n",
       "      <td>invierno</td>\n",
       "      <td>2018</td>\n",
       "      <td>February</td>\n",
       "      <td>0</td>\n",
       "      <td>Jueves</td>\n",
       "      <td>1</td>\n",
       "      <td>2</td>\n",
       "      <td>8.050924</td>\n",
       "      <td>16.636703</td>\n",
       "      <td>1229.0</td>\n",
       "    </tr>\n",
       "  </tbody>\n",
       "</table>\n",
       "</div>"
      ],
      "text/plain": [
       "   estacion   año       mes festivo dia_semana dia_laboral tiempo  \\\n",
       "1  invierno  2018   January       1      Lunes           0      2   \n",
       "2  invierno  2018  February       0     Jueves           1      2   \n",
       "\n",
       "   temperatura  velocidad_viento  cliente_registrado  \n",
       "1    14.902598         16.652113               670.0  \n",
       "2     8.050924         16.636703              1229.0  "
      ]
     },
     "execution_count": 110,
     "metadata": {},
     "output_type": "execute_result"
    }
   ],
   "source": [
    "df_registrado = df.copy().drop('cliente_casual', axis=1)\n",
    "df_registrado.head(2)"
   ]
  },
  {
   "cell_type": "code",
   "execution_count": 111,
   "metadata": {},
   "outputs": [],
   "source": [
    "df_registrado['estacion'] = df_registrado['estacion'].map(map_estacion2)"
   ]
  },
  {
   "cell_type": "code",
   "execution_count": 112,
   "metadata": {},
   "outputs": [],
   "source": [
    "df_registrado['año'] = df_registrado['año'].map(map_año2)"
   ]
  },
  {
   "cell_type": "code",
   "execution_count": 113,
   "metadata": {},
   "outputs": [],
   "source": [
    "df_registrado['mes'] = df_registrado['mes'].map(map_mes2)"
   ]
  },
  {
   "cell_type": "code",
   "execution_count": 114,
   "metadata": {},
   "outputs": [],
   "source": [
    "df_registrado['festivo'] = df_registrado['festivo'].map(map_festivo2)"
   ]
  },
  {
   "cell_type": "code",
   "execution_count": 115,
   "metadata": {},
   "outputs": [],
   "source": [
    "df_registrado['tiempo'] = df_registrado['tiempo'].map(map_tiempo2)"
   ]
  },
  {
   "cell_type": "code",
   "execution_count": 116,
   "metadata": {},
   "outputs": [
    {
     "data": {
      "text/html": [
       "<div>\n",
       "<style scoped>\n",
       "    .dataframe tbody tr th:only-of-type {\n",
       "        vertical-align: middle;\n",
       "    }\n",
       "\n",
       "    .dataframe tbody tr th {\n",
       "        vertical-align: top;\n",
       "    }\n",
       "\n",
       "    .dataframe thead th {\n",
       "        text-align: right;\n",
       "    }\n",
       "</style>\n",
       "<table border=\"1\" class=\"dataframe\">\n",
       "  <thead>\n",
       "    <tr style=\"text-align: right;\">\n",
       "      <th></th>\n",
       "      <th>estacion</th>\n",
       "      <th>año</th>\n",
       "      <th>mes</th>\n",
       "      <th>festivo</th>\n",
       "      <th>dia_semana</th>\n",
       "      <th>dia_laboral</th>\n",
       "      <th>tiempo</th>\n",
       "      <th>temperatura</th>\n",
       "      <th>velocidad_viento</th>\n",
       "      <th>cliente_registrado</th>\n",
       "    </tr>\n",
       "  </thead>\n",
       "  <tbody>\n",
       "    <tr>\n",
       "      <th>1</th>\n",
       "      <td>1.0</td>\n",
       "      <td>1</td>\n",
       "      <td>1</td>\n",
       "      <td>1</td>\n",
       "      <td>Lunes</td>\n",
       "      <td>0</td>\n",
       "      <td>2</td>\n",
       "      <td>14.902598</td>\n",
       "      <td>16.652113</td>\n",
       "      <td>670.0</td>\n",
       "    </tr>\n",
       "    <tr>\n",
       "      <th>2</th>\n",
       "      <td>1.0</td>\n",
       "      <td>1</td>\n",
       "      <td>1</td>\n",
       "      <td>2</td>\n",
       "      <td>Jueves</td>\n",
       "      <td>1</td>\n",
       "      <td>2</td>\n",
       "      <td>8.050924</td>\n",
       "      <td>16.636703</td>\n",
       "      <td>1229.0</td>\n",
       "    </tr>\n",
       "    <tr>\n",
       "      <th>3</th>\n",
       "      <td>1.0</td>\n",
       "      <td>1</td>\n",
       "      <td>2</td>\n",
       "      <td>2</td>\n",
       "      <td>Jueves</td>\n",
       "      <td>1</td>\n",
       "      <td>2</td>\n",
       "      <td>8.200000</td>\n",
       "      <td>10.739832</td>\n",
       "      <td>1454.0</td>\n",
       "    </tr>\n",
       "    <tr>\n",
       "      <th>4</th>\n",
       "      <td>1.5</td>\n",
       "      <td>1</td>\n",
       "      <td>2</td>\n",
       "      <td>2</td>\n",
       "      <td>Domingo</td>\n",
       "      <td>0</td>\n",
       "      <td>2</td>\n",
       "      <td>9.305237</td>\n",
       "      <td>12.522300</td>\n",
       "      <td>1518.0</td>\n",
       "    </tr>\n",
       "    <tr>\n",
       "      <th>5</th>\n",
       "      <td>1.5</td>\n",
       "      <td>1</td>\n",
       "      <td>2</td>\n",
       "      <td>2</td>\n",
       "      <td>Martes</td>\n",
       "      <td>1</td>\n",
       "      <td>2</td>\n",
       "      <td>8.378268</td>\n",
       "      <td>6.000868</td>\n",
       "      <td>1518.0</td>\n",
       "    </tr>\n",
       "  </tbody>\n",
       "</table>\n",
       "</div>"
      ],
      "text/plain": [
       "   estacion  año  mes festivo dia_semana dia_laboral  tiempo  temperatura  \\\n",
       "1       1.0    1    1       1      Lunes           0       2    14.902598   \n",
       "2       1.0    1    1       2     Jueves           1       2     8.050924   \n",
       "3       1.0    1    2       2     Jueves           1       2     8.200000   \n",
       "4       1.5    1    2       2    Domingo           0       2     9.305237   \n",
       "5       1.5    1    2       2     Martes           1       2     8.378268   \n",
       "\n",
       "   velocidad_viento  cliente_registrado  \n",
       "1         16.652113               670.0  \n",
       "2         16.636703              1229.0  \n",
       "3         10.739832              1454.0  \n",
       "4         12.522300              1518.0  \n",
       "5          6.000868              1518.0  "
      ]
     },
     "execution_count": 116,
     "metadata": {},
     "output_type": "execute_result"
    }
   ],
   "source": [
    "df_registrado.head()"
   ]
  },
  {
   "cell_type": "code",
   "execution_count": 117,
   "metadata": {},
   "outputs": [],
   "source": [
    "df_dummies = pd.get_dummies(df_registrado, columns = ['dia_semana', 'dia_laboral'], dtype=int)"
   ]
  },
  {
   "cell_type": "code",
   "execution_count": 118,
   "metadata": {},
   "outputs": [],
   "source": [
    "df_registrado[df_dummies.columns] = df_dummies"
   ]
  },
  {
   "cell_type": "code",
   "execution_count": 119,
   "metadata": {},
   "outputs": [],
   "source": [
    "df_registrado.drop(['dia_semana', 'dia_laboral'], axis=1, inplace=True)"
   ]
  },
  {
   "cell_type": "code",
   "execution_count": 120,
   "metadata": {},
   "outputs": [
    {
     "data": {
      "text/html": [
       "<div>\n",
       "<style scoped>\n",
       "    .dataframe tbody tr th:only-of-type {\n",
       "        vertical-align: middle;\n",
       "    }\n",
       "\n",
       "    .dataframe tbody tr th {\n",
       "        vertical-align: top;\n",
       "    }\n",
       "\n",
       "    .dataframe thead th {\n",
       "        text-align: right;\n",
       "    }\n",
       "</style>\n",
       "<table border=\"1\" class=\"dataframe\">\n",
       "  <thead>\n",
       "    <tr style=\"text-align: right;\">\n",
       "      <th></th>\n",
       "      <th>estacion</th>\n",
       "      <th>año</th>\n",
       "      <th>mes</th>\n",
       "      <th>festivo</th>\n",
       "      <th>tiempo</th>\n",
       "      <th>temperatura</th>\n",
       "      <th>velocidad_viento</th>\n",
       "      <th>cliente_registrado</th>\n",
       "      <th>dia_semana_Domingo</th>\n",
       "      <th>dia_semana_Jueves</th>\n",
       "      <th>dia_semana_Lunes</th>\n",
       "      <th>dia_semana_Martes</th>\n",
       "      <th>dia_semana_Miercoles</th>\n",
       "      <th>dia_semana_Sabado</th>\n",
       "      <th>dia_semana_Viernes</th>\n",
       "      <th>dia_laboral_0</th>\n",
       "      <th>dia_laboral_1</th>\n",
       "    </tr>\n",
       "  </thead>\n",
       "  <tbody>\n",
       "    <tr>\n",
       "      <th>1</th>\n",
       "      <td>1.0</td>\n",
       "      <td>1</td>\n",
       "      <td>1</td>\n",
       "      <td>1</td>\n",
       "      <td>2</td>\n",
       "      <td>14.902598</td>\n",
       "      <td>16.652113</td>\n",
       "      <td>670.0</td>\n",
       "      <td>0</td>\n",
       "      <td>0</td>\n",
       "      <td>1</td>\n",
       "      <td>0</td>\n",
       "      <td>0</td>\n",
       "      <td>0</td>\n",
       "      <td>0</td>\n",
       "      <td>1</td>\n",
       "      <td>0</td>\n",
       "    </tr>\n",
       "    <tr>\n",
       "      <th>2</th>\n",
       "      <td>1.0</td>\n",
       "      <td>1</td>\n",
       "      <td>1</td>\n",
       "      <td>2</td>\n",
       "      <td>2</td>\n",
       "      <td>8.050924</td>\n",
       "      <td>16.636703</td>\n",
       "      <td>1229.0</td>\n",
       "      <td>0</td>\n",
       "      <td>1</td>\n",
       "      <td>0</td>\n",
       "      <td>0</td>\n",
       "      <td>0</td>\n",
       "      <td>0</td>\n",
       "      <td>0</td>\n",
       "      <td>0</td>\n",
       "      <td>1</td>\n",
       "    </tr>\n",
       "  </tbody>\n",
       "</table>\n",
       "</div>"
      ],
      "text/plain": [
       "   estacion  año  mes festivo  tiempo  temperatura  velocidad_viento  \\\n",
       "1       1.0    1    1       1       2    14.902598         16.652113   \n",
       "2       1.0    1    1       2       2     8.050924         16.636703   \n",
       "\n",
       "   cliente_registrado  dia_semana_Domingo  dia_semana_Jueves  \\\n",
       "1               670.0                   0                  0   \n",
       "2              1229.0                   0                  1   \n",
       "\n",
       "   dia_semana_Lunes  dia_semana_Martes  dia_semana_Miercoles  \\\n",
       "1                 1                  0                     0   \n",
       "2                 0                  0                     0   \n",
       "\n",
       "   dia_semana_Sabado  dia_semana_Viernes  dia_laboral_0  dia_laboral_1  \n",
       "1                  0                   0              1              0  \n",
       "2                  0                   0              0              1  "
      ]
     },
     "execution_count": 120,
     "metadata": {},
     "output_type": "execute_result"
    }
   ],
   "source": [
    "df_registrado.head(2)"
   ]
  },
  {
   "cell_type": "code",
   "execution_count": 121,
   "metadata": {},
   "outputs": [],
   "source": [
    "columnas = {'dia_laboral_0': 'no_dia_laboral', 'dia_laboral_1': 'si_dia_laboral'}\n",
    "df_registrado.rename(columns = columnas, inplace=True)"
   ]
  },
  {
   "cell_type": "code",
   "execution_count": 122,
   "metadata": {},
   "outputs": [
    {
     "data": {
      "text/html": [
       "<div>\n",
       "<style scoped>\n",
       "    .dataframe tbody tr th:only-of-type {\n",
       "        vertical-align: middle;\n",
       "    }\n",
       "\n",
       "    .dataframe tbody tr th {\n",
       "        vertical-align: top;\n",
       "    }\n",
       "\n",
       "    .dataframe thead th {\n",
       "        text-align: right;\n",
       "    }\n",
       "</style>\n",
       "<table border=\"1\" class=\"dataframe\">\n",
       "  <thead>\n",
       "    <tr style=\"text-align: right;\">\n",
       "      <th></th>\n",
       "      <th>estacion</th>\n",
       "      <th>año</th>\n",
       "      <th>mes</th>\n",
       "      <th>festivo</th>\n",
       "      <th>tiempo</th>\n",
       "      <th>temperatura</th>\n",
       "      <th>velocidad_viento</th>\n",
       "      <th>cliente_registrado</th>\n",
       "      <th>dia_semana_Domingo</th>\n",
       "      <th>dia_semana_Jueves</th>\n",
       "      <th>dia_semana_Lunes</th>\n",
       "      <th>dia_semana_Martes</th>\n",
       "      <th>dia_semana_Miercoles</th>\n",
       "      <th>dia_semana_Sabado</th>\n",
       "      <th>dia_semana_Viernes</th>\n",
       "      <th>no_dia_laboral</th>\n",
       "      <th>si_dia_laboral</th>\n",
       "    </tr>\n",
       "  </thead>\n",
       "  <tbody>\n",
       "    <tr>\n",
       "      <th>1</th>\n",
       "      <td>1.0</td>\n",
       "      <td>1</td>\n",
       "      <td>1</td>\n",
       "      <td>1</td>\n",
       "      <td>2</td>\n",
       "      <td>14.902598</td>\n",
       "      <td>16.652113</td>\n",
       "      <td>670.0</td>\n",
       "      <td>0</td>\n",
       "      <td>0</td>\n",
       "      <td>1</td>\n",
       "      <td>0</td>\n",
       "      <td>0</td>\n",
       "      <td>0</td>\n",
       "      <td>0</td>\n",
       "      <td>1</td>\n",
       "      <td>0</td>\n",
       "    </tr>\n",
       "    <tr>\n",
       "      <th>2</th>\n",
       "      <td>1.0</td>\n",
       "      <td>1</td>\n",
       "      <td>1</td>\n",
       "      <td>2</td>\n",
       "      <td>2</td>\n",
       "      <td>8.050924</td>\n",
       "      <td>16.636703</td>\n",
       "      <td>1229.0</td>\n",
       "      <td>0</td>\n",
       "      <td>1</td>\n",
       "      <td>0</td>\n",
       "      <td>0</td>\n",
       "      <td>0</td>\n",
       "      <td>0</td>\n",
       "      <td>0</td>\n",
       "      <td>0</td>\n",
       "      <td>1</td>\n",
       "    </tr>\n",
       "    <tr>\n",
       "      <th>3</th>\n",
       "      <td>1.0</td>\n",
       "      <td>1</td>\n",
       "      <td>2</td>\n",
       "      <td>2</td>\n",
       "      <td>2</td>\n",
       "      <td>8.200000</td>\n",
       "      <td>10.739832</td>\n",
       "      <td>1454.0</td>\n",
       "      <td>0</td>\n",
       "      <td>1</td>\n",
       "      <td>0</td>\n",
       "      <td>0</td>\n",
       "      <td>0</td>\n",
       "      <td>0</td>\n",
       "      <td>0</td>\n",
       "      <td>0</td>\n",
       "      <td>1</td>\n",
       "    </tr>\n",
       "    <tr>\n",
       "      <th>4</th>\n",
       "      <td>1.5</td>\n",
       "      <td>1</td>\n",
       "      <td>2</td>\n",
       "      <td>2</td>\n",
       "      <td>2</td>\n",
       "      <td>9.305237</td>\n",
       "      <td>12.522300</td>\n",
       "      <td>1518.0</td>\n",
       "      <td>1</td>\n",
       "      <td>0</td>\n",
       "      <td>0</td>\n",
       "      <td>0</td>\n",
       "      <td>0</td>\n",
       "      <td>0</td>\n",
       "      <td>0</td>\n",
       "      <td>1</td>\n",
       "      <td>0</td>\n",
       "    </tr>\n",
       "    <tr>\n",
       "      <th>5</th>\n",
       "      <td>1.5</td>\n",
       "      <td>1</td>\n",
       "      <td>2</td>\n",
       "      <td>2</td>\n",
       "      <td>2</td>\n",
       "      <td>8.378268</td>\n",
       "      <td>6.000868</td>\n",
       "      <td>1518.0</td>\n",
       "      <td>0</td>\n",
       "      <td>0</td>\n",
       "      <td>0</td>\n",
       "      <td>1</td>\n",
       "      <td>0</td>\n",
       "      <td>0</td>\n",
       "      <td>0</td>\n",
       "      <td>0</td>\n",
       "      <td>1</td>\n",
       "    </tr>\n",
       "  </tbody>\n",
       "</table>\n",
       "</div>"
      ],
      "text/plain": [
       "   estacion  año  mes festivo  tiempo  temperatura  velocidad_viento  \\\n",
       "1       1.0    1    1       1       2    14.902598         16.652113   \n",
       "2       1.0    1    1       2       2     8.050924         16.636703   \n",
       "3       1.0    1    2       2       2     8.200000         10.739832   \n",
       "4       1.5    1    2       2       2     9.305237         12.522300   \n",
       "5       1.5    1    2       2       2     8.378268          6.000868   \n",
       "\n",
       "   cliente_registrado  dia_semana_Domingo  dia_semana_Jueves  \\\n",
       "1               670.0                   0                  0   \n",
       "2              1229.0                   0                  1   \n",
       "3              1454.0                   0                  1   \n",
       "4              1518.0                   1                  0   \n",
       "5              1518.0                   0                  0   \n",
       "\n",
       "   dia_semana_Lunes  dia_semana_Martes  dia_semana_Miercoles  \\\n",
       "1                 1                  0                     0   \n",
       "2                 0                  0                     0   \n",
       "3                 0                  0                     0   \n",
       "4                 0                  0                     0   \n",
       "5                 0                  1                     0   \n",
       "\n",
       "   dia_semana_Sabado  dia_semana_Viernes  no_dia_laboral  si_dia_laboral  \n",
       "1                  0                   0               1               0  \n",
       "2                  0                   0               0               1  \n",
       "3                  0                   0               0               1  \n",
       "4                  0                   0               1               0  \n",
       "5                  0                   0               0               1  "
      ]
     },
     "execution_count": 122,
     "metadata": {},
     "output_type": "execute_result"
    }
   ],
   "source": [
    "df_registrado.head()"
   ]
  },
  {
   "attachments": {},
   "cell_type": "markdown",
   "metadata": {},
   "source": [
    "## ESTANDARIZACIÓN\n",
    "\n",
    "- como hemos gestiando los outliers, vamos a usar el método StandardScaler de Sklearn para estandarizar las variables predictoras numéricas"
   ]
  },
  {
   "cell_type": "code",
   "execution_count": 123,
   "metadata": {},
   "outputs": [
    {
     "data": {
      "text/html": [
       "<div>\n",
       "<style scoped>\n",
       "    .dataframe tbody tr th:only-of-type {\n",
       "        vertical-align: middle;\n",
       "    }\n",
       "\n",
       "    .dataframe tbody tr th {\n",
       "        vertical-align: top;\n",
       "    }\n",
       "\n",
       "    .dataframe thead th {\n",
       "        text-align: right;\n",
       "    }\n",
       "</style>\n",
       "<table border=\"1\" class=\"dataframe\">\n",
       "  <thead>\n",
       "    <tr style=\"text-align: right;\">\n",
       "      <th></th>\n",
       "      <th>temperatura</th>\n",
       "      <th>velocidad_viento</th>\n",
       "      <th>cliente_casual</th>\n",
       "      <th>cliente_registrado</th>\n",
       "    </tr>\n",
       "  </thead>\n",
       "  <tbody>\n",
       "    <tr>\n",
       "      <th>1</th>\n",
       "      <td>14.902598</td>\n",
       "      <td>16.652113</td>\n",
       "      <td>131.0</td>\n",
       "      <td>670.0</td>\n",
       "    </tr>\n",
       "    <tr>\n",
       "      <th>2</th>\n",
       "      <td>8.050924</td>\n",
       "      <td>16.636703</td>\n",
       "      <td>120.0</td>\n",
       "      <td>1229.0</td>\n",
       "    </tr>\n",
       "  </tbody>\n",
       "</table>\n",
       "</div>"
      ],
      "text/plain": [
       "   temperatura  velocidad_viento  cliente_casual  cliente_registrado\n",
       "1    14.902598         16.652113           131.0               670.0\n",
       "2     8.050924         16.636703           120.0              1229.0"
      ]
     },
     "execution_count": 123,
     "metadata": {},
     "output_type": "execute_result"
    }
   ],
   "source": [
    "# creamos de nuevo un dataframe de las variables numericas que vamos a estandarizar\n",
    "\n",
    "df_numericas = df.select_dtypes(include=np.number)\n",
    "df_numericas.head(2)"
   ]
  },
  {
   "cell_type": "code",
   "execution_count": 124,
   "metadata": {},
   "outputs": [],
   "source": [
    "# creamos la instancia del model\n",
    "\n",
    "scaler = StandardScaler()"
   ]
  },
  {
   "cell_type": "code",
   "execution_count": 125,
   "metadata": {},
   "outputs": [
    {
     "data": {
      "text/html": [
       "<style>#sk-container-id-3 {color: black;background-color: white;}#sk-container-id-3 pre{padding: 0;}#sk-container-id-3 div.sk-toggleable {background-color: white;}#sk-container-id-3 label.sk-toggleable__label {cursor: pointer;display: block;width: 100%;margin-bottom: 0;padding: 0.3em;box-sizing: border-box;text-align: center;}#sk-container-id-3 label.sk-toggleable__label-arrow:before {content: \"▸\";float: left;margin-right: 0.25em;color: #696969;}#sk-container-id-3 label.sk-toggleable__label-arrow:hover:before {color: black;}#sk-container-id-3 div.sk-estimator:hover label.sk-toggleable__label-arrow:before {color: black;}#sk-container-id-3 div.sk-toggleable__content {max-height: 0;max-width: 0;overflow: hidden;text-align: left;background-color: #f0f8ff;}#sk-container-id-3 div.sk-toggleable__content pre {margin: 0.2em;color: black;border-radius: 0.25em;background-color: #f0f8ff;}#sk-container-id-3 input.sk-toggleable__control:checked~div.sk-toggleable__content {max-height: 200px;max-width: 100%;overflow: auto;}#sk-container-id-3 input.sk-toggleable__control:checked~label.sk-toggleable__label-arrow:before {content: \"▾\";}#sk-container-id-3 div.sk-estimator input.sk-toggleable__control:checked~label.sk-toggleable__label {background-color: #d4ebff;}#sk-container-id-3 div.sk-label input.sk-toggleable__control:checked~label.sk-toggleable__label {background-color: #d4ebff;}#sk-container-id-3 input.sk-hidden--visually {border: 0;clip: rect(1px 1px 1px 1px);clip: rect(1px, 1px, 1px, 1px);height: 1px;margin: -1px;overflow: hidden;padding: 0;position: absolute;width: 1px;}#sk-container-id-3 div.sk-estimator {font-family: monospace;background-color: #f0f8ff;border: 1px dotted black;border-radius: 0.25em;box-sizing: border-box;margin-bottom: 0.5em;}#sk-container-id-3 div.sk-estimator:hover {background-color: #d4ebff;}#sk-container-id-3 div.sk-parallel-item::after {content: \"\";width: 100%;border-bottom: 1px solid gray;flex-grow: 1;}#sk-container-id-3 div.sk-label:hover label.sk-toggleable__label {background-color: #d4ebff;}#sk-container-id-3 div.sk-serial::before {content: \"\";position: absolute;border-left: 1px solid gray;box-sizing: border-box;top: 0;bottom: 0;left: 50%;z-index: 0;}#sk-container-id-3 div.sk-serial {display: flex;flex-direction: column;align-items: center;background-color: white;padding-right: 0.2em;padding-left: 0.2em;position: relative;}#sk-container-id-3 div.sk-item {position: relative;z-index: 1;}#sk-container-id-3 div.sk-parallel {display: flex;align-items: stretch;justify-content: center;background-color: white;position: relative;}#sk-container-id-3 div.sk-item::before, #sk-container-id-3 div.sk-parallel-item::before {content: \"\";position: absolute;border-left: 1px solid gray;box-sizing: border-box;top: 0;bottom: 0;left: 50%;z-index: -1;}#sk-container-id-3 div.sk-parallel-item {display: flex;flex-direction: column;z-index: 1;position: relative;background-color: white;}#sk-container-id-3 div.sk-parallel-item:first-child::after {align-self: flex-end;width: 50%;}#sk-container-id-3 div.sk-parallel-item:last-child::after {align-self: flex-start;width: 50%;}#sk-container-id-3 div.sk-parallel-item:only-child::after {width: 0;}#sk-container-id-3 div.sk-dashed-wrapped {border: 1px dashed gray;margin: 0 0.4em 0.5em 0.4em;box-sizing: border-box;padding-bottom: 0.4em;background-color: white;}#sk-container-id-3 div.sk-label label {font-family: monospace;font-weight: bold;display: inline-block;line-height: 1.2em;}#sk-container-id-3 div.sk-label-container {text-align: center;}#sk-container-id-3 div.sk-container {/* jupyter's `normalize.less` sets `[hidden] { display: none; }` but bootstrap.min.css set `[hidden] { display: none !important; }` so we also need the `!important` here to be able to override the default hidden behavior on the sphinx rendered scikit-learn.org. See: https://github.com/scikit-learn/scikit-learn/issues/21755 */display: inline-block !important;position: relative;}#sk-container-id-3 div.sk-text-repr-fallback {display: none;}</style><div id=\"sk-container-id-3\" class=\"sk-top-container\"><div class=\"sk-text-repr-fallback\"><pre>StandardScaler()</pre><b>In a Jupyter environment, please rerun this cell to show the HTML representation or trust the notebook. <br />On GitHub, the HTML representation is unable to render, please try loading this page with nbviewer.org.</b></div><div class=\"sk-container\" hidden><div class=\"sk-item\"><div class=\"sk-estimator sk-toggleable\"><input class=\"sk-toggleable__control sk-hidden--visually\" id=\"sk-estimator-id-3\" type=\"checkbox\" checked><label for=\"sk-estimator-id-3\" class=\"sk-toggleable__label sk-toggleable__label-arrow\">StandardScaler</label><div class=\"sk-toggleable__content\"><pre>StandardScaler()</pre></div></div></div></div></div>"
      ],
      "text/plain": [
       "StandardScaler()"
      ]
     },
     "execution_count": 125,
     "metadata": {},
     "output_type": "execute_result"
    }
   ],
   "source": [
    "# ajustamos el modelo\n",
    "\n",
    "scaler.fit(df_numericas)"
   ]
  },
  {
   "cell_type": "code",
   "execution_count": 126,
   "metadata": {},
   "outputs": [],
   "source": [
    "# aplicamos el modelo a los datos numericas\n",
    "\n",
    "X_escaladas = scaler.transform(df_numericas)"
   ]
  },
  {
   "cell_type": "code",
   "execution_count": 127,
   "metadata": {},
   "outputs": [],
   "source": [
    "# creamos un dataframe de los datos estandarizados\n",
    "\n",
    "df_estandarizada = pd.DataFrame(X_escaladas, columns = df_numericas.columns)"
   ]
  },
  {
   "cell_type": "code",
   "execution_count": 128,
   "metadata": {},
   "outputs": [],
   "source": [
    "df_estandarizada.drop(['cliente_casual', 'cliente_registrado'], axis=1, inplace=True)"
   ]
  },
  {
   "cell_type": "code",
   "execution_count": 129,
   "metadata": {},
   "outputs": [],
   "source": [
    "# eliminamos las columnas originales para poder añadir las columnas estandarizadas\n",
    "\n",
    "df_casual.drop(df_estandarizada.columns, axis=1, inplace=True)"
   ]
  },
  {
   "cell_type": "code",
   "execution_count": 130,
   "metadata": {},
   "outputs": [],
   "source": [
    "# eliminamos las columnas originales para poder añadir las columnas estandarizadas\n",
    "\n",
    "df_registrado.drop(df_estandarizada.columns, axis=1, inplace=True)"
   ]
  },
  {
   "cell_type": "code",
   "execution_count": 131,
   "metadata": {},
   "outputs": [
    {
     "data": {
      "text/html": [
       "<div>\n",
       "<style scoped>\n",
       "    .dataframe tbody tr th:only-of-type {\n",
       "        vertical-align: middle;\n",
       "    }\n",
       "\n",
       "    .dataframe tbody tr th {\n",
       "        vertical-align: top;\n",
       "    }\n",
       "\n",
       "    .dataframe thead th {\n",
       "        text-align: right;\n",
       "    }\n",
       "</style>\n",
       "<table border=\"1\" class=\"dataframe\">\n",
       "  <thead>\n",
       "    <tr style=\"text-align: right;\">\n",
       "      <th></th>\n",
       "      <th>temperatura</th>\n",
       "      <th>velocidad_viento</th>\n",
       "    </tr>\n",
       "  </thead>\n",
       "  <tbody>\n",
       "    <tr>\n",
       "      <th>0</th>\n",
       "      <td>-0.723048</td>\n",
       "      <td>0.747931</td>\n",
       "    </tr>\n",
       "    <tr>\n",
       "      <th>1</th>\n",
       "      <td>-1.636215</td>\n",
       "      <td>0.744965</td>\n",
       "    </tr>\n",
       "  </tbody>\n",
       "</table>\n",
       "</div>"
      ],
      "text/plain": [
       "   temperatura  velocidad_viento\n",
       "0    -0.723048          0.747931\n",
       "1    -1.636215          0.744965"
      ]
     },
     "execution_count": 131,
     "metadata": {},
     "output_type": "execute_result"
    }
   ],
   "source": [
    "df_estandarizada.head(2)"
   ]
  },
  {
   "cell_type": "code",
   "execution_count": 132,
   "metadata": {},
   "outputs": [],
   "source": [
    "# añadimos las columnas estandarizadas\n",
    "\n",
    "df_casual = pd.concat([df_estandarizada, df_casual], axis=1, join='inner')"
   ]
  },
  {
   "cell_type": "code",
   "execution_count": 133,
   "metadata": {},
   "outputs": [
    {
     "data": {
      "text/html": [
       "<div>\n",
       "<style scoped>\n",
       "    .dataframe tbody tr th:only-of-type {\n",
       "        vertical-align: middle;\n",
       "    }\n",
       "\n",
       "    .dataframe tbody tr th {\n",
       "        vertical-align: top;\n",
       "    }\n",
       "\n",
       "    .dataframe thead th {\n",
       "        text-align: right;\n",
       "    }\n",
       "</style>\n",
       "<table border=\"1\" class=\"dataframe\">\n",
       "  <thead>\n",
       "    <tr style=\"text-align: right;\">\n",
       "      <th></th>\n",
       "      <th>temperatura</th>\n",
       "      <th>velocidad_viento</th>\n",
       "      <th>estacion</th>\n",
       "      <th>año</th>\n",
       "      <th>mes</th>\n",
       "      <th>festivo</th>\n",
       "      <th>dia_semana</th>\n",
       "      <th>dia_laboral</th>\n",
       "      <th>tiempo</th>\n",
       "      <th>cliente_casual</th>\n",
       "    </tr>\n",
       "  </thead>\n",
       "  <tbody>\n",
       "    <tr>\n",
       "      <th>1</th>\n",
       "      <td>-1.636215</td>\n",
       "      <td>0.744965</td>\n",
       "      <td>1</td>\n",
       "      <td>1</td>\n",
       "      <td>1.0</td>\n",
       "      <td>1</td>\n",
       "      <td>2.0</td>\n",
       "      <td>2</td>\n",
       "      <td>3</td>\n",
       "      <td>131.0</td>\n",
       "    </tr>\n",
       "    <tr>\n",
       "      <th>2</th>\n",
       "      <td>-1.616347</td>\n",
       "      <td>-0.390073</td>\n",
       "      <td>1</td>\n",
       "      <td>1</td>\n",
       "      <td>1.5</td>\n",
       "      <td>3</td>\n",
       "      <td>1.0</td>\n",
       "      <td>1</td>\n",
       "      <td>3</td>\n",
       "      <td>120.0</td>\n",
       "    </tr>\n",
       "    <tr>\n",
       "      <th>3</th>\n",
       "      <td>-1.469045</td>\n",
       "      <td>-0.046981</td>\n",
       "      <td>1</td>\n",
       "      <td>1</td>\n",
       "      <td>3.0</td>\n",
       "      <td>3</td>\n",
       "      <td>1.0</td>\n",
       "      <td>1</td>\n",
       "      <td>4</td>\n",
       "      <td>108.0</td>\n",
       "    </tr>\n",
       "    <tr>\n",
       "      <th>4</th>\n",
       "      <td>-1.592588</td>\n",
       "      <td>-1.302236</td>\n",
       "      <td>2</td>\n",
       "      <td>1</td>\n",
       "      <td>3.0</td>\n",
       "      <td>3</td>\n",
       "      <td>2.0</td>\n",
       "      <td>2</td>\n",
       "      <td>4</td>\n",
       "      <td>82.0</td>\n",
       "    </tr>\n",
       "    <tr>\n",
       "      <th>5</th>\n",
       "      <td>-1.635352</td>\n",
       "      <td>-0.281358</td>\n",
       "      <td>2</td>\n",
       "      <td>1</td>\n",
       "      <td>5.0</td>\n",
       "      <td>3</td>\n",
       "      <td>1.0</td>\n",
       "      <td>1</td>\n",
       "      <td>4</td>\n",
       "      <td>88.0</td>\n",
       "    </tr>\n",
       "  </tbody>\n",
       "</table>\n",
       "</div>"
      ],
      "text/plain": [
       "   temperatura  velocidad_viento  estacion  año  mes festivo  dia_semana  \\\n",
       "1    -1.636215          0.744965         1    1  1.0       1         2.0   \n",
       "2    -1.616347         -0.390073         1    1  1.5       3         1.0   \n",
       "3    -1.469045         -0.046981         1    1  3.0       3         1.0   \n",
       "4    -1.592588         -1.302236         2    1  3.0       3         2.0   \n",
       "5    -1.635352         -0.281358         2    1  5.0       3         1.0   \n",
       "\n",
       "  dia_laboral tiempo  cliente_casual  \n",
       "1           2      3           131.0  \n",
       "2           1      3           120.0  \n",
       "3           1      4           108.0  \n",
       "4           2      4            82.0  \n",
       "5           1      4            88.0  "
      ]
     },
     "execution_count": 133,
     "metadata": {},
     "output_type": "execute_result"
    }
   ],
   "source": [
    "df_casual.head()"
   ]
  },
  {
   "cell_type": "code",
   "execution_count": 134,
   "metadata": {},
   "outputs": [],
   "source": [
    "# añadimos las columnas estandarizadas\n",
    "\n",
    "df_registrado = pd.concat([df_estandarizada, df_registrado], axis=1, join='inner')"
   ]
  },
  {
   "cell_type": "code",
   "execution_count": 135,
   "metadata": {},
   "outputs": [
    {
     "data": {
      "text/html": [
       "<div>\n",
       "<style scoped>\n",
       "    .dataframe tbody tr th:only-of-type {\n",
       "        vertical-align: middle;\n",
       "    }\n",
       "\n",
       "    .dataframe tbody tr th {\n",
       "        vertical-align: top;\n",
       "    }\n",
       "\n",
       "    .dataframe thead th {\n",
       "        text-align: right;\n",
       "    }\n",
       "</style>\n",
       "<table border=\"1\" class=\"dataframe\">\n",
       "  <thead>\n",
       "    <tr style=\"text-align: right;\">\n",
       "      <th></th>\n",
       "      <th>temperatura</th>\n",
       "      <th>velocidad_viento</th>\n",
       "      <th>estacion</th>\n",
       "      <th>año</th>\n",
       "      <th>mes</th>\n",
       "      <th>festivo</th>\n",
       "      <th>tiempo</th>\n",
       "      <th>cliente_registrado</th>\n",
       "      <th>dia_semana_Domingo</th>\n",
       "      <th>dia_semana_Jueves</th>\n",
       "      <th>dia_semana_Lunes</th>\n",
       "      <th>dia_semana_Martes</th>\n",
       "      <th>dia_semana_Miercoles</th>\n",
       "      <th>dia_semana_Sabado</th>\n",
       "      <th>dia_semana_Viernes</th>\n",
       "      <th>no_dia_laboral</th>\n",
       "      <th>si_dia_laboral</th>\n",
       "    </tr>\n",
       "  </thead>\n",
       "  <tbody>\n",
       "    <tr>\n",
       "      <th>1</th>\n",
       "      <td>-1.636215</td>\n",
       "      <td>0.744965</td>\n",
       "      <td>1.0</td>\n",
       "      <td>1</td>\n",
       "      <td>1</td>\n",
       "      <td>1</td>\n",
       "      <td>2</td>\n",
       "      <td>670.0</td>\n",
       "      <td>0</td>\n",
       "      <td>0</td>\n",
       "      <td>1</td>\n",
       "      <td>0</td>\n",
       "      <td>0</td>\n",
       "      <td>0</td>\n",
       "      <td>0</td>\n",
       "      <td>1</td>\n",
       "      <td>0</td>\n",
       "    </tr>\n",
       "    <tr>\n",
       "      <th>2</th>\n",
       "      <td>-1.616347</td>\n",
       "      <td>-0.390073</td>\n",
       "      <td>1.0</td>\n",
       "      <td>1</td>\n",
       "      <td>1</td>\n",
       "      <td>2</td>\n",
       "      <td>2</td>\n",
       "      <td>1229.0</td>\n",
       "      <td>0</td>\n",
       "      <td>1</td>\n",
       "      <td>0</td>\n",
       "      <td>0</td>\n",
       "      <td>0</td>\n",
       "      <td>0</td>\n",
       "      <td>0</td>\n",
       "      <td>0</td>\n",
       "      <td>1</td>\n",
       "    </tr>\n",
       "  </tbody>\n",
       "</table>\n",
       "</div>"
      ],
      "text/plain": [
       "   temperatura  velocidad_viento  estacion  año  mes festivo  tiempo  \\\n",
       "1    -1.636215          0.744965       1.0    1    1       1       2   \n",
       "2    -1.616347         -0.390073       1.0    1    1       2       2   \n",
       "\n",
       "   cliente_registrado  dia_semana_Domingo  dia_semana_Jueves  \\\n",
       "1               670.0                   0                  0   \n",
       "2              1229.0                   0                  1   \n",
       "\n",
       "   dia_semana_Lunes  dia_semana_Martes  dia_semana_Miercoles  \\\n",
       "1                 1                  0                     0   \n",
       "2                 0                  0                     0   \n",
       "\n",
       "   dia_semana_Sabado  dia_semana_Viernes  no_dia_laboral  si_dia_laboral  \n",
       "1                  0                   0               1               0  \n",
       "2                  0                   0               0               1  "
      ]
     },
     "execution_count": 135,
     "metadata": {},
     "output_type": "execute_result"
    }
   ],
   "source": [
    "df_registrado.head(2)"
   ]
  },
  {
   "cell_type": "code",
   "execution_count": 141,
   "metadata": {},
   "outputs": [],
   "source": [
    "df_casual.to_pickle('../datos/bikes_casual_estand2.pkl')"
   ]
  },
  {
   "cell_type": "code",
   "execution_count": 142,
   "metadata": {},
   "outputs": [],
   "source": [
    "df_casual.to_csv('../datos/bikes_casual_estand2.csv')"
   ]
  },
  {
   "cell_type": "code",
   "execution_count": 143,
   "metadata": {},
   "outputs": [],
   "source": [
    "df_registrado.to_pickle('../datos/bikes_registrado_estand2.pkl')"
   ]
  },
  {
   "cell_type": "code",
   "execution_count": 144,
   "metadata": {},
   "outputs": [],
   "source": [
    "df_registrado.to_csv('../datos/bikes_registrado_estand2.csv')"
   ]
  }
 ],
 "metadata": {
  "kernelspec": {
   "display_name": "adalabenv",
   "language": "python",
   "name": "python3"
  },
  "language_info": {
   "codemirror_mode": {
    "name": "ipython",
    "version": 3
   },
   "file_extension": ".py",
   "mimetype": "text/x-python",
   "name": "python",
   "nbconvert_exporter": "python",
   "pygments_lexer": "ipython3",
   "version": "3.9.7"
  },
  "orig_nbformat": 4,
  "vscode": {
   "interpreter": {
    "hash": "0b8bbabd87d3ce636409443d1398e5656bf795e33c753b5e821c4b969f4e6c41"
   }
  }
 },
 "nbformat": 4,
 "nbformat_minor": 2
}
